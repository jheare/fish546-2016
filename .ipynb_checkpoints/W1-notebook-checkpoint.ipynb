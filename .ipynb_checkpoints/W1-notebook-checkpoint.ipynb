{
 "metadata": {
  "name": "",
  "signature": "sha256:85b949ea81a637a173969831b4a17a40256ddc3245e6b8ceb184bab3e9779cd7"
 },
 "nbformat": 3,
 "nbformat_minor": 0,
 "worksheets": [
  {
   "cells": [
    {
     "cell_type": "markdown",
     "metadata": {},
     "source": [
      "test: writing text"
     ]
    },
    {
     "cell_type": "code",
     "collapsed": false,
     "input": [
      "pwd"
     ],
     "language": "python",
     "metadata": {},
     "outputs": [
      {
       "metadata": {},
       "output_type": "pyout",
       "prompt_number": 2,
       "text": [
        "u'/Users/friedmanlab/Desktop/fish546-2015'"
       ]
      }
     ],
     "prompt_number": 2
    },
    {
     "cell_type": "code",
     "collapsed": false,
     "input": [
      "ls"
     ],
     "language": "python",
     "metadata": {},
     "outputs": [
      {
       "output_type": "stream",
       "stream": "stdout",
       "text": [
        "W1-notebook.ipynb  \u001b[34mdata\u001b[m\u001b[m/\r\n"
       ]
      }
     ],
     "prompt_number": 3
    },
    {
     "cell_type": "code",
     "collapsed": false,
     "input": [
      "ls data/*"
     ],
     "language": "python",
     "metadata": {},
     "outputs": [
      {
       "output_type": "stream",
       "stream": "stdout",
       "text": [
        "data/BlackAbalone_Contigs_v3.fa\r\n"
       ]
      }
     ],
     "prompt_number": 4
    },
    {
     "cell_type": "code",
     "collapsed": false,
     "input": [
      "!head data/BlackAbalone_Contigs_v3.fa"
     ],
     "language": "python",
     "metadata": {},
     "outputs": [
      {
       "output_type": "stream",
       "stream": "stdout",
       "text": [
        ">Roberts_20100712_CC_F3_trimmed_contig_1 Average coverage: 38.44\r\n",
        "ATTTAAAGTGTTTGATAAAGACAATAACGGCTTCATCAGTAAATCCGAGCTCCGGCAGGT\r\n",
        "CATGGTGTCTTTGGAGGGTCACAAGGTCACCGAGCAGGAAATCAGCGAC\r\n",
        ">Roberts_20100712_CC_F3_trimmed_contig_2 Average coverage: 153.77\r\n",
        "CTTCAGCACAACTCAGGTGTCTGTCCGGCCGTTACAGCACACCCAGTTTGAGCGGTTCAT\r\n",
        "CCCTGCAGCCTACCCATATTACACCAGTGCCTTCTCCATGATGTTTGGAGTCCTTATACT\r\n",
        "GAGTATAGTGTTCTCATGCCCTGTCCTTCTTGGATTCC\r\n",
        ">Roberts_20100712_CC_F3_trimmed_contig_3 Average coverage: 175.58\r\n",
        "TGGAGGTGGGGTGCCTCATAGATGGTTTGGACTTGCCGGTCCTATAGGAGCAGGGGAATG\r\n",
        "GGGAAACCCAAGGTCGAGCTACCTGACACACGCCTTGGCCG\r\n"
       ]
      }
     ],
     "prompt_number": 5
    },
    {
     "cell_type": "code",
     "collapsed": false,
     "input": [],
     "language": "python",
     "metadata": {},
     "outputs": []
    }
   ],
   "metadata": {}
  }
 ]
}
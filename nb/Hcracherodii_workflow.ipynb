{
 "metadata": {
  "name": "",
  "signature": "sha256:31c6433a755d55545020b9d129a54085700df02e727bbfffb91b683119061133"
 },
 "nbformat": 3,
 "nbformat_minor": 0,
 "worksheets": [
  {
   "cells": [
    {
     "cell_type": "heading",
     "level": 1,
     "metadata": {},
     "source": [
      "IPython Notebook and data analysis workflow for the black abalone (Haliotis cracherodii) transcriptome manuscript"
     ]
    },
    {
     "cell_type": "markdown",
     "metadata": {},
     "source": [
      "To execute the IPython Notebook in its entirety you will need:\n",
      "\n",
      "IPython/\n",
      "NBCI Blast/\n",
      "R/\n",
      "rpy2 (interface to R from Python)/\n",
      "SQLShare-pythonclient "
     ]
    },
    {
     "cell_type": "markdown",
     "metadata": {},
     "source": [
      "Instructions for use.\n",
      "\n",
      "Identify the location (local) of the blast database you would like to use and indicate path in the cell below. {db}\n",
      "\n",
      "Identify the location of your sqlshare-pythonclient/tools and indicate path in the cell below. {sqls}\n",
      "\n",
      "Change the input to the {usr} variable to reflect your SQLShare user account."
     ]
    },
    {
     "cell_type": "code",
     "collapsed": false,
     "input": [
      "#Variables user needs to modify accordingly\n",
      "\n",
      "db=\"~/blastdb/uniprot_sprot\"\n",
      "\n",
      "sqls=\"~/sqlshare-pythonclient/tools/\"\n",
      "\n",
      "usr=\"lisa418@washington.edu\""
     ],
     "language": "python",
     "metadata": {},
     "outputs": [],
     "prompt_number": 2
    },
    {
     "cell_type": "heading",
     "level": 2,
     "metadata": {},
     "source": [
      "Examining Haliotis cracherodii digestive gland de novo transcriptome"
     ]
    },
    {
     "cell_type": "code",
     "collapsed": false,
     "input": [
      "#Look at first 2 lines\n",
      "\n",
      "!head -2 ./data/Hcracherodii_v1.fasta"
     ],
     "language": "python",
     "metadata": {},
     "outputs": [
      {
       "output_type": "stream",
       "stream": "stdout",
       "text": [
        "head: Hcracherodii_v1.fasta: No such file or directory\r\n"
       ]
      }
     ],
     "prompt_number": 4
    },
    {
     "cell_type": "heading",
     "level": 2,
     "metadata": {},
     "source": [
      "Annotation of transcriptome"
     ]
    },
    {
     "cell_type": "markdown",
     "metadata": {},
     "source": [
      "In order to annoate the H. croacherodii transcriptome blastx was used to compare sequences to the UniProtKB/Swiss_Prot database.\n",
      "The specific code is"
     ]
    },
    {
     "cell_type": "markdown",
     "metadata": {},
     "source": [
      "blastx\n",
      "-query /Users/srlab/Desktop/Lisa/Hcracherodii_v1.fasta\n",
      "-db /Volumes/Data/blast_db/uniprot_sprot\n",
      "-max_target_seqs 1\n",
      "-max_hsps 1\n",
      "-outfmt 6\n",
      "-evalue 1E-05\n",
      "-num_threads 16\n",
      "-out /Users/srlab/Desktop/Lisa/Hcracherodii_v1_uniprot_sprot.tab"
     ]
    },
    {
     "cell_type": "markdown",
     "metadata": {},
     "source": [
      "This analysis could be run within notebook assuming user has blast installed and access to the protein database."
     ]
    },
    {
     "cell_type": "code",
     "collapsed": false,
     "input": [
      "#Run Blastx against local copy of UniProt/SwissProt Database\n",
      "!blastx \\\n",
      "-query ./data/Hcracherodii_v1.fasta \\\n",
      "-db {db} \\\n",
      "-out ./wd/Hcracherodii_v1_uniprot_sprot.tab \\\n",
      "-evalue 1E-05 \\\n",
      "-max_target_seqs 1 \\\n",
      "-max_hsps 1 \\\n",
      "-outfmt 6 \\\n",
      "-num_threads 8"
     ],
     "language": "python",
     "metadata": {},
     "outputs": [
      {
       "output_type": "stream",
       "stream": "stdout",
       "text": [
        "/bin/sh: blastx: command not found\r\n"
       ]
      }
     ],
     "prompt_number": 6
    },
    {
     "cell_type": "code",
     "collapsed": false,
     "input": [],
     "language": "python",
     "metadata": {},
     "outputs": []
    }
   ],
   "metadata": {}
  }
 ]
}
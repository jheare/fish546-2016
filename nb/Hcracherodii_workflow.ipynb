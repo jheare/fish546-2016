{
 "metadata": {
  "name": "",
  "signature": "sha256:64f0d9297daf3059aa423f8783f04a8c8ec5730be84a65c0896679ccf8cfb90d"
 },
 "nbformat": 3,
 "nbformat_minor": 0,
 "worksheets": [
  {
   "cells": [
    {
     "cell_type": "heading",
     "level": 1,
     "metadata": {},
     "source": [
      "IPython Notebook and data analysis workflow for the black abalone (Haliotis cracherodii) transcriptome manuscript"
     ]
    },
    {
     "cell_type": "markdown",
     "metadata": {},
     "source": [
      "To execute the IPython Notebook in its entirety you will need:\n",
      "\n",
      "IPython/\n",
      "NBCI Blast/\n",
      "R/\n",
      "rpy2 (interface to R from Python)/\n",
      "SQLShare-pythonclient "
     ]
    },
    {
     "cell_type": "markdown",
     "metadata": {},
     "source": [
      "Instructions for use.\n",
      "\n",
      "Identify the location (local) of the blast database you would like to use and indicate path in the cell below. {db}\n",
      "\n",
      "Identify the location of your sqlshare-pythonclient/tools and indicate path in the cell below. {sqls}\n",
      "\n",
      "Change the input to the {usr} variable to reflect your SQLShare user account."
     ]
    },
    {
     "cell_type": "code",
     "collapsed": false,
     "input": [
      "#Variables user needs to modify accordingly\n",
      "\n",
      "db=\"~/blastdb/uniprot_sprot\"\n",
      "\n",
      "sqls=\"~/sqlshare-pythonclient/tools/\"\n",
      "\n",
      "usr=\"lisa418@washington.edu\""
     ],
     "language": "python",
     "metadata": {},
     "outputs": [],
     "prompt_number": 2
    },
    {
     "cell_type": "heading",
     "level": 2,
     "metadata": {},
     "source": [
      "Examining Haliotis cracherodii digestive gland de novo transcriptome"
     ]
    },
    {
     "cell_type": "code",
     "collapsed": false,
     "input": [
      "#Look at first 2 lines\n",
      "\n",
      "!head -2 ./data/Phel_transcriptome.fasta"
     ],
     "language": "python",
     "metadata": {},
     "outputs": [
      {
       "output_type": "stream",
       "stream": "stdout",
       "text": [
        "head: Hcracherodii_v1.fasta: No such file or directory\r\n"
       ]
      }
     ],
     "prompt_number": 4
    },
    {
     "cell_type": "code",
     "collapsed": false,
     "input": [],
     "language": "python",
     "metadata": {},
     "outputs": []
    }
   ],
   "metadata": {}
  }
 ]
}
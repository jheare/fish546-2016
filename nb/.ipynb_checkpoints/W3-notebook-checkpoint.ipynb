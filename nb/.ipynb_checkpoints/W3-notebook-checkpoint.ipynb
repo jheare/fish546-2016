{
 "metadata": {
  "name": "",
  "signature": "sha256:1aaa757d99a1f6c2b722e9c57f31edfd46356a85bc31cbb081abde98e45368df"
 },
 "nbformat": 3,
 "nbformat_minor": 0,
 "worksheets": []
}
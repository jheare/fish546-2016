{
 "metadata": {
  "name": "",
  "signature": "sha256:a7db26a28491868606e5b3d3e57e4cbe3982f02491530401165fcb86948e7154"
 },
 "nbformat": 3,
 "nbformat_minor": 0,
 "worksheets": [
  {
   "cells": [
    {
     "cell_type": "heading",
     "level": 2,
     "metadata": {},
     "source": [
      "Raw Black Abalone (Carmel Only) SOLiD Data"
     ]
    },
    {
     "cell_type": "markdown",
     "metadata": {},
     "source": [
      "Carmel Control Fasta: http://eagle.fish.washington.edu/whale/fish546/module3_assembly/LC/Roberts_20100712_CC_F3.csfasta\n",
      "Carmel Control Qual: http://eagle.fish.washington.edu/whale/fish546/module3_assembly/LC/Roberts_20100712_CC_F3_QV.qual"
     ]
    },
    {
     "cell_type": "markdown",
     "metadata": {},
     "source": [
      "Carmel Exposed Fasta: http://eagle.fish.washington.edu/whale/fish546/module3_assembly/LC/Roberts_20100712_CE_F3.csfasta\n",
      "Carmel Exposed Qual: http://eagle.fish.washington.edu/whale/fish546/module3_assembly/LC/Roberts_20100712_CE_F3_QV.qual"
     ]
    },
    {
     "cell_type": "heading",
     "level": 2,
     "metadata": {},
     "source": [
      "Download these files locally"
     ]
    },
    {
     "cell_type": "code",
     "collapsed": false,
     "input": [
      "ls"
     ],
     "language": "python",
     "metadata": {},
     "outputs": [
      {
       "output_type": "stream",
       "stream": "stdout",
       "text": [
        "BlackAbalone_Contigs_v3.fa      Roberts_20100712_CC_F3.csfasta\r\n"
       ]
      }
     ],
     "prompt_number": 11
    },
    {
     "cell_type": "code",
     "collapsed": false,
     "input": [
      "!curl -O http://eagle.fish.washington.edu/whale/fish546/module3_assembly/LC/Roberts_20100712_CC_F3.csfasta"
     ],
     "language": "python",
     "metadata": {},
     "outputs": [
      {
       "output_type": "stream",
       "stream": "stdout",
       "text": [
        "  % Total    % Received % Xferd  Average Speed   Time    Time     Time  Current\r\n",
        "                                 Dload  Upload   Total   Spent    Left  Speed\r\n",
        "\r",
        "  0     0    0     0    0     0      0      0 --:--:-- --:--:-- --:--:--     0"
       ]
      },
      {
       "output_type": "stream",
       "stream": "stdout",
       "text": [
        "\r",
        "  0 2297M    0  465k    0     0  2069k      0  0:18:56 --:--:--  0:18:56 2068k"
       ]
      },
      {
       "output_type": "stream",
       "stream": "stdout",
       "text": [
        "\r",
        "  0 2297M    0 6013k    0     0  4903k      0  0:07:59  0:00:01  0:07:58 4901k"
       ]
      },
      {
       "output_type": "stream",
       "stream": "stdout",
       "text": [
        "\r",
        "  0 2297M    0 11.5M    0     0  5323k      0  0:07:22  0:00:02  0:07:20 5321k"
       ]
      },
      {
       "output_type": "stream",
       "stream": "stdout",
       "text": [
        "\r",
        "  0 2297M    0 17.7M    0     0  5644k      0  0:06:56  0:00:03  0:06:53 5643k"
       ]
      },
      {
       "output_type": "stream",
       "stream": "stdout",
       "text": [
        "\r",
        "  1 2297M    1 23.4M    0     0  5687k      0  0:06:53  0:00:04  0:06:49 5685k"
       ]
      },
      {
       "output_type": "stream",
       "stream": "stdout",
       "text": [
        "\r",
        "  1 2297M    1 28.9M    0     0  5670k      0  0:06:54  0:00:05  0:06:49 5832k"
       ]
      },
      {
       "output_type": "stream",
       "stream": "stdout",
       "text": [
        "\r",
        "  1 2297M    1 35.1M    0     0  5786k      0  0:06:46  0:00:06  0:06:40 6001k"
       ]
      },
      {
       "output_type": "stream",
       "stream": "stdout",
       "text": [
        "\r",
        "  1 2297M    1 40.7M    0     0  5775k      0  0:06:47  0:00:07  0:06:40 5977k"
       ]
      },
      {
       "output_type": "stream",
       "stream": "stdout",
       "text": [
        "\r",
        "  2 2297M    2 46.3M    0     0  5772k      0  0:06:47  0:00:08  0:06:39 5856k"
       ]
      },
      {
       "output_type": "stream",
       "stream": "stdout",
       "text": [
        "\r",
        "  2 2297M    2 51.3M    0     0  5702k      0  0:06:52  0:00:09  0:06:43 5715k"
       ]
      },
      {
       "output_type": "stream",
       "stream": "stdout",
       "text": [
        "\r",
        "  2 2297M    2 56.8M    0     0  5684k      0  0:06:53  0:00:10  0:06:43 5699k"
       ]
      },
      {
       "output_type": "stream",
       "stream": "stdout",
       "text": [
        "\r",
        "  2 2297M    2 61.2M    0     0  5589k      0  0:07:01  0:00:11  0:06:50 5345k"
       ]
      },
      {
       "output_type": "stream",
       "stream": "stdout",
       "text": [
        "\r",
        "  2 2297M    2 66.2M    0     0  5549k      0  0:07:04  0:00:12  0:06:52 5223k"
       ]
      },
      {
       "output_type": "stream",
       "stream": "stdout",
       "text": [
        "\r",
        "  3 2297M    3 71.7M    0     0  5557k      0  0:07:03  0:00:13  0:06:50 5202k"
       ]
      },
      {
       "output_type": "stream",
       "stream": "stdout",
       "text": [
        "\r",
        "  3 2297M    3 78.6M    0     0  5656k      0  0:06:56  0:00:14  0:06:42 5571k"
       ]
      },
      {
       "output_type": "stream",
       "stream": "stdout",
       "text": [
        "\r",
        "  3 2297M    3 86.3M    0     0  5809k      0  0:06:45  0:00:15  0:06:30 6067k"
       ]
      },
      {
       "output_type": "stream",
       "stream": "stdout",
       "text": [
        "\r",
        "  3 2297M    3 91.7M    0     0  5790k      0  0:06:46  0:00:16  0:06:30 6242k"
       ]
      },
      {
       "output_type": "stream",
       "stream": "stdout",
       "text": [
        "\r",
        "  4 2297M    4 98.0M    0     0  5829k      0  0:06:43  0:00:17  0:06:26 6512k"
       ]
      },
      {
       "output_type": "stream",
       "stream": "stdout",
       "text": [
        "\r",
        "  4 2297M    4  103M    0     0  5810k      0  0:06:44  0:00:18  0:06:26 6480k"
       ]
      },
      {
       "output_type": "stream",
       "stream": "stdout",
       "text": [
        "\r",
        "  4 2297M    4  108M    0     0  5770k      0  0:06:47  0:00:19  0:06:28 6095k"
       ]
      },
      {
       "output_type": "stream",
       "stream": "stdout",
       "text": [
        "\r",
        "  4 2297M    4  113M    0     0  5767k      0  0:06:47  0:00:20  0:06:27 5639k"
       ]
      },
      {
       "output_type": "stream",
       "stream": "stdout",
       "text": [
        "\r",
        "  5 2297M    5  121M    0     0  5852k      0  0:06:42  0:00:21  0:06:21 6052k"
       ]
      },
      {
       "output_type": "stream",
       "stream": "stdout",
       "text": [
        "\r",
        "  5 2297M    5  130M    0     0  5990k      0  0:06:32  0:00:22  0:06:10 6546k"
       ]
      },
      {
       "output_type": "stream",
       "stream": "stdout",
       "text": [
        "\r",
        "  6 2297M    6  138M    0     0  6107k      0  0:06:25  0:00:23  0:06:02 7190k"
       ]
      },
      {
       "output_type": "stream",
       "stream": "stdout",
       "text": [
        "\r",
        "  6 2297M    6  144M    0     0  6111k      0  0:06:25  0:00:24  0:06:01 7424k"
       ]
      },
      {
       "output_type": "stream",
       "stream": "stdout",
       "text": [
        "\r",
        "  6 2297M    6  149M    0     0  6087k      0  0:06:26  0:00:25  0:06:01 7382k"
       ]
      },
      {
       "output_type": "stream",
       "stream": "stdout",
       "text": [
        "\r",
        "  6 2297M    6  156M    0     0  6097k      0  0:06:25  0:00:26  0:05:59 7136k"
       ]
      },
      {
       "output_type": "stream",
       "stream": "stdout",
       "text": [
        "\r",
        "  7 2297M    7  164M    0     0  6169k      0  0:06:21  0:00:27  0:05:54 6963k"
       ]
      },
      {
       "output_type": "stream",
       "stream": "stdout",
       "text": [
        "\r",
        "  7 2297M    7  170M    0     0  6177k      0  0:06:20  0:00:28  0:05:52 6502k"
       ]
      },
      {
       "output_type": "stream",
       "stream": "stdout",
       "text": [
        "\r",
        "  7 2297M    7  177M    0     0  6214k      0  0:06:18  0:00:29  0:05:49 6714k"
       ]
      },
      {
       "output_type": "stream",
       "stream": "stdout",
       "text": [
        "\r",
        "  8 2297M    8  184M    0     0  6259k      0  0:06:15  0:00:30  0:05:45 7124k"
       ]
      },
      {
       "output_type": "stream",
       "stream": "stdout",
       "text": [
        "\r",
        "  8 2297M    8  193M    0     0  6330k      0  0:06:11  0:00:31  0:05:40 7553k"
       ]
      },
      {
       "output_type": "stream",
       "stream": "stdout",
       "text": [
        "\r",
        "  8 2297M    8  201M    0     0  6408k      0  0:06:07  0:00:32  0:05:35 7713k"
       ]
      },
      {
       "output_type": "stream",
       "stream": "stdout",
       "text": [
        "\r",
        "  9 2297M    9  207M    0     0  6381k      0  0:06:08  0:00:33  0:05:35 7535k"
       ]
      },
      {
       "output_type": "stream",
       "stream": "stdout",
       "text": [
        "\r",
        "  9 2297M    9  212M    0     0  6348k      0  0:06:10  0:00:34  0:05:36 7126k"
       ]
      },
      {
       "output_type": "stream",
       "stream": "stdout",
       "text": [
        "\r",
        "  9 2297M    9  218M    0     0  6359k      0  0:06:10  0:00:35  0:05:35 6961k"
       ]
      },
      {
       "output_type": "stream",
       "stream": "stdout",
       "text": [
        "\r",
        "  9 2297M    9  227M    0     0  6417k      0  0:06:06  0:00:36  0:05:30 6958k"
       ]
      },
      {
       "output_type": "stream",
       "stream": "stdout",
       "text": [
        "\r",
        " 10 2297M   10  230M    0     0  6354k      0  0:06:10  0:00:37  0:05:33 6002k"
       ]
      },
      {
       "output_type": "stream",
       "stream": "stdout",
       "text": [
        "\r",
        " 10 2297M   10  235M    0     0  6302k      0  0:06:13  0:00:38  0:05:35 5774k"
       ]
      },
      {
       "output_type": "stream",
       "stream": "stdout",
       "text": [
        "\r",
        " 10 2297M   10  239M    0     0  6253k      0  0:06:16  0:00:39  0:05:37 5603k"
       ]
      },
      {
       "output_type": "stream",
       "stream": "stdout",
       "text": [
        "\r",
        " 10 2297M   10  243M    0     0  6198k      0  0:06:19  0:00:40  0:05:39 5068k"
       ]
      },
      {
       "output_type": "stream",
       "stream": "stdout",
       "text": [
        "\r",
        " 10 2297M   10  247M    0     0  6152k      0  0:06:22  0:00:41  0:05:41 4233k"
       ]
      },
      {
       "output_type": "stream",
       "stream": "stdout",
       "text": [
        "\r",
        " 10 2297M   10  251M    0     0  6090k      0  0:06:26  0:00:42  0:05:44 4122k"
       ]
      },
      {
       "output_type": "stream",
       "stream": "stdout",
       "text": [
        "\r",
        " 11 2297M   11  257M    0     0  6095k      0  0:06:26  0:00:43  0:05:43 4514k"
       ]
      },
      {
       "output_type": "stream",
       "stream": "stdout",
       "text": [
        "\r",
        " 11 2297M   11  265M    0     0  6155k      0  0:06:22  0:00:44  0:05:38 5388k"
       ]
      },
      {
       "output_type": "stream",
       "stream": "stdout",
       "text": [
        "\r",
        " 11 2297M   11  274M    0     0  6221k      0  0:06:18  0:00:45  0:05:33 6403k"
       ]
      },
      {
       "output_type": "stream",
       "stream": "stdout",
       "text": [
        "\r",
        " 12 2297M   12  284M    0     0  6305k      0  0:06:13  0:00:46  0:05:27 7568k"
       ]
      },
      {
       "output_type": "stream",
       "stream": "stdout",
       "text": [
        "\r",
        " 12 2297M   12  294M    0     0  6377k      0  0:06:08  0:00:47  0:05:21 8801k"
       ]
      },
      {
       "output_type": "stream",
       "stream": "stdout",
       "text": [
        "\r",
        " 13 2297M   13  303M    0     0  6453k      0  0:06:04  0:00:48  0:05:16 9547k"
       ]
      },
      {
       "output_type": "stream",
       "stream": "stdout",
       "text": [
        "\r",
        " 13 2297M   13  314M    0     0  6532k      0  0:06:00  0:00:49  0:05:11 9864k"
       ]
      },
      {
       "output_type": "stream",
       "stream": "stdout",
       "text": [
        "\r",
        " 14 2297M   14  324M    0     0  6611k      0  0:05:55  0:00:50  0:05:05  9.9M"
       ]
      },
      {
       "output_type": "stream",
       "stream": "stdout",
       "text": [
        "\r",
        " 14 2297M   14  331M    0     0  6624k      0  0:05:55  0:00:51  0:05:04 9577k"
       ]
      },
      {
       "output_type": "stream",
       "stream": "stdout",
       "text": [
        "\r",
        " 14 2297M   14  337M    0     0  6618k      0  0:05:55  0:00:52  0:05:03 8897k"
       ]
      },
      {
       "output_type": "stream",
       "stream": "stdout",
       "text": [
        "\r",
        " 15 2297M   15  345M    0     0  6647k      0  0:05:53  0:00:53  0:05:00 8517k"
       ]
      },
      {
       "output_type": "stream",
       "stream": "stdout",
       "text": [
        "\r",
        " 15 2297M   15  354M    0     0  6687k      0  0:05:51  0:00:54  0:04:57 8221k"
       ]
      },
      {
       "output_type": "stream",
       "stream": "stdout",
       "text": [
        "\r",
        " 15 2297M   15  362M    0     0  6689k      0  0:05:51  0:00:55  0:04:56 7433k"
       ]
      },
      {
       "output_type": "stream",
       "stream": "stdout",
       "text": [
        "\r",
        " 15 2297M   15  365M    0     0  6657k      0  0:05:53  0:00:56  0:04:57 6993k"
       ]
      },
      {
       "output_type": "stream",
       "stream": "stdout",
       "text": [
        "\r",
        " 16 2297M   16  374M    0     0  6706k      0  0:05:50  0:00:57  0:04:53 7625k"
       ]
      },
      {
       "output_type": "stream",
       "stream": "stdout",
       "text": [
        "\r",
        " 16 2297M   16  385M    0     0  6779k      0  0:05:47  0:00:58  0:04:49 8182k"
       ]
      },
      {
       "output_type": "stream",
       "stream": "stdout",
       "text": [
        "\r",
        " 17 2297M   17  391M    0     0  6775k      0  0:05:47  0:00:59  0:04:48 7728k"
       ]
      },
      {
       "output_type": "stream",
       "stream": "stdout",
       "text": [
        "\r",
        " 17 2297M   17  399M    0     0  6794k      0  0:05:46  0:01:00  0:04:46 8026k"
       ]
      },
      {
       "output_type": "stream",
       "stream": "stdout",
       "text": [
        "\r",
        " 17 2297M   17  409M    0     0  6841k      0  0:05:43  0:01:01  0:04:42 8918k"
       ]
      },
      {
       "output_type": "stream",
       "stream": "stdout",
       "text": [
        "\r",
        " 18 2297M   18  418M    0     0  6882k      0  0:05:41  0:01:02  0:04:39 8900k"
       ]
      },
      {
       "output_type": "stream",
       "stream": "stdout",
       "text": [
        "\r",
        " 18 2297M   18  427M    0     0  6916k      0  0:05:40  0:01:03  0:04:37 8520k"
       ]
      },
      {
       "output_type": "stream",
       "stream": "stdout",
       "text": [
        "\r",
        " 18 2297M   18  436M    0     0  6954k      0  0:05:38  0:01:04  0:04:34 9066k"
       ]
      },
      {
       "output_type": "stream",
       "stream": "stdout",
       "text": [
        "\r",
        " 19 2297M   19  445M    0     0  6991k      0  0:05:36  0:01:05  0:04:31 9369k"
       ]
      },
      {
       "output_type": "stream",
       "stream": "stdout",
       "text": [
        "\r",
        " 19 2297M   19  455M    0     0  7038k      0  0:05:34  0:01:06  0:04:28 9447k"
       ]
      },
      {
       "output_type": "stream",
       "stream": "stdout",
       "text": [
        "\r",
        " 20 2297M   20  465M    0     0  7090k      0  0:05:31  0:01:07  0:04:24 9680k"
       ]
      },
      {
       "output_type": "stream",
       "stream": "stdout",
       "text": [
        "\r",
        " 20 2297M   20  475M    0     0  7139k      0  0:05:29  0:01:08  0:04:21 9952k"
       ]
      },
      {
       "output_type": "stream",
       "stream": "stdout",
       "text": [
        "\r",
        " 21 2297M   21  485M    0     0  7178k      0  0:05:27  0:01:09  0:04:18  9.8M"
       ]
      },
      {
       "output_type": "stream",
       "stream": "stdout",
       "text": [
        "\r",
        " 21 2297M   21  495M    0     0  7231k      0  0:05:25  0:01:10  0:04:15 10.1M"
       ]
      },
      {
       "output_type": "stream",
       "stream": "stdout",
       "text": [
        "\r",
        " 22 2297M   22  506M    0     0  7282k      0  0:05:23  0:01:11  0:04:12 10.2M"
       ]
      },
      {
       "output_type": "stream",
       "stream": "stdout",
       "text": [
        "\r",
        " 22 2297M   22  516M    0     0  73"
       ]
      },
      {
       "output_type": "stream",
       "stream": "stdout",
       "text": [
        "25k      0  0:05:21  0:01:12  0:04:09 10.2M"
       ]
      },
      {
       "output_type": "stream",
       "stream": "stdout",
       "text": [
        "\r",
        " 22 2297M   22  522M    0     0  7310k      0  0:05:21  0:01:13  0:04:08 9640k"
       ]
      },
      {
       "output_type": "stream",
       "stream": "stdout",
       "text": [
        "\r",
        " 23 2297M   23  531M    0     0  7330k      0  0:05:21  0:01:14  0:04:07 9436k"
       ]
      },
      {
       "output_type": "stream",
       "stream": "stdout",
       "text": [
        "\r",
        " 23 2297M   23  540M    0     0  7358k      0  0:05:19  0:01:15  0:04:04 9133k"
       ]
      },
      {
       "output_type": "stream",
       "stream": "stdout",
       "text": [
        "\r",
        " 23 2297M   23  547M    0     0  7354k      0  0:05:19  0:01:16  0:04:03 8376k"
       ]
      },
      {
       "output_type": "stream",
       "stream": "stdout",
       "text": [
        "\r",
        " 24 2297M   24  557M    0     0  7394k      0  0:05:18  0:01:17  0:04:01 8402k"
       ]
      },
      {
       "output_type": "stream",
       "stream": "stdout",
       "text": [
        "\r",
        " 24 2297M   24  567M    0     0  7425k      0  0:05:16  0:01:18  0:03:58 9116k"
       ]
      },
      {
       "output_type": "stream",
       "stream": "stdout",
       "text": [
        "\r",
        " 25 2297M   25  577M    0     0  7463k      0  0:05:15  0:01:19  0:03:56 9443k"
       ]
      },
      {
       "output_type": "stream",
       "stream": "stdout",
       "text": [
        "\r",
        " 25 2297M   25  584M    0     0  7459k      0  0:05:15  0:01:20  0:03:55 8981k"
       ]
      },
      {
       "output_type": "stream",
       "stream": "stdout",
       "text": [
        "\r",
        " 25 2297M   25  590M    0     0  7445k      0  0:05:16  0:01:21  0:03:55 8833k"
       ]
      },
      {
       "output_type": "stream",
       "stream": "stdout",
       "text": [
        "\r",
        " 26 2297M   26  598M    0     0  7450k      0  0:05:15  0:01:22  0:03:53 8319k"
       ]
      },
      {
       "output_type": "stream",
       "stream": "stdout",
       "text": [
        "\r",
        " 26 2297M   26  607M    0     0  7472k      0  0:05:14  0:01:23  0:03:51 8207k"
       ]
      },
      {
       "output_type": "stream",
       "stream": "stdout",
       "text": [
        "\r",
        " 26 2297M   26  616M    0     0  7495k      0  0:05:13  0:01:24  0:03:49 7987k"
       ]
      },
      {
       "output_type": "stream",
       "stream": "stdout",
       "text": [
        "\r",
        " 27 2297M   27  626M    0     0  7524k      0  0:05:12  0:01:25  0:03:47 8565k"
       ]
      },
      {
       "output_type": "stream",
       "stream": "stdout",
       "text": [
        "\r",
        " 27 2297M   27  636M    0     0  7559k      0  0:05:11  0:01:26  0:03:45 9401k"
       ]
      },
      {
       "output_type": "stream",
       "stream": "stdout",
       "text": [
        "\r",
        " 27 2297M   27  642M    0     0  7530k      0  0:05:12  0:01:27  0:03:45 8798k"
       ]
      },
      {
       "output_type": "stream",
       "stream": "stdout",
       "text": [
        "\r",
        " 28 2297M   28  646M    0     0  7501k      0  0:05:13  0:01:28  0:03:45 7982k"
       ]
      },
      {
       "output_type": "stream",
       "stream": "stdout",
       "text": [
        "\r",
        " 28 2297M   28  652M    0     0  7492k      0  0:05:14  0:01:29  0:03:45 7447k"
       ]
      },
      {
       "output_type": "stream",
       "stream": "stdout",
       "text": [
        "\r",
        " 28 2297M   28  661M    0     0  7507k      0  0:05:13  0:01:30  0:03:43 7217k"
       ]
      },
      {
       "output_type": "stream",
       "stream": "stdout",
       "text": [
        "\r",
        " 29 2297M   29  670M    0     0  7527k      0  0:05:12  0:01:31  0:03:41 6979k"
       ]
      },
      {
       "output_type": "stream",
       "stream": "stdout",
       "text": [
        "\r",
        " 29 2297M   29  677M    0     0  7521k      0  0:05:12  0:01:32  0:03:40 7355k"
       ]
      },
      {
       "output_type": "stream",
       "stream": "stdout",
       "text": [
        "\r",
        " 29 2297M   29  686M    0     0  7543k      0  0:05:11  0:01:33  0:03:38 8289k"
       ]
      },
      {
       "output_type": "stream",
       "stream": "stdout",
       "text": [
        "\r",
        " 30 2297M   30  696M    0     0  7571k      0  0:05:10  0:01:34  0:03:36 8979k"
       ]
      },
      {
       "output_type": "stream",
       "stream": "stdout",
       "text": [
        "\r",
        " 30 2297M   30  702M    0     0  7551k      0  0:05:11  0:01:35  0:03:36 8343k"
       ]
      },
      {
       "output_type": "stream",
       "stream": "stdout",
       "text": [
        "\r",
        " 30 2297M   30  709M    0     0  7545k      0  0:05:11  0:01:36  0:03:35 7884k"
       ]
      },
      {
       "output_type": "stream",
       "stream": "stdout",
       "text": [
        "\r",
        " 31 2297M   31  717M    0     0  7561k      0  0:05:11  0:01:37  0:03:34 8299k"
       ]
      },
      {
       "output_type": "stream",
       "stream": "stdout",
       "text": [
        "\r",
        " 31 2297M   31  727M    0     0  7583k      0  0:05:10  0:01:38  0:03:32 8334k"
       ]
      },
      {
       "output_type": "stream",
       "stream": "stdout",
       "text": [
        "\r",
        " 32 2297M   32  735M    0     0  7527k      0  0:05:12  0:01:40  0:03:32 6827k"
       ]
      },
      {
       "output_type": "stream",
       "stream": "stdout",
       "text": [
        "\r",
        " 32 2297M   32  736M    0     0  7523k      0  0:05:12  0:01:40  0:03:32 6983k"
       ]
      },
      {
       "output_type": "stream",
       "stream": "stdout",
       "text": [
        "\r",
        " 32 2297M   32  743M    0     0  7520k      0  0:05:12  0:01:41  0:03:31 7034k"
       ]
      },
      {
       "output_type": "stream",
       "stream": "stdout",
       "text": [
        "\r",
        " 32 2297M   32  750M    0     0  7519k      0  0:05:12  0:01:42  0:03:30 6710k"
       ]
      },
      {
       "output_type": "stream",
       "stream": "stdout",
       "text": [
        "\r",
        " 32 2297M   32  757M    0     0  7518k      0  0:05:12  0:01:43  0:03:29 6242k"
       ]
      },
      {
       "output_type": "stream",
       "stream": "stdout",
       "text": [
        "\r",
        " 33 2297M   33  766M    0     0  7530k      0  0:05:12  0:01:44  0:03:28 7599k"
       ]
      },
      {
       "output_type": "stream",
       "stream": "stdout",
       "text": [
        "\r",
        " 33 2297M   33  775M    0     0  7551k      0  0:05:11  0:01:45  0:03:26 8119k"
       ]
      },
      {
       "output_type": "stream",
       "stream": "stdout",
       "text": [
        "\r",
        " 34 2297M   34  785M    0     0  7574k      0  0:05:10  0:01:46  0:03:24 8670k"
       ]
      },
      {
       "output_type": "stream",
       "stream": "stdout",
       "text": [
        "\r",
        " 34 2297M   34  795M    0     0  7596k      0  0:05:09  0:01:47  0:03:22 9168k"
       ]
      },
      {
       "output_type": "stream",
       "stream": "stdout",
       "text": [
        "\r",
        " 35 2297M   35  805M    0     0  7620k      0  0:05:08  0:01:48  0:03:20 9709k"
       ]
      },
      {
       "output_type": "stream",
       "stream": "stdout",
       "text": [
        "\r",
        " 35 2297M   35  814M    0     0  7639k      0  0:05:08  0:01:49  0:03:19 9929k"
       ]
      },
      {
       "output_type": "stream",
       "stream": "stdout",
       "text": [
        "\r",
        " 35 2297M   35  821M    0     0  7634k      0  0:05:08  0:01:50  0:03:18 9386k"
       ]
      },
      {
       "output_type": "stream",
       "stream": "stdout",
       "text": [
        "\r",
        " 36 2297M   36  829M    0     0  7637k      0  0:05:08  0:01:51  0:03:17 8963k"
       ]
      },
      {
       "output_type": "stream",
       "stream": "stdout",
       "text": [
        "\r",
        " 36 2297M   36  838M    0     0  7647k      0  0:05:07  0:01:52  0:03:15 8739k"
       ]
      },
      {
       "output_type": "stream",
       "stream": "stdout",
       "text": [
        "\r",
        " 36 2297M   36  847M    0     0  7668k      0  0:05:06  0:01:53  0:03:13 8717k"
       ]
      },
      {
       "output_type": "stream",
       "stream": "stdout",
       "text": [
        "\r",
        " 37 2297M   37  857M    0     0  7690k      0  0:05:05  0:01:54  0:03:11 8796k"
       ]
      },
      {
       "output_type": "stream",
       "stream": "stdout",
       "text": [
        "\r",
        " 37 2297M   37  867M    0     0  7706k      0  0:05:05  0:01:55  0:03:10 9285k"
       ]
      },
      {
       "output_type": "stream",
       "stream": "stdout",
       "text": [
        "\r",
        " 38 2297M   38  876M    0     0  7726k      0  0:05:04  0:01:56  0:03:08 9715k"
       ]
      },
      {
       "output_type": "stream",
       "stream": "stdout",
       "text": [
        "\r",
        " 38 2297M   38  887M    0     0  7749k      0  0:05:03  0:01:57  0:03:06  9.8M"
       ]
      },
      {
       "output_type": "stream",
       "stream": "stdout",
       "text": [
        "\r",
        " 39 2297M   39  897M    0     0  7772k      0  0:05:02  0:01:58  0:03:04  9.8M"
       ]
      },
      {
       "output_type": "stream",
       "stream": "stdout",
       "text": [
        "\r",
        " 39 2297M   39  902M    0     0  7752k      0  0:05:03  0:01:59  0:03:04 9177k"
       ]
      },
      {
       "output_type": "stream",
       "stream": "stdout",
       "text": [
        "\r",
        " 39 2297M   39  906M    0     0  7720k      0  0:05:04  0:02:00  0:03:04 8055k"
       ]
      },
      {
       "output_type": "stream",
       "stream": "stdout",
       "text": [
        "\r",
        " 39 2297M   39  915M    0     0  7730k      0  0:05:04  0:02:01  0:03:03 7829k"
       ]
      },
      {
       "output_type": "stream",
       "stream": "stdout",
       "text": [
        "\r",
        " 40 2297M   40  924M    0     0  7743k      0  0:05:03  0:02:02  0:03:01 7593k"
       ]
      },
      {
       "output_type": "stream",
       "stream": "stdout",
       "text": [
        "\r",
        " 40 2297M   40  932M    0     0  7751k      0  0:05:03  0:02:03  0:03:00 7265k"
       ]
      },
      {
       "output_type": "stream",
       "stream": "stdout",
       "text": [
        "\r",
        " 40 2297M   40  938M    0     0  7739k      0  0:05:04  0:02:04  0:03:00 7441k"
       ]
      },
      {
       "output_type": "stream",
       "stream": "stdout",
       "text": [
        "\r",
        " 41 2297M   41  946M    0     0  77"
       ]
      },
      {
       "output_type": "stream",
       "stream": "stdout",
       "text": [
        "41k      0  0:05:03  0:02:05  0:02:58 8243k"
       ]
      },
      {
       "output_type": "stream",
       "stream": "stdout",
       "text": [
        "\r",
        " 41 2297M   41  953M    0     0  7737k      0  0:05:04  0:02:06  0:02:58 7909k"
       ]
      },
      {
       "output_type": "stream",
       "stream": "stdout",
       "text": [
        "\r",
        " 41 2297M   41  963M    0     0  7751k      0  0:05:03  0:02:07  0:02:56 7951k"
       ]
      },
      {
       "output_type": "stream",
       "stream": "stdout",
       "text": [
        "\r",
        " 42 2297M   42  972M    0     0  7765k      0  0:05:03  0:02:08  0:02:55 8106k"
       ]
      },
      {
       "output_type": "stream",
       "stream": "stdout",
       "text": [
        "\r",
        " 42 2297M   42  982M    0     0  7784k      0  0:05:02  0:02:09  0:02:53 8877k"
       ]
      },
      {
       "output_type": "stream",
       "stream": "stdout",
       "text": [
        "\r",
        " 43 2297M   43  991M    0     0  7792k      0  0:05:01  0:02:10  0:02:51 9062k"
       ]
      },
      {
       "output_type": "stream",
       "stream": "stdout",
       "text": [
        "\r",
        " 43 2297M   43  997M    0     0  7786k      0  0:05:02  0:02:11  0:02:51 9019k"
       ]
      },
      {
       "output_type": "stream",
       "stream": "stdout",
       "text": [
        "\r",
        " 43 2297M   43 1005M    0     0  7785k      0  0:05:02  0:02:12  0:02:50 8650k"
       ]
      },
      {
       "output_type": "stream",
       "stream": "stdout",
       "text": [
        "\r",
        " 44 2297M   44 1014M    0     0  7793k      0  0:05:01  0:02:13  0:02:48 8525k"
       ]
      },
      {
       "output_type": "stream",
       "stream": "stdout",
       "text": [
        "\r",
        " 44 2297M   44 1022M    0     0  7800k      0  0:05:01  0:02:14  0:02:47 8229k"
       ]
      },
      {
       "output_type": "stream",
       "stream": "stdout",
       "text": [
        "\r",
        " 44 2297M   44 1032M    0     0  7819k      0  0:05:00  0:02:15  0:02:45 8535k"
       ]
      },
      {
       "output_type": "stream",
       "stream": "stdout",
       "text": [
        "\r",
        " 45 2297M   45 1036M    0     0  7774k      0  0:05:02  0:02:16  0:02:46 7479k"
       ]
      },
      {
       "output_type": "stream",
       "stream": "stdout",
       "text": [
        "\r",
        " 45 2297M   45 1044M    0     0  7793k      0  0:05:01  0:02:17  0:02:44 7997k"
       ]
      },
      {
       "output_type": "stream",
       "stream": "stdout",
       "text": [
        "\r",
        " 45 2297M   45 1051M    0     0  7792k      0  0:05:01  0:02:18  0:02:43 7742k"
       ]
      },
      {
       "output_type": "stream",
       "stream": "stdout",
       "text": [
        "\r",
        " 46 2297M   46 1058M    0     0  7781k      0  0:05:02  0:02:19  0:02:43 7278k"
       ]
      },
      {
       "output_type": "stream",
       "stream": "stdout",
       "text": [
        "\r",
        " 46 2297M   46 1058M    0     0  7728k      0  0:05:04  0:02:20  0:02:44 5306k"
       ]
      },
      {
       "output_type": "stream",
       "stream": "stdout",
       "text": [
        "\r",
        " 46 2297M   46 1064M    0     0  7716k      0  0:05:04  0:02:21  0:02:43 6012k"
       ]
      },
      {
       "output_type": "stream",
       "stream": "stdout",
       "text": [
        "\r",
        " 46 2297M   46 1072M    0     0  7719k      0  0:05:04  0:02:22  0:02:42 5703k"
       ]
      },
      {
       "output_type": "stream",
       "stream": "stdout",
       "text": [
        "\r",
        " 47 2297M   47 1081M    0     0  7728k      0  0:05:04  0:02:23  0:02:41 5984k"
       ]
      },
      {
       "output_type": "stream",
       "stream": "stdout",
       "text": [
        "\r",
        " 47 2297M   47 1090M    0     0  "
       ]
      },
      {
       "output_type": "stream",
       "stream": "stdout",
       "text": [
        "7741k      0  0:05:03  0:02:24  0:02:39 6613k"
       ]
      },
      {
       "output_type": "stream",
       "stream": "stdout",
       "text": [
        "\r",
        " 47 2297M   47 1099M    0     0  7749k      0  0:05:03  0:02:25  0:02:38 8330k"
       ]
      },
      {
       "output_type": "stream",
       "stream": "stdout",
       "text": [
        "\r",
        " 48 2297M   48 1109M    0     0  7767k      0  0:05:02  0:02:26  0:02:36 9213k"
       ]
      },
      {
       "output_type": "stream",
       "stream": "stdout",
       "text": [
        "\r",
        " 48 2297M   48 1119M    0     0  7783k      0  0:05:02  0:02:27  0:02:35 9607k"
       ]
      },
      {
       "output_type": "stream",
       "stream": "stdout",
       "text": [
        "\r",
        " 48 2297M   48 1125M    0     0  7773k      0  0:05:02  0:02:28  0:02:34 9041k"
       ]
      },
      {
       "output_type": "stream",
       "stream": "stdout",
       "text": [
        "\r",
        " 49 2297M   49 1132M    0     0  7768k      0  0:05:02  0:02:29  0:02:33 8542k"
       ]
      },
      {
       "output_type": "stream",
       "stream": "stdout",
       "text": [
        "\r",
        " 49 2297M   49 1140M    0     0  7773k      0  0:05:02  0:02:30  0:02:32 8478k"
       ]
      },
      {
       "output_type": "stream",
       "stream": "stdout",
       "text": [
        "\r",
        " 49 2297M   49 1145M    0     0  7754k      0  0:05:03  0:02:31  0:02:32 7393k"
       ]
      },
      {
       "output_type": "stream",
       "stream": "stdout",
       "text": [
        "\r",
        " 50 2297M   50 1153M    0     0  7761k      0  0:05:03  0:02:32  0:02:31 7111k"
       ]
      },
      {
       "output_type": "stream",
       "stream": "stdout",
       "text": [
        "\r",
        " 50 2297M   50 1163M    0     0  7777k      0  0:05:02  0:02:33  0:02:29 7919k"
       ]
      },
      {
       "output_type": "stream",
       "stream": "stdout",
       "text": [
        "\r",
        " 51 2297M   51 1174M    0     0  7794k      0  0:05:01  0:02:34  0:02:27 8580k"
       ]
      },
      {
       "output_type": "stream",
       "stream": "stdout",
       "text": [
        "\r",
        " 51 2297M   51 1184M    0     0  7811k      0  0:05:01  0:02:35  0:02:26 8942k"
       ]
      },
      {
       "output_type": "stream",
       "stream": "stdout",
       "text": [
        "\r",
        " 51 2297M   51 1194M    0     0  7831k      0  0:05:00  0:02:36  0:02:24  9.9M"
       ]
      },
      {
       "output_type": "stream",
       "stream": "stdout",
       "text": [
        "\r",
        " 52 2297M   52 1204M    0     0  7837k      0  0:05:00  0:02:37  0:02:23  9.8M"
       ]
      },
      {
       "output_type": "stream",
       "stream": "stdout",
       "text": [
        "\r",
        " 52 2297M   52 1209M    0     0  7829k      0  0:05:00  0:02:38  0:02:22 9417k"
       ]
      },
      {
       "output_type": "stream",
       "stream": "stdout",
       "text": [
        "\r",
        " 52 2297M   52 1217M    0     0  7827k      0  0:05:00  0:02:39  0:02:21 8831k"
       ]
      },
      {
       "output_type": "stream",
       "stream": "stdout",
       "text": [
        "\r",
        " 53 2297M   53 1225M    0     0  7833k      0  0:05:00  0:02:40  0:02:20 8512k"
       ]
      },
      {
       "output_type": "stream",
       "stream": "stdout",
       "text": [
        "\r",
        " 53 2297M   53 1234M    0     0  7840k      0  0:05:00  0:02:41  0:02:19 8136k"
       ]
      },
      {
       "output_type": "stream",
       "stream": "stdout",
       "text": [
        "\r",
        " 54 2297M   54 1244M    0     0  7854k      0  0:04:59  0:02:42  0:02:17 8382k"
       ]
      },
      {
       "output_type": "stream",
       "stream": "stdout",
       "text": [
        "\r",
        " 54 2297M   54 1254M    0     0  7867k      0  0:04:59  0:02:43  0:02:16 9069k"
       ]
      },
      {
       "output_type": "stream",
       "stream": "stdout",
       "text": [
        "\r",
        " 55 2297M   55 1264M    0     0  7886k      0  0:04:58  0:02:44  0:02:14 9788k"
       ]
      },
      {
       "output_type": "stream",
       "stream": "stdout",
       "text": [
        "\r",
        " 55 2297M   55 1274M    0     0  7899k      0  0:04:57  0:02:45  0:02:12  9.8M"
       ]
      },
      {
       "output_type": "stream",
       "stream": "stdout",
       "text": [
        "\r",
        " 55 2297M   55 1284M    0     0  7914k      0  0:04:57  0:02:46  0:02:11 10.0M"
       ]
      },
      {
       "output_type": "stream",
       "stream": "stdout",
       "text": [
        "\r",
        " 56 2297M   56 1295M    0     0  7933k      0  0:04:56  0:02:47  0:02:09 10.2M"
       ]
      },
      {
       "output_type": "stream",
       "stream": "stdout",
       "text": [
        "\r",
        " 56 2297M   56 1303M    0     0  7932k      0  0:04:56  0:02:48  0:02:08  9.8M"
       ]
      },
      {
       "output_type": "stream",
       "stream": "stdout",
       "text": [
        "\r",
        " 57 2297M   57 1314M    0     0  7952k      0  0:04:55  0:02:49  0:02:06  9.8M"
       ]
      },
      {
       "output_type": "stream",
       "stream": "stdout",
       "text": [
        "\r",
        " 57 2297M   57 1324M    0     0  7967k      0  0:04:55  0:02:50  0:02:05  9.9M"
       ]
      },
      {
       "output_type": "stream",
       "stream": "stdout",
       "text": [
        "\r",
        " 58 2297M   58 1335M    0     0  7984k      0  0:04:54  0:02:51  0:02:03 10.0M"
       ]
      },
      {
       "output_type": "stream",
       "stream": "stdout",
       "text": [
        "\r",
        " 58 2297M   58 1345M    0     0  8002k      0  0:04:54  0:02:52  0:02:02 10.0M"
       ]
      },
      {
       "output_type": "stream",
       "stream": "stdout",
       "text": [
        "\r",
        " 59 2297M   59 1356M    0     0  8017k      0  0:04:53  0:02:53  0:02:00 10.6M"
       ]
      },
      {
       "output_type": "stream",
       "stream": "stdout",
       "text": [
        "\r",
        " 59 2297M   59 1364M    0     0  8017k      0  0:04:53  0:02:54  0:01:59  9.9M"
       ]
      },
      {
       "output_type": "stream",
       "stream": "stdout",
       "text": [
        "\r",
        " 59 2297M   59 1370M    0     0  8009k      0  0:04:53  0:02:55  0:01:58 9414k"
       ]
      },
      {
       "output_type": "stream",
       "stream": "stdout",
       "text": [
        "\r",
        " 59 2297M   59 1378M    0     0  8011k      0  0:04:53  0:02:56  0:01:57 8928k"
       ]
      },
      {
       "output_type": "stream",
       "stream": "stdout",
       "text": [
        "\r",
        " 60 2297M   60 1387M    0     0  8017k      0  0:04:53  0:02:57  0:01:56 8555k"
       ]
      },
      {
       "output_type": "stream",
       "stream": "stdout",
       "text": [
        "\r",
        " 60 2297M   60 1397M    0     0  8026k      0  0:04:53  0:02:58  0:01:55 8369k"
       ]
      },
      {
       "output_type": "stream",
       "stream": "stdout",
       "text": [
        "\r",
        " 61 2297M   61 1406M    0     0  8033k      0  0:04:52  0:02:59  0:01:53 8594k"
       ]
      },
      {
       "output_type": "stream",
       "stream": "stdout",
       "text": [
        "\r",
        " 61 2297M   61 1416M    0     0  8047k      0  0:04:52  0:03:00  0:01:52 9381k"
       ]
      },
      {
       "output_type": "stream",
       "stream": "stdout",
       "text": [
        "\r",
        " 62 2297M   62 1425M    0     0  8055k      0  0:04:52  0:03:01  0:01:51 9617k"
       ]
      },
      {
       "output_type": "stream",
       "stream": "stdout",
       "text": [
        "\r",
        " 62 2297M   62 1430M    0     0  8037k      0  0:04:52  0:03:02  0:01:50 8734k"
       ]
      },
      {
       "output_type": "stream",
       "stream": "stdout",
       "text": [
        "\r",
        " 62 2297M   62 1438M    0     0  8037k      0  0:04:52  0:03:03  0:01:49 8427k"
       ]
      },
      {
       "output_type": "stream",
       "stream": "stdout",
       "text": [
        "\r",
        " 62 2297M   62 1447M    0     0  8044k      0  0:04:52  0:03:04  0:01:48 8415k"
       ]
      },
      {
       "output_type": "stream",
       "stream": "stdout",
       "text": [
        "\r",
        " 63 2297M   63 1457M    0     0  8054k      0  0:04:52  0:03:05  0:01:47 8336k"
       ]
      },
      {
       "output_type": "stream",
       "stream": "stdout",
       "text": [
        "\r",
        " 63 2297M   63 1466M    0     0  8064k      0  0:04:51  0:03:06  0:01:45 8378k"
       ]
      },
      {
       "output_type": "stream",
       "stream": "stdout",
       "text": [
        "\r",
        " 64 2297M   64 1475M    0     0  8072k      0  0:04:51  0:03:07  0:01:44 9365k"
       ]
      },
      {
       "output_type": "stream",
       "stream": "stdout",
       "text": [
        "\r",
        " 64 2297M   64 1485M    0     0  8080k      0  0:04:51  0:03:08  0:01:43 9660k"
       ]
      },
      {
       "output_type": "stream",
       "stream": "stdout",
       "text": [
        "\r",
        " 64 2297M   64 1491M    0     0  8069k      0  0:04:51  0:03:09  0:01:42 8995k"
       ]
      },
      {
       "output_type": "stream",
       "stream": "stdout",
       "text": [
        "\r",
        " 65 2297M   65 1498M    0     0  8067k      0  0:04:51  0:03:10  0:01:41 8541k"
       ]
      },
      {
       "output_type": "stream",
       "stream": "stdout",
       "text": [
        "\r",
        " 65 2297M   65 1505M    0     0  8060k      0  0:04:51  0:03:11  0:01:40 7918k"
       ]
      },
      {
       "output_type": "stream",
       "stream": "stdout",
       "text": [
        "\r",
        " 65 2297M   65 1513M    0     0  8064k      0  0:04:51  0:03:12  0:01:39 7743k"
       ]
      },
      {
       "output_type": "stream",
       "stream": "stdout",
       "text": [
        "\r",
        " 66 2297M   66 1522M    0     0  8070k      0  0:04:51  0:03:13  0:01:38 7675k"
       ]
      },
      {
       "output_type": "stream",
       "stream": "stdout",
       "text": [
        "\r",
        " 66 2297M   66 1532M    0     0  8077k      0  0:04:51  0:03:14  0:01:37 8377k"
       ]
      },
      {
       "output_type": "stream",
       "stream": "stdout",
       "text": [
        "\r",
        " 67 2297M   67 1541M    0     0  8087k      0  0:04:50  0:03:15  0:01:35 8835k"
       ]
      },
      {
       "output_type": "stream",
       "stream": "stdout",
       "text": [
        "\r",
        " 67 2297M   67 1552M    0     0  8101k      0  0:04:50  0:03:16  0:01:34 9666k"
       ]
      },
      {
       "output_type": "stream",
       "stream": "stdout",
       "text": [
        "\r",
        " 67 2297M   67 1561M    0     0  8108k      0  0:04:50  0:03:17  0:01:33 9811k"
       ]
      },
      {
       "output_type": "stream",
       "stream": "stdout",
       "text": [
        "\r",
        " 68 2297M   68 1566M    0     0  8092k      0  0:04:50  0:03:18  0:01:32 8932k"
       ]
      },
      {
       "output_type": "stream",
       "stream": "stdout",
       "text": [
        "\r",
        " 68 2297M   68 1574M    0     0  8090k      0  0:04:50  0:03:19  0:01:31 8623k"
       ]
      },
      {
       "output_type": "stream",
       "stream": "stdout",
       "text": [
        "\r",
        " 68 2297M   68 1583M    0     0  8096k      0  0:04:50  0:03:20  0:01:30 8465k"
       ]
      },
      {
       "output_type": "stream",
       "stream": "stdout",
       "text": [
        "\r",
        " 69 2297M   69 1592M    0     0  8106k      0  0:04:50  0:03:21  0:01:29 8280k"
       ]
      },
      {
       "output_type": "stream",
       "stream": "stdout",
       "text": [
        "\r",
        " 69 2297M   69 1602M    0     0  8115k      0  0:04:49  0:03:22  0:01:27 8397k"
       ]
      },
      {
       "output_type": "stream",
       "stream": "stdout",
       "text": [
        "\r",
        " 70 2297M   70 1612M    0     0  8127k      0  0:04:49  0:03:23  0:01:26 9514k"
       ]
      },
      {
       "output_type": "stream",
       "stream": "stdout",
       "text": [
        "\r",
        " 70 2297M   70 1622M    0     0  8136k      0  0:04:49  0:03:24  0:01:25 9960k"
       ]
      },
      {
       "output_type": "stream",
       "stream": "stdout",
       "text": [
        "\r",
        " 70 2297M   70 1630M    0     0  8134k      0  0:04:49  0:03:25  0:01:24 9645k"
       ]
      },
      {
       "output_type": "stream",
       "stream": "stdout",
       "text": [
        "\r",
        " 71 2297M   71 1637M    0     0  8124k      0  0:04:49  0:03:26  0:01:23 8864k"
       ]
      },
      {
       "output_type": "stream",
       "stream": "stdout",
       "text": [
        "\r",
        " 71 2297M   71 1645M    0     0  8132k      0  0:04:49  0:03:27  0:01:22 8811k"
       ]
      },
      {
       "output_type": "stream",
       "stream": "stdout",
       "text": [
        "\r",
        " 72 2297M   72 1655M    0     0  8140k      0  0:04:49  0:03:28  0:01:21 8668k"
       ]
      },
      {
       "output_type": "stream",
       "stream": "stdout",
       "text": [
        "\r",
        " 72 2297M   72 1662M    0     0  8134k      0  0:04:49  0:03:29  0:01:20 8042k"
       ]
      },
      {
       "output_type": "stream",
       "stream": "stdout",
       "text": [
        "\r",
        " 72 2297M   72 1672M    0     0  8142k      0  0:04:49  0:03:30  0:01:19 8448k"
       ]
      },
      {
       "output_type": "stream",
       "stream": "stdout",
       "text": [
        "\r",
        " 73 2297M   73 1679M    0     0  8144k      0  0:04:48  0:03:31  0:01:17 8960k"
       ]
      },
      {
       "output_type": "stream",
       "stream": "stdout",
       "text": [
        "\r",
        " 73 2297M   73 1686M    0     0  8138k      0  0:04:49  0:03:32  0:01:17 8400k"
       ]
      },
      {
       "output_type": "stream",
       "stream": "stdout",
       "text": [
        "\r",
        " 73 2297M   73 1693M    0     0  8128k      0  0:04:49  0:03:33  0:01:16 7643k"
       ]
      },
      {
       "output_type": "stream",
       "stream": "stdout",
       "text": [
        "\r",
        " 73 2297M   73 1697M    0     0  8116k      0  0:04:49  0:03:34  0:01:15 7326k"
       ]
      },
      {
       "output_type": "stream",
       "stream": "stdout",
       "text": [
        "\r",
        " 74 2297M   74 1707M    0     0  8122k      0  0:04:49  0:03:35  0:01:14 7275k"
       ]
      },
      {
       "output_type": "stream",
       "stream": "stdout",
       "text": [
        "\r",
        " 74 2297M   74 1717M    0     0  8132k      0  0:04:49  0:03:36  0:01:13 7638k"
       ]
      },
      {
       "output_type": "stream",
       "stream": "stdout",
       "text": [
        "\r",
        " 75 2297M   75 1727M    0     0  8143k      0  0:04:48  0:03:37  0:01:11 8327k"
       ]
      },
      {
       "output_type": "stream",
       "stream": "stdout",
       "text": [
        "\r",
        " 75 2297M   75 1737M    0     0  8152k      0  0:04:48  0:03:38  0:01:10 9185k"
       ]
      },
      {
       "output_type": "stream",
       "stream": "stdout",
       "text": [
        "\r",
        " 75 2297M   75 1745M    0     0  8150k      0  0:04:48  0:03:39  0:01:09 9648k"
       ]
      },
      {
       "output_type": "stream",
       "stream": "stdout",
       "text": [
        "\r",
        " 76 2297M   76 1753M    0     0  8152k      0  0:04:48  0:03:40  0:01:08 9433k"
       ]
      },
      {
       "output_type": "stream",
       "stream": "stdout",
       "text": [
        "\r",
        " 76 2297M   76 1762M    0     0  8157k      0  0:04:48  0:03:41  0:01:07 9233k"
       ]
      },
      {
       "output_type": "stream",
       "stream": "stdout",
       "text": [
        "\r",
        " 77 2297M   77 1771M    0     0  8161k      0  0:04:48  0:03:42  0:01:06 8940k"
       ]
      },
      {
       "output_type": "stream",
       "stream": "stdout",
       "text": [
        "\r",
        " 77 2297M   77 1780M    0     0  8167k      0  0:04:48  0:03:43  0:01:05 8857k"
       ]
      },
      {
       "output_type": "stream",
       "stream": "stdout",
       "text": [
        "\r",
        " 77 2297M   77 1790M    0     0  8178k      0  0:04:47  0:03:44  0:01:03 9377k"
       ]
      },
      {
       "output_type": "stream",
       "stream": "stdout",
       "text": [
        "\r",
        " 78 2297M   78 1799M    0     0  8181k      0  0:04:47  0:03:45  0:01:02 9475k"
       ]
      },
      {
       "output_type": "stream",
       "stream": "stdout",
       "text": [
        "\r",
        " 78 2297M   78 1806M    0     0  8177k      0  0:04:47  0:03:46  0:01:01 9047k"
       ]
      },
      {
       "output_type": "stream",
       "stream": "stdout",
       "text": [
        "\r",
        " 78 2297M   78 1814M    0     0  8177k      0  0:04:47  0:03:47  0:01:00 8914k"
       ]
      },
      {
       "output_type": "stream",
       "stream": "stdout",
       "text": [
        "\r",
        " 79 2297M   79 1824M    0     0  8184k      0  0:04:47  0:03:48  0:00:59 8940k"
       ]
      },
      {
       "output_type": "stream",
       "stream": "stdout",
       "text": [
        "\r",
        " 79 2297M   79 1830M    0     0  8176k      0  0:04:47  0:03:49  0:00:58 8080k"
       ]
      },
      {
       "output_type": "stream",
       "stream": "stdout",
       "text": [
        "\r",
        " 79 2297M   79 1837M    0     0  8174k      0  0:04:47  0:03:50  0:00:57 7860k"
       ]
      },
      {
       "output_type": "stream",
       "stream": "stdout",
       "text": [
        "\r",
        " 80 2297M   80 1840M    0     0  8151k      0  0:04:48  0:03:51  0:00:57 7016k"
       ]
      },
      {
       "output_type": "stream",
       "stream": "stdout",
       "text": [
        "\r",
        " 80 2297M   80 1847M    0     0  8145k      0  0:04:48  0:03:52  0:00:56 6676k"
       ]
      },
      {
       "output_type": "stream",
       "stream": "stdout",
       "text": [
        "\r",
        " 80 2297M   80 1855M    0     0  8148k      0  0:04:48  0:03:53  0:00:55 6479k"
       ]
      },
      {
       "output_type": "stream",
       "stream": "stdout",
       "text": [
        "\r",
        " 81 2297M   81 1864M    0     0  8152k      0  0:04:48  0:03:54  0:00:54 7081k"
       ]
      },
      {
       "output_type": "stream",
       "stream": "stdout",
       "text": [
        "\r",
        " 81 2297M   81 1873M    0     0  8153k      0  0:04:48  0:03:55  0:00:53 7212k"
       ]
      },
      {
       "output_type": "stream",
       "stream": "stdout",
       "text": [
        "\r",
        " 81 2297M   81 1883M    0     0  8166k      0  0:04:48  0:03:56  0:00:52 8843k"
       ]
      },
      {
       "output_type": "stream",
       "stream": "stdout",
       "text": [
        "\r",
        " 82 2297M   82 1893M    0     0  8173k      0  0:04:47  0:03:57  0:00:50 9471k"
       ]
      },
      {
       "output_type": "stream",
       "stream": "stdout",
       "text": [
        "\r",
        " 82 2297M   82 1899M    0     0  8164k      0  0:04:48  0:03:58  0:00:50 8921k"
       ]
      },
      {
       "output_type": "stream",
       "stream": "stdout",
       "text": [
        "\r",
        " 82 2297M   82 1903M    0     0  8148k      0  0:04:48  0:03:59  0:00:49 7926k"
       ]
      },
      {
       "output_type": "stream",
       "stream": "stdout",
       "text": [
        "\r",
        " 83 2297M   83 1910M    0     0  8144k      0  0:04:48  0:04:00  0:00:48 7706k"
       ]
      },
      {
       "output_type": "stream",
       "stream": "stdout",
       "text": [
        "\r",
        " 83 2297M   83 1919M    0     0  8149k      0  0:04:48  0:04:01  0:00:47 7326k"
       ]
      },
      {
       "output_type": "stream",
       "stream": "stdout",
       "text": [
        "\r",
        " 83 2297M   83 1928M    0     0  8153k      0  0:04:48  0:04:02  0:00:46 7200k"
       ]
      },
      {
       "output_type": "stream",
       "stream": "stdout",
       "text": [
        "\r",
        " 84 2297M   84 1935M    0     0  8148k      0  0:04:48  0:04:03  0:00:45 7396k"
       ]
      },
      {
       "output_type": "stream",
       "stream": "stdout",
       "text": [
        "\r",
        " 84 2297M   84 1944M    0     0  8151k      0  0:04:48  0:04:04  0:00:44 8302k"
       ]
      },
      {
       "output_type": "stream",
       "stream": "stdout",
       "text": [
        "\r",
        " 84 2297M   84 1953M    0     0  8155k      0  0:04:48  0:04:05  0:00:43 8697k"
       ]
      },
      {
       "output_type": "stream",
       "stream": "stdout",
       "text": [
        "\r",
        " 85 2297M   85 1963M    0     0  8164k      0  0:04:48  0:04:06  0:00:42 8909k"
       ]
      },
      {
       "output_type": "stream",
       "stream": "stdout",
       "text": [
        "\r",
        " 85 2297M   85 1973M    0     0  8172k      0  0:04:47  0:04:07  0:00:40 9108k"
       ]
      },
      {
       "output_type": "stream",
       "stream": "stdout",
       "text": [
        "\r",
        " 86 2297M   86 1983M    0     0  8182k      0  0:04:47  0:04:08  0:00:39 9825k"
       ]
      },
      {
       "output_type": "stream",
       "stream": "stdout",
       "text": [
        "\r",
        " 86 2297M   86 1994M    0     0  8192k      0  0:04:47  0:04:09  0:00:38  9.9M"
       ]
      },
      {
       "output_type": "stream",
       "stream": "stdout",
       "text": [
        "\r",
        " 87 2297M   87 2002M    0     0  8195k      0  0:04:47  0:04:10  0:00:37  9.9M"
       ]
      },
      {
       "output_type": "stream",
       "stream": "stdout",
       "text": [
        "\r",
        " 87 2297M   87 2012M    0     0  8201k      0  0:04:46  0:04:11  0:00:35 9981k"
       ]
      },
      {
       "output_type": "stream",
       "stream": "stdout",
       "text": [
        "\r",
        " 87 2297M   87 2012M    0     0  8151k      0  0:04:48  0:04:12  0:00:36 7220k"
       ]
      },
      {
       "output_type": "stream",
       "stream": "stdout",
       "text": [
        "\r",
        " 87 2297M   87 2014M    0     0  8147k      0  0:04:48  0:04:13  0:00:35 6414k"
       ]
      },
      {
       "output_type": "stream",
       "stream": "stdout",
       "text": [
        "\r",
        " 87 2297M   87 2020M    0     0  8136k      0  0:04:49  0:04:14  0:00:35 5332k"
       ]
      },
      {
       "output_type": "stream",
       "stream": "stdout",
       "text": [
        "\r",
        " 88 2297M   88 2027M    0     0  8136k      0  0:04:49  0:04:15  0:00:34 5166k"
       ]
      },
      {
       "output_type": "stream",
       "stream": "stdout",
       "text": [
        "\r",
        " 88 2297M   88 2036M    0     0  8138k      0  0:04:49  0:04:16  0:00:33 4902k"
       ]
      },
      {
       "output_type": "stream",
       "stream": "stdout",
       "text": [
        "\r",
        " 89 2297M   89 2046M    0     0  8145k      0  0:04:48  0:04:17  0:00:31 7824k"
       ]
      },
      {
       "output_type": "stream",
       "stream": "stdout",
       "text": [
        "\r",
        " 89 2297M   89 2055M    0     0  8153k      0  0:04:48  0:04:18  0:00:30 8430k"
       ]
      },
      {
       "output_type": "stream",
       "stream": "stdout",
       "text": [
        "\r",
        " 89 2297M   89 2061M    0     0  8143k      0  0:04:48  0:04:19  0:00:29 8511k"
       ]
      },
      {
       "output_type": "stream",
       "stream": "stdout",
       "text": [
        "\r",
        " 90 2297M   90 2068M    0     0  8139k      0  0:04:49  0:04:20  0:00:29 8308k"
       ]
      },
      {
       "output_type": "stream",
       "stream": "stdout",
       "text": [
        "\r",
        " 90 2297M   90 2076M    0     0  8139k      0  0:04:49  0:04:21  0:00:28 8180k"
       ]
      },
      {
       "output_type": "stream",
       "stream": "stdout",
       "text": [
        "\r",
        " 90 2297M   90 2085M    0     0  8142k      0  0:04:48  0:04:22  0:00:26 7990k"
       ]
      },
      {
       "output_type": "stream",
       "stream": "stdout",
       "text": [
        "\r",
        " 91 2297M   91 2094M    0     0  8146k      0  0:04:48  0:04:23  0:00:25 7811k"
       ]
      },
      {
       "output_type": "stream",
       "stream": "stdout",
       "text": [
        "\r",
        " 91 2297M   91 2104M    0     0  8155k      0  0:04:48  0:04:24  0:00:24 8762k"
       ]
      },
      {
       "output_type": "stream",
       "stream": "stdout",
       "text": [
        "\r",
        " 92 2297M   92 2114M    0     0  8163k      0  0:04:48  0:04:25  0:00:23 9406k"
       ]
      },
      {
       "output_type": "stream",
       "stream": "stdout",
       "text": [
        "\r",
        " 92 2297M   92 2124M    0     0  8172k      0  0:04:47  0:04:26  0:00:21 9935k"
       ]
      },
      {
       "output_type": "stream",
       "stream": "stdout",
       "text": [
        "\r",
        " 92 2297M   92 2135M    0     0  8182k      0  0:04:47  0:04:27  0:00:20 10.0M"
       ]
      },
      {
       "output_type": "stream",
       "stream": "stdout",
       "text": [
        "\r",
        " 93 2297M   93 2142M    0     0  8180k      0  0:04:47  0:04:28  0:00:19 9981k"
       ]
      },
      {
       "output_type": "stream",
       "stream": "stdout",
       "text": [
        "\r",
        " 93 2297M   93 2151M    0     0  8183k      0  0:04:47  0:04:29  0:00:18 9677k"
       ]
      },
      {
       "output_type": "stream",
       "stream": "stdout",
       "text": [
        "\r",
        " 93 2297M   93 2156M    0     0  8155k      0  0:04:48  0:04:30  0:00:18 7755k"
       ]
      },
      {
       "output_type": "stream",
       "stream": "stdout",
       "text": [
        "\r",
        " 93 2297M   93 2158M    0     0  8147k      0  0:04:48  0:04:31  0:00:17 6819k"
       ]
      },
      {
       "output_type": "stream",
       "stream": "stdout",
       "text": [
        "\r",
        " 94 2297M   94 2166M    0     0  8147k      0  0:04:48  0:04:32  0:00:16 6268k"
       ]
      },
      {
       "output_type": "stream",
       "stream": "stdout",
       "text": [
        "\r",
        " 94 2297M   94 2174M    0     0  8151k      0  0:04:48  0:04:33  0:00:15 6578k"
       ]
      },
      {
       "output_type": "stream",
       "stream": "stdout",
       "text": [
        "\r",
        " 95 2297M   95 2185M    0     0  8159k      0  0:04:48  0:04:34  0:00:14 6838k"
       ]
      },
      {
       "output_type": "stream",
       "stream": "stdout",
       "text": [
        "\r",
        " 95 2297M   95 2193M    0     0  8160k      0  0:04:48  0:04:35  0:00:13 8516k"
       ]
      },
      {
       "output_type": "stream",
       "stream": "stdout",
       "text": [
        "\r",
        " 95 2297M   95 2202M    0     0  8165k      0  0:04:48  0:04:36  0:00:12 9089k"
       ]
      },
      {
       "output_type": "stream",
       "stream": "stdout",
       "text": [
        "\r",
        " 96 2297M   96 2212M    0     0  8172k      0  0:04:47  0:04:37  0:00:10 9542k"
       ]
      },
      {
       "output_type": "stream",
       "stream": "stdout",
       "text": [
        "\r",
        " 96 2297M   96 2222M    0     0  8180k      0  0:04:47  0:04:38  0:00:09 9780k"
       ]
      },
      {
       "output_type": "stream",
       "stream": "stdout",
       "text": [
        "\r",
        " 97 2297M   97 2232M    0     0  8188k      0  0:04:47  0:04:39  0:00:08 9809k"
       ]
      },
      {
       "output_type": "stream",
       "stream": "stdout",
       "text": [
        "\r",
        " 97 2297M   97 2241M    0     0  8190k      0  0:04:47  0:04:40  0:00:07 9807k"
       ]
      },
      {
       "output_type": "stream",
       "stream": "stdout",
       "text": [
        "\r",
        " 97 2297M   97 2248M    0     0  8184k      0  0:04:47  0:04:41  0:00:06 9273k"
       ]
      },
      {
       "output_type": "stream",
       "stream": "stdout",
       "text": [
        "\r",
        " 98 2297M   98 2253M    0     0  8175k      0  0:04:47  0:04:42  0:00:05 8348k"
       ]
      },
      {
       "output_type": "stream",
       "stream": "stdout",
       "text": [
        "\r",
        " 98 2297M   98 2256M    0     0  7885k      0  0:04:58  0:04:53  0:00:05 2342k"
       ]
      },
      {
       "output_type": "stream",
       "stream": "stdout",
       "text": [
        "\r",
        " 98 2297M   98 2256M    0     0  7880k      0  0:04:58  0:04:53  0:00:05 1739k"
       ]
      },
      {
       "output_type": "stream",
       "stream": "stdout",
       "text": [
        "\r",
        " 98 2297M   98 2256M    0     0  7851k      0  0:04:59  0:04:54  0:00:05 1100k"
       ]
      },
      {
       "output_type": "stream",
       "stream": "stdout",
       "text": [
        "\r",
        " 98 2297M   98 2258M    0     0  7823k      0  0:05:00  0:04:55  0:00:05  712k"
       ]
      },
      {
       "output_type": "stream",
       "stream": "stdout",
       "text": [
        "\r",
        " 98 2297M   98 2258M    0     0  7791k      0  0:05:01  0:04:56  0:00:05  343k"
       ]
      },
      {
       "output_type": "stream",
       "stream": "stdout",
       "text": [
        "\r",
        " 98 2297M   98 2258M    0     0  7778k      0  0:05:02  0:04:57  0:00:05  388k"
       ]
      },
      {
       "output_type": "stream",
       "stream": "stdout",
       "text": [
        "\r",
        " 98 2297M   98 2264M    0     0  7774k      0  0:05:02  0:04:58  0:00:04 1526k"
       ]
      },
      {
       "output_type": "stream",
       "stream": "stdout",
       "text": [
        "\r",
        " 98 2297M   98 2270M    0     0  7765k      0  0:05:03  0:04:59  0:00:04 2689k"
       ]
      },
      {
       "output_type": "stream",
       "stream": "stdout",
       "text": [
        "\r",
        " 99 2297M   99 2276M    0     0  7763k      0  0:05:03  0:05:00  0:00:03 3934k"
       ]
      },
      {
       "output_type": "stream",
       "stream": "stdout",
       "text": [
        "\r",
        " 99 2297M   99 2283M    0     0  7764k      0  0:05:03  0:05:01  0:00:02 5907k"
       ]
      },
      {
       "output_type": "stream",
       "stream": "stdout",
       "text": [
        "\r",
        " 99 2297M   99 2293M    0     0  7770k      0  0:05:02  0:05:02 --:--:-- 7291k"
       ]
      },
      {
       "output_type": "stream",
       "stream": "stdout",
       "text": [
        "\r",
        "100 2297M  100 2297M    0     0  7771k      0  0:05:02  0:05:02 --:--:-- 7567k\r\n"
       ]
      }
     ],
     "prompt_number": 10
    },
    {
     "cell_type": "code",
     "collapsed": false,
     "input": [
      "!curl -O http://eagle.fish.washington.edu/whale/fish546/module3_assembly/LC/Roberts_20100712_CC_F3_QV.qual"
     ],
     "language": "python",
     "metadata": {},
     "outputs": [
      {
       "output_type": "stream",
       "stream": "stdout",
       "text": [
        "  % Total    % Received % Xferd  Average Speed   Time    Time     Time  Current\r\n",
        "                                 Dload  Upload   Total   Spent    Left  Speed\r\n",
        "\r",
        "  0     0    0     0    0     0      0      0 --:--:-- --:--:-- --:--:--     0"
       ]
      },
      {
       "output_type": "stream",
       "stream": "stdout",
       "text": [
        "\r",
        "  0 5041M    0 68057    0     0  70010      0 20:58:36 --:--:-- 20:58:36 70017"
       ]
      },
      {
       "output_type": "stream",
       "stream": "stdout",
       "text": [
        "\r",
        "  0 5041M    0 1203k    0     0   633k      0  2:15:49  0:00:01  2:15:48  633k"
       ]
      },
      {
       "output_type": "stream",
       "stream": "stdout",
       "text": [
        "\r",
        "  0 5041M    0 8336k    0     0  2874k      0  0:29:55  0:00:02  0:29:53 2874k"
       ]
      },
      {
       "output_type": "stream",
       "stream": "stdout",
       "text": [
        "\r",
        "  0 5041M    0 16.5M    0     0  4346k      0  0:19:47  0:00:03  0:19:44 4345k"
       ]
      },
      {
       "output_type": "stream",
       "stream": "stdout",
       "text": [
        "\r",
        "  0 5041M    0 24.3M    0     0  5096k      0  0:16:53  0:00:04  0:16:49 5095k"
       ]
      },
      {
       "output_type": "stream",
       "stream": "stdout",
       "text": [
        "\r",
        "  0 5041M    0 33.8M    0     0  5866k      0  0:14:40  0:00:05  0:14:35 7009k"
       ]
      },
      {
       "output_type": "stream",
       "stream": "stdout",
       "text": [
        "\r",
        "  0 5041M    0 42.2M    0     0  6269k      0  0:13:43  0:00:06  0:13:37 8411k"
       ]
      },
      {
       "output_type": "stream",
       "stream": "stdout",
       "text": [
        "\r",
        "  0 5041M    0 48.9M    0     0  6346k      0  0:13:33  0:00:07  0:13:26 8359k"
       ]
      },
      {
       "output_type": "stream",
       "stream": "stdout",
       "text": [
        "\r",
        "  1 5041M    1 57.7M    0     0  6639k      0  0:12:57  0:00:08  0:12:49 8427k"
       ]
      },
      {
       "output_type": "stream",
       "stream": "stdout",
       "text": [
        "\r",
        "  1 5041M    1 64.9M    0     0  6720k      0  0:12:48  0:00:09  0:12:39 8312k"
       ]
      },
      {
       "output_type": "stream",
       "stream": "stdout",
       "text": [
        "\r",
        "  1 5041M    1 74.7M    0     0  7021k      0  0:12:15  0:00:10  0:12:05 8384k"
       ]
      },
      {
       "output_type": "stream",
       "stream": "stdout",
       "text": [
        "\r",
        "  1 5041M    1 84.6M    0     0  7280k      0  0:11:49  0:00:11  0:11:38 8674k"
       ]
      },
      {
       "output_type": "stream",
       "stream": "stdout",
       "text": [
        "\r",
        "  1 5041M    1 93.5M    0     0  7423k      0  0:11:35  0:00:12  0:11:23 9126k"
       ]
      },
      {
       "output_type": "stream",
       "stream": "stdout",
       "text": [
        "\r",
        "  2 5041M    2  101M    0     0  7464k      0  0:11:31  0:00:13  0:11:18 8932k"
       ]
      },
      {
       "output_type": "stream",
       "stream": "stdout",
       "text": [
        "\r",
        "  2 5041M    2  109M    0     0  7537k      0  0:11:24  0:00:14  0:11:10 9156k"
       ]
      },
      {
       "output_type": "stream",
       "stream": "stdout",
       "text": [
        "\r",
        "  2 5041M    2  118M    0     0  7663k      0  0:11:13  0:00:15  0:10:58 9062k"
       ]
      },
      {
       "output_type": "stream",
       "stream": "stdout",
       "text": [
        "\r",
        "  2 5041M    2  126M    0     0  7602k      0  0:11:19  0:00:17  0:11:02 8349k"
       ]
      },
      {
       "output_type": "stream",
       "stream": "stdout",
       "text": [
        "\r",
        "  2 5041M    2  135M    0     0  7738k      0  0:11:07  0:00:17  0:10:50 8551k"
       ]
      },
      {
       "output_type": "stream",
       "stream": "stdout",
       "text": [
        "\r",
        "  2 5041M    2  145M    0     0  7877k      0  0:10:55  0:00:18  0:10:37 9026k"
       ]
      },
      {
       "output_type": "stream",
       "stream": "stdout",
       "text": [
        "\r",
        "  3 5041M    3  152M    0     0  7843k      0  0:10:58  0:00:19  0:10:39 8752k"
       ]
      },
      {
       "output_type": "stream",
       "stream": "stdout",
       "text": [
        "\r",
        "  3 5041M    3  157M    0     0  7739k      0  0:11:07  0:00:20  0:10:47 7980k"
       ]
      },
      {
       "output_type": "stream",
       "stream": "stdout",
       "text": [
        "\r",
        "  3 5041M    3  165M    0     0  7748k      0  0:11:06  0:00:21  0:10:45 8258k"
       ]
      },
      {
       "output_type": "stream",
       "stream": "stdout",
       "text": [
        "\r",
        "  3 5041M    3  175M    0     0  7832k      0  0:10:59  0:00:22  0:10:37 8168k"
       ]
      },
      {
       "output_type": "stream",
       "stream": "stdout",
       "text": [
        "\r",
        "  3 5041M    3  184M    0     0  7893k      0  0:10:54  0:00:23  0:10:31 7954k"
       ]
      },
      {
       "output_type": "stream",
       "stream": "stdout",
       "text": [
        "\r",
        "  3 5041M    3  194M    0     0  7991k      0  0:10:46  0:00:24  0:10:22 8583k"
       ]
      },
      {
       "output_type": "stream",
       "stream": "stdout",
       "text": [
        "\r",
        "  3 5041M    3  200M    0     0  7940k      0  0:10:50  0:00:25  0:10:25 8781k"
       ]
      },
      {
       "output_type": "stream",
       "stream": "stdout",
       "text": [
        "\r",
        "  4 5041M    4  209M    0     0  7954k      0  0:10:49  0:00:26  0:10:23 8854k"
       ]
      },
      {
       "output_type": "stream",
       "stream": "stdout",
       "text": [
        "\r",
        "  4 5041M    4  218M    0     0  8002k      0  0:10:45  0:00:27  0:10:18 8779k"
       ]
      },
      {
       "output_type": "stream",
       "stream": "stdout",
       "text": [
        "\r",
        "  4 5041M    4  227M    0     0  8063k      0  0:10:40  0:00:28  0:10:12 8873k"
       ]
      },
      {
       "output_type": "stream",
       "stream": "stdout",
       "text": [
        "\r",
        "  4 5041M    4  236M    0     0  8103k      0  0:10:37  0:00:29  0:10:08 8659k"
       ]
      },
      {
       "output_type": "stream",
       "stream": "stdout",
       "text": [
        "\r",
        "  4 5041M    4  246M    0     0  8184k      0  0:10:30  0:00:30  0:10:00 9445k"
       ]
      },
      {
       "output_type": "stream",
       "stream": "stdout",
       "text": [
        "\r",
        "  5 5041M    5  254M    0     0  8174k      0  0:10:31  0:00:31  0:10:00 9360k"
       ]
      },
      {
       "output_type": "stream",
       "stream": "stdout",
       "text": [
        "\r",
        "  5 5041M    5  260M    0     0  8100k      0  0:10:37  0:00:32  0:10:05 8648k"
       ]
      },
      {
       "output_type": "stream",
       "stream": "stdout",
       "text": [
        "\r",
        "  5 5041M    5  261M    0     0  7171k      0  0:11:59  0:00:37  0:11:22 4123k"
       ]
      },
      {
       "output_type": "stream",
       "stream": "stdout",
       "text": [
        "\r",
        "  5 5041M    5  264M    0     0  7144k      0  0:12:02  0:00:37  0:11:25 3561k"
       ]
      },
      {
       "output_type": "stream",
       "stream": "stdout",
       "text": [
        "\r",
        "  5 5041M    5  266M    0     0  6930k      0  0:12:25  0:00:39  0:11:46 2394k"
       ]
      },
      {
       "output_type": "stream",
       "stream": "stdout",
       "text": [
        "\r",
        "  5 5041M    5  267M    0     0  6857k      0  0:12:32  0:00:39  0:11:53 1641k"
       ]
      },
      {
       "output_type": "stream",
       "stream": "stdout",
       "text": [
        "\r",
        "  5 5041M    5  269M    0     0  6727k      0  0:12:47  0:00:40  0:12:07 1130k"
       ]
      },
      {
       "output_type": "stream",
       "stream": "stdout",
       "text": [
        "\r",
        "  5 5041M    5  271M    0     0  6615k      0  0:13:00  0:00:41  0:12:19 2099k"
       ]
      },
      {
       "output_type": "stream",
       "stream": "stdout",
       "text": [
        "\r",
        "  5 5041M    5  275M    0     0  6572k      0  0:13:05  0:00:42  0:12:23 2281k"
       ]
      },
      {
       "output_type": "stream",
       "stream": "stdout",
       "text": [
        "\r",
        "  5 5041M    5  282M    0     0  6584k      0  0:13:04  0:00:43  0:12:21 3528k"
       ]
      },
      {
       "output_type": "stream",
       "stream": "stdout",
       "text": [
        "\r",
        "  5 5041M    5  289M    0     0  6610k      0  0:13:01  0:00:44  0:12:17 4615k"
       ]
      },
      {
       "output_type": "stream",
       "stream": "stdout",
       "text": [
        "\r",
        "  5 5041M    5  293M    0     0  6543k      0  0:13:09  0:00:45  0:12:24 5017k"
       ]
      },
      {
       "output_type": "stream",
       "stream": "stdout",
       "text": [
        "\r",
        "  5 5041M    5  297M    0     0  6500k      0  0:13:14  0:00:46  0:12:28 5521k"
       ]
      },
      {
       "output_type": "stream",
       "stream": "stdout",
       "text": [
        "\r",
        "  6 5041M    6  302M    0     0  6470k      0  0:13:17  0:00:47  0:12:30 5593k"
       ]
      },
      {
       "output_type": "stream",
       "stream": "stdout",
       "text": [
        "\r",
        "  6 5041M    6  309M    0     0  6477k      0  0:13:17  0:00:48  0:12:29 5533k"
       ]
      },
      {
       "output_type": "stream",
       "stream": "stdout",
       "text": [
        "\r",
        "  6 5041M    6  313M    0     0  6436k      0  0:13:22  0:00:49  0:12:33 4875k"
       ]
      },
      {
       "output_type": "stream",
       "stream": "stdout",
       "text": [
        "\r",
        "  6 5041M    6  319M    0     0  6423k      0  0:13:23  0:00:50  0:12:33 5322k"
       ]
      },
      {
       "output_type": "stream",
       "stream": "stdout",
       "text": [
        "\r",
        "  6 5041M    6  325M    0     0  6413k      0  0:13:25  0:00:51  0:12:34 5596k"
       ]
      },
      {
       "output_type": "stream",
       "stream": "stdout",
       "text": [
        "\r",
        "  6 5041M    6  329M    0     0  6387k      0  0:13:28  0:00:52  0:12:36 5586k"
       ]
      },
      {
       "output_type": "stream",
       "stream": "stdout",
       "text": [
        "\r",
        "  6 5041M    6  338M    0     0  6429k      0  0:13:23  0:00:53  0:12:30 5961k"
       ]
      },
      {
       "output_type": "stream",
       "stream": "stdout",
       "text": [
        "\r",
        "  6 5041M    6  346M    0     0  6470k      0  0:13:17  0:00:54  0:12:23 6812k"
       ]
      },
      {
       "output_type": "stream",
       "stream": "stdout",
       "text": [
        "\r",
        "  7 5041M    7  356M    0     0  6527k      0  0:13:10  0:00:55  0:12:15 7582k"
       ]
      },
      {
       "output_type": "stream",
       "stream": "stdout",
       "text": [
        "\r",
        "  7 5041M    7  366M    0     0  6596k      0  0:13:02  0:00:56  0:12:06 8491k"
       ]
      },
      {
       "output_type": "stream",
       "stream": "stdout",
       "text": [
        "\r",
        "  7 5041M    7  376M    0     0  6659k      0  0:12:55  0:00:57  0:11:58 9530k"
       ]
      },
      {
       "output_type": "stream",
       "stream": "stdout",
       "text": [
        "\r",
        "  7 5041M    7  383M    0     0  6663k      0  0:12:54  0:00:58  0:11:56 9193k"
       ]
      },
      {
       "output_type": "stream",
       "stream": "stdout",
       "text": [
        "\r",
        "  7 5041M    7  391M    0     0  6688k      0  0:12:51  0:00:59  0:11:52 9077k"
       ]
      },
      {
       "output_type": "stream",
       "stream": "stdout",
       "text": [
        "\r",
        "  7 5041M    7  398M    0     0  6706k      0  0:12:49  0:01:00  0:11:49 8701k"
       ]
      },
      {
       "output_type": "stream",
       "stream": "stdout",
       "text": [
        "\r",
        "  8 5041M    8  406M    0     0  6732k      0  0:12:46  0:01:01  0:11:45 8288k"
       ]
      },
      {
       "output_type": "stream",
       "stream": "stdout",
       "text": [
        "\r",
        "  8 5041M    8  415M    0     0  6770k      0  0:12:42  0:01:02  0:11:40 8055k"
       ]
      },
      {
       "output_type": "stream",
       "stream": "stdout",
       "text": [
        "\r",
        "  8 5041M    8  425M    0     0  6819k      0  0:12:37  0:01:03  0:11:34 8652k"
       ]
      },
      {
       "output_type": "stream",
       "stream": "stdout",
       "text": [
        "\r",
        "  8 5041M    8  434M    0     0  6861k      0  0:12:32  0:01:04  0:11:28 8931k"
       ]
      },
      {
       "output_type": "stream",
       "stream": "stdout",
       "text": [
        "\r",
        "  8 5041M    8  443M    0     0  6886k      0  0:12:29  0:01:05  0:11:24 9049k"
       ]
      },
      {
       "output_type": "stream",
       "stream": "stdout",
       "text": [
        "\r",
        "  8 5041M    8  450M    0     0  6903k      0  0:12:27  0:01:06  0:11:21 9013k"
       ]
      },
      {
       "output_type": "stream",
       "stream": "stdout",
       "text": [
        "\r",
        "  9 5041M    9  457M    0     0  6887k      0  0:12:29  0:01:07  0:11:22 8351k"
       ]
      },
      {
       "output_type": "stream",
       "stream": "stdout",
       "text": [
        "\r",
        "  9 5041M    9  463M    0     0  6887k      0  0:12:29  0:01:08  0:11:21 7757k"
       ]
      },
      {
       "output_type": "stream",
       "stream": "stdout",
       "text": [
        "\r",
        "  9 5041M    9  470M    0     0  6894k      0  0:12:28  0:01:09  0:11:19 7323k"
       ]
      },
      {
       "output_type": "stream",
       "stream": "stdout",
       "text": [
        "\r",
        "  9 5041M    9  475M    0     0  6866k      0  0:12:31  0:01:10  0:11:21 6601k"
       ]
      },
      {
       "output_type": "stream",
       "stream": "stdout",
       "text": [
        "\r",
        "  9 5041M    9  480M    0     0  6838k      0  0:12:34  0:01:11  0:11:23 5977k"
       ]
      },
      {
       "output_type": "stream",
       "stream": "stdout",
       "text": [
        "\r",
        "  9 5041M    9  481M    0     0  6442k      0  0:13:21  0:01:16  0:12:05 2918k"
       ]
      },
      {
       "output_type": "stream",
       "stream": "stdout",
       "text": [
        "\r",
        "  9 5041M    9  482M    0     0  6428k      0  0:13:23  0:01:16  0:12:07 2482k"
       ]
      },
      {
       "output_type": "stream",
       "stream": "stdout",
       "text": [
        "\r",
        "  9 5041M    9  484M    0     0  6361k      0  0:13:31  0:01:18  0:12:13 1795k"
       ]
      },
      {
       "output_type": "stream",
       "stream": "stdout",
       "text": [
        "\r",
        "  9 5041M    9  489M    0     0  6353k      0  0:13:32  0:01:18  0:12:14 1799k"
       ]
      },
      {
       "output_type": "stream",
       "stream": "stdout",
       "text": [
        "\r",
        "  9 5041M    9  494M    0     0  6313k      0  0:13:37  0:01:20  0:12:17 1795k"
       ]
      },
      {
       "output_type": "stream",
       "stream": "stdout",
       "text": [
        "\r",
        "  9 5041M    9  500M    0     0  6336k      0  0:13:34  0:01:20  0:12:14 4473k"
       ]
      },
      {
       "output_type": "stream",
       "stream": "stdout",
       "text": [
        "\r",
        " 10 5041M   10  509M    0     0  6369k      0  0:13:30  0:01:21  0:12:09 5451k"
       ]
      },
      {
       "output_type": "stream",
       "stream": "stdout",
       "text": [
        "\r",
        " 10 5041M   10  518M    0     0  6408k      0  0:13:25  0:01:22  0:12:03 7160k"
       ]
      },
      {
       "output_type": "stream",
       "stream": "stdout",
       "text": [
        "\r",
        " 10 5041M   10  526M    0     0  6421k      0  0:13:24  0:01:23  0:12:01 7493k"
       ]
      },
      {
       "output_type": "stream",
       "stream": "stdout",
       "text": [
        "\r",
        " 10 5041M   10  534M    0     0  6445k      0  0:13:21  0:01:24  0:11:57 8740k"
       ]
      },
      {
       "output_type": "stream",
       "stream": "stdout",
       "text": [
        "\r",
        " 10 5041M   10  541M    0     0  6455k      0  0:13:19  0:01:25  0:11:54 8373k"
       ]
      },
      {
       "output_type": "stream",
       "stream": "stdout",
       "text": [
        "\r",
        " 10 5041M   10  547M    0     0  6454k      0  0:13:19  0:01:26  0:11:53 7841k"
       ]
      },
      {
       "output_type": "stream",
       "stream": "stdout",
       "text": [
        "\r",
        " 11 5041M   11  555M    0     0  6472k      0  0:13:17  0:01:27  0:11:50 7537k"
       ]
      },
      {
       "output_type": "stream",
       "stream": "stdout",
       "text": [
        "\r",
        " 11 5041M   11  564M    0     0  6502k      0  0:13:13  0:01:28  0:11:45 7866k"
       ]
      },
      {
       "output_type": "stream",
       "stream": "stdout",
       "text": [
        "\r",
        " 11 5041M   11  571M    0     0  6486k      0  0:13:16  0:01:30  0:11:46 7141k"
       ]
      },
      {
       "output_type": "stream",
       "stream": "stdout",
       "text": [
        "\r",
        " 11 5041M   11  578M    0     0  6521k      0  0:13:11  0:01:30  0:11:41 7659k"
       ]
      },
      {
       "output_type": "stream",
       "stream": "stdout",
       "text": [
        "\r",
        " 11 5041M   11  587M    0     0  6541k      0  0:13:09  0:01:31  0:11:38 8068k"
       ]
      },
      {
       "output_type": "stream",
       "stream": "stdout",
       "text": [
        "\r",
        " 11 5041M   11  595M    0     0  6566k      0  0:13:06  0:01:32  0:11:34 8221k"
       ]
      },
      {
       "output_type": "stream",
       "stream": "stdout",
       "text": [
        "\r",
        " 11 5041M   11  602M    0     0  6569k      0  0:13:05  0:01:33  0:11:32 7766k"
       ]
      },
      {
       "output_type": "stream",
       "stream": "stdout",
       "text": [
        "\r",
        " 12 5041M   12  610M    0     0  6582k      0  0:13:04  0:01:34  0:11:30 8407k"
       ]
      },
      {
       "output_type": "stream",
       "stream": "stdout",
       "text": [
        "\r",
        " 12 5041M   12  619M    0     0  6614k      0  0:13:00  0:01:35  0:11:25 8314k"
       ]
      },
      {
       "output_type": "stream",
       "stream": "stdout",
       "text": [
        "\r",
        " 12 5041M   12  625M    0     0  6567k      0  0:13:06  0:01:37  0:11:29 6978k"
       ]
      },
      {
       "output_type": "stream",
       "stream": "stdout",
       "text": [
        "\r",
        " 12 5041M   12  625M    0     0  6506k      0  0:13:13  0:01:38  0:11:35 5511k"
       ]
      },
      {
       "output_type": "stream",
       "stream": "stdout",
       "text": [
        "\r",
        " 12 5041M   12  627M    0     0  6492k      0  0:13:15  0:01:38  0:11:37 5041k"
       ]
      },
      {
       "output_type": "stream",
       "stream": "stdout",
       "text": [
        "\r",
        " 12 5041M   12  634M    0     0  6506k      0  0:13:13  0:01:39  0:11:34 5060k"
       ]
      },
      {
       "output_type": "stream",
       "stream": "stdout",
       "text": [
        "\r",
        " 12 5041M   12  643M    0     0  6526k      0  0:13:11  0:01:40  0:11:31 4861k"
       ]
      },
      {
       "output_type": "stream",
       "stream": "stdout",
       "text": [
        "\r",
        " 12 5041M   12  652M    0     0  6557k      0  0:13:07  0:01:41  0:11:26 6343k"
       ]
      },
      {
       "output_type": "stream",
       "stream": "stdout",
       "text": [
        "\r",
        " 13 5041M   13  662M    0     0  6595k      0  0:13:02  0:01:42  0:11:20 8568k"
       ]
      },
      {
       "output_type": "stream",
       "stream": "stdout",
       "text": [
        "\r",
        " 13 5041M   13  672M    0     0  6631k      0  0:12:58  0:01:43  0:11:15 9389k"
       ]
      },
      {
       "output_type": "stream",
       "stream": "stdout",
       "text": [
        "\r",
        " 13 5041M   13  682M    0     0  6663k      0  0:12:54  0:01:44  0:11:10 9810k"
       ]
      },
      {
       "output_type": "stream",
       "stream": "stdout",
       "text": [
        "\r",
        " 13 5041M   13  693M    0     0  6703k      0  0:12:50  0:01:45  0:11:05 10.0M"
       ]
      },
      {
       "output_type": "stream",
       "stream": "stdout",
       "text": [
        "\r",
        " 13 5041M   13  696M    0     0  6653k      0  0:12:55  0:01:47  0:11:08 8506k"
       ]
      },
      {
       "output_type": "stream",
       "stream": "stdout",
       "text": [
        "\r",
        " 13 5041M   13  703M    0     0  6674k      0  0:12:53  0:01:47  0:11:06 8289k"
       ]
      },
      {
       "output_type": "stream",
       "stream": "stdout",
       "text": [
        "\r",
        " 14 5041M   14  713M    0     0  6711k      0  0:12:49  0:01:48  0:11:01 8360k"
       ]
      },
      {
       "output_type": "stream",
       "stream": "stdout",
       "text": [
        "\r",
        " 14 5041M   14  723M    0     0  6744k      0  0:12:45  0:01:49  0:10:56 8447k"
       ]
      },
      {
       "output_type": "stream",
       "stream": "stdout",
       "text": [
        "\r",
        " 14 5041M   14  734M    0     0  6782k      0  0:12:41  0:01:50  0:10:51 8462k"
       ]
      },
      {
       "output_type": "stream",
       "stream": "stdout",
       "text": [
        "\r",
        " 14 5041M   14  742M    0     0  6795k      0  0:12:39  0:01:51  0:10:48  9.7M"
       ]
      },
      {
       "output_type": "stream",
       "stream": "stdout",
       "text": [
        "\r",
        " 14 5041M   14  752M    0     0  6817k      0  0:12:37  0:01:52  0:10:45 9868k"
       ]
      },
      {
       "output_type": "stream",
       "stream": "stdout",
       "text": [
        "\r",
        " 15 5041M   15  762M    0     0  6851k      0  0:12:33  0:01:53  0:10:40 9898k"
       ]
      },
      {
       "output_type": "stream",
       "stream": "stdout",
       "text": [
        "\r",
        " 15 5041M   15  772M    0     0  6883k      0  0:12:30  0:01:54  0:10:36 9930k"
       ]
      },
      {
       "output_type": "stream",
       "stream": "stdout",
       "text": [
        "\r",
        " 15 5041M   15  782M    0     0  6917k      0  0:12:26  0:01:55  0:10:31 9902k"
       ]
      },
      {
       "output_type": "stream",
       "stream": "stdout",
       "text": [
        "\r",
        " 15 5041M   15  792M    0     0  6945k      0  0:12:23  0:01:56  0:10:27 10.0M"
       ]
      },
      {
       "output_type": "stream",
       "stream": "stdout",
       "text": [
        "\r",
        " 15 5041M   15  803M    0     0  6977k      0  0:12:19  0:01:57  0:10:22 10.3M"
       ]
      },
      {
       "output_type": "stream",
       "stream": "stdout",
       "text": [
        "\r",
        " 16 5041M   16  814M    0     0  7011k      0  0:12:16  0:01:58  0:10:18 10.4M"
       ]
      },
      {
       "output_type": "stream",
       "stream": "stdout",
       "text": [
        "\r",
        " 16 5041M   16  823M    0     0  7037k      0  0:12:13  0:01:59  0:10:14 10.3M"
       ]
      },
      {
       "output_type": "stream",
       "stream": "stdout",
       "text": [
        "\r",
        " 16 5041M   16  834M    0     0  7066k      0  0:12:10  0:02:00  0:10:10 10.2M"
       ]
      },
      {
       "output_type": "stream",
       "stream": "stdout",
       "text": [
        "\r",
        " 16 5041M   16  845M    0     0  7098k      0  0:12:07  0:02:01  0:10:06 10.4M"
       ]
      },
      {
       "output_type": "stream",
       "stream": "stdout",
       "text": [
        "\r",
        " 16 5041M   16  854M    0     0  7123k      0  0:12:04  0:02:02  0:10:02 10.3M"
       ]
      },
      {
       "output_type": "stream",
       "stream": "stdout",
       "text": [
        "\r",
        " 17 5041M   17  865M    0     0  7150k      0  0:12:02  0:02:03  0:09:59 10.2M"
       ]
      },
      {
       "output_type": "stream",
       "stream": "stdout",
       "text": [
        "\r",
        " 17 5041M   17  875M    0     0  7181k      0  0:11:58  0:02:04  0:09:54 10.3M"
       ]
      },
      {
       "output_type": "stream",
       "stream": "stdout",
       "text": [
        "\r",
        " 17 5041M   17  886M    0     0  7208k      0  0:11:56  0:02:05  0:09:51 10.3M"
       ]
      },
      {
       "output_type": "stream",
       "stream": "stdout",
       "text": [
        "\r",
        " 17 5041M   17  892M    0     0  7204k      0  0:11:56  0:02:06  0:09:50 9779k"
       ]
      },
      {
       "output_type": "stream",
       "stream": "stdout",
       "text": [
        "\r",
        " 17 5041M   17  903M    0     0  7231k      0  0:11:54  0:02:07  0:09:47 9876k"
       ]
      },
      {
       "output_type": "stream",
       "stream": "stdout",
       "text": [
        "\r",
        " 18 5041M   18  912M    0     0  7249k      0  0:11:52  0:02:08  0:09:44 9709k"
       ]
      },
      {
       "output_type": "stream",
       "stream": "stdout",
       "text": [
        "\r",
        " 18 5041M   18  922M    0     0  7273k      0  0:11:49  0:02:09  0:09:40 9565k"
       ]
      },
      {
       "output_type": "stream",
       "stream": "stdout",
       "text": [
        "\r",
        " 18 5041M   18  933M    0     0  7301k      0  0:11:47  0:02:10  0:09:37 9640k"
       ]
      },
      {
       "output_type": "stream",
       "stream": "stdout",
       "text": [
        "\r",
        " 18 5041M   18  943M    0     0  7326k      0  0:11:44  0:02:11  0:09:33 10.1M"
       ]
      },
      {
       "output_type": "stream",
       "stream": "stdout",
       "text": [
        "\r",
        " 18 5041M   18  954M    0     0  7353k      0  0:11:42  0:02:12  0:09:30 10.2M"
       ]
      },
      {
       "output_type": "stream",
       "stream": "stdout",
       "text": [
        "\r",
        " 19 5041M   19  965M    0     0  7380k      0  0:11:39  0:02:13  0:09:26 10.4M"
       ]
      },
      {
       "output_type": "stream",
       "stream": "stdout",
       "text": [
        "\r",
        " 19 5041M   19  973M    0     0  7388k      0  0:11:38  0:02:14  0:09:24 10.1M"
       ]
      },
      {
       "output_type": "stream",
       "stream": "stdout",
       "text": [
        "\r",
        " 19 5041M   19  980M    0     0  7384k      0  0:11:39  0:02:15  0:09:24 9573k"
       ]
      },
      {
       "output_type": "stream",
       "stream": "stdout",
       "text": [
        "\r",
        " 19 5041M   19  987M    0     0  7382k      0  0:11:39  0:02:16  0:09:23 8863k"
       ]
      },
      {
       "output_type": "stream",
       "stream": "stdout",
       "text": [
        "\r",
        " 19 5041M   19  995M    0     0  7389k      0  0:11:38  0:02:17  0:09:21 8351k"
       ]
      },
      {
       "output_type": "stream",
       "stream": "stdout",
       "text": [
        "\r",
        " 19 5041M   19 1004M    0     0  7404k      0  0:11:37  0:02:18  0:09:19 8049k"
       ]
      },
      {
       "output_type": "stream",
       "stream": "stdout",
       "text": [
        "\r",
        " 20 5041M   20 1014M    0     0  7422k      0  0:11:35  0:02:19  0:09:16 8337k"
       ]
      },
      {
       "output_type": "stream",
       "stream": "stdout",
       "text": [
        "\r",
        " 20 5041M   20 1023M    0     0  7440k      0  0:11:33  0:02:20  0:09:13 8968k"
       ]
      },
      {
       "output_type": "stream",
       "stream": "stdout",
       "text": [
        "\r",
        " 20 5041M   20 1034M    0     0  7464k      0  0:11:31  0:02:21  0:09:10 9698k"
       ]
      },
      {
       "output_type": "stream",
       "stream": "stdout",
       "text": [
        "\r",
        " 20 5041M   20 1043M    0     0  7476k      0  0:11:30  0:02:22  0:09:08 9857k"
       ]
      },
      {
       "output_type": "stream",
       "stream": "stdout",
       "text": [
        "\r",
        " 20 5041M   20 1049M    0     0  7465k      0  0:11:31  0:02:23  0:09:08 9152k"
       ]
      },
      {
       "output_type": "stream",
       "stream": "stdout",
       "text": [
        "\r",
        " 20 5041M   20 1056M    0     0  7468k      0  0:11:31  0:02:24  0:09:07 8744k"
       ]
      },
      {
       "output_type": "stream",
       "stream": "stdout",
       "text": [
        "\r",
        " 21 5041M   21 1065M    0     0  7481k      0  0:11:30  0:02:25  0:09:05 8616k"
       ]
      },
      {
       "output_type": "stream",
       "stream": "stdout",
       "text": [
        "\r",
        " 21 5041M   21 1073M    0     0  7482k      0  0:11:30  0:02:26  0:09:04 7985k"
       ]
      },
      {
       "output_type": "stream",
       "stream": "stdout",
       "text": [
        "\r",
        " 21 5041M   21 1079M    0     0  7477k      0  0:11:30  0:02:27  0:09:03 7491k"
       ]
      },
      {
       "output_type": "stream",
       "stream": "stdout",
       "text": [
        "\r",
        " 21 5041M   21 1086M    0     0  7472k      0  0:11:30  0:02:28  0:09:02 7697k"
       ]
      },
      {
       "output_type": "stream",
       "stream": "stdout",
       "text": [
        "\r",
        " 21 5041M   21 1094M    0     0  7477k      0  0:11:30  0:02:29  0:09:01 7749k"
       ]
      },
      {
       "output_type": "stream",
       "stream": "stdout",
       "text": [
        "\r",
        " 21 5041M   21 1104M    0     0  7492k      0  0:11:29  0:02:30  0:08:59 7814k"
       ]
      },
      {
       "output_type": "stream",
       "stream": "stdout",
       "text": [
        "\r",
        " 22 5041M   22 1113M    0     0  7507k      0  0:11:27  0:02:31  0:08:56 8254k"
       ]
      },
      {
       "output_type": "stream",
       "stream": "stdout",
       "text": [
        "\r",
        " 22 5041M   22 1123M    0     0  7524k      0  0:11:26  0:02:32  0:08:54 8921k"
       ]
      },
      {
       "output_type": "stream",
       "stream": "stdout",
       "text": [
        "\r",
        " 22 5041M   22 1133M    0     0  7544k      0  0:11:24  0:02:33  0:08:51 9675k"
       ]
      },
      {
       "output_type": "stream",
       "stream": "stdout",
       "text": [
        "\r",
        " 22 5041M   22 1144M    0     0  7566k      0  0:11:22  0:02:34  0:08:48  9.9M"
       ]
      },
      {
       "output_type": "stream",
       "stream": "stdout",
       "text": [
        "\r",
        " 22 5041M   22 1150M    0     0  7555k      0  0:11:23  0:02:35  0:08:48 9466k"
       ]
      },
      {
       "output_type": "stream",
       "stream": "stdout",
       "text": [
        "\r",
        " 22 5041M   22 1156M    0     0  7547k      0  0:11:24  0:02:36  0:08:48 8755k"
       ]
      },
      {
       "output_type": "stream",
       "stream": "stdout",
       "text": [
        "\r",
        " 23 5041M   23 1160M    0     0  7500k      0  0:11:28  0:02:38  0:08:50 6838k"
       ]
      },
      {
       "output_type": "stream",
       "stream": "stdout",
       "text": [
        "\r",
        " 23 5041M   23 1161M    0     0  7484k      0  0:11:29  0:02:38  0:08:51 5644k"
       ]
      },
      {
       "output_type": "stream",
       "stream": "stdout",
       "text": [
        "\r",
        " 23 5041M   23 1167M    0     0  7475k      0  0:11:30  0:02:39  0:08:51 4655k"
       ]
      },
      {
       "output_type": "stream",
       "stream": "stdout",
       "text": [
        "\r",
        " 23 5041M   23 1173M    0     0  7469k      0  0:11:31  0:02:40  0:08:51 4798k"
       ]
      },
      {
       "output_type": "stream",
       "stream": "stdout",
       "text": [
        "\r",
        " 23 5041M   23 1181M    0     0  7474k      0  0:11:30  0:02:41  0:08:49 5176k"
       ]
      },
      {
       "output_type": "stream",
       "stream": "stdout",
       "text": [
        "\r",
        " 23 5041M   23 1190M    0     0  7485k      0  0:11:29  0:02:42  0:08:47 6972k"
       ]
      },
      {
       "output_type": "stream",
       "stream": "stdout",
       "text": [
        "\r",
        " 23 5041M   23 1200M    0     0  7499k      0  0:11:28  0:02:43  0:08:45 7974k"
       ]
      },
      {
       "output_type": "stream",
       "stream": "stdout",
       "text": [
        "\r",
        " 24 5041M   24 1210M    0     0  7516k      0  0:11:26  0:02:44  0:08:42 8816k"
       ]
      },
      {
       "output_type": "stream",
       "stream": "stdout",
       "text": [
        "\r",
        " 24 5041M   24 1220M    0     0  7532k      0  0:11:25  0:02:45  0:08:40 9531k"
       ]
      },
      {
       "output_type": "stream",
       "stream": "stdout",
       "text": [
        "\r",
        " 24 5041M   24 1230M    0     0  7550k      0  0:11:23  0:02:46  0:08:37  9.7M"
       ]
      },
      {
       "output_type": "stream",
       "stream": "stdout",
       "text": [
        "\r",
        " 24 5041M   24 1240M    0     0  7568k      0  0:11:22  0:02:47  0:08:35 10.0M"
       ]
      },
      {
       "output_type": "stream",
       "stream": "stdout",
       "text": [
        "\r",
        " 24 5041M   24 1251M    0     0  7586k      0  0:11:20  0:02:48  0:08:32 10.1M"
       ]
      },
      {
       "output_type": "stream",
       "stream": "stdout",
       "text": [
        "\r",
        " 24 5041M   24 1260M    0     0  7594k      0  0:11:19  0:02:49  0:08:30  9.9M"
       ]
      },
      {
       "output_type": "stream",
       "stream": "stdout",
       "text": [
        "\r",
        " 25 5041M   25 1266M    0     0  7590k      0  0:11:20  0:02:50  0:08:30 9533k"
       ]
      },
      {
       "output_type": "stream",
       "stream": "stdout",
       "text": [
        "\r",
        " 25 5041M   25 1272M    0     0  7577k      0  0:11:21  0:02:51  0:08:30 8487k"
       ]
      },
      {
       "output_type": "stream",
       "stream": "stdout",
       "text": [
        "\r",
        " 25 5041M   25 1280M    0     0  7581k      0  0:11:20  0:02:52  0:08:28 8033k"
       ]
      },
      {
       "output_type": "stream",
       "stream": "stdout",
       "text": [
        "\r",
        " 25 5041M   25 1287M    0     0  7579k      0  0:11:21  0:02:53  0:08:28 7350k"
       ]
      },
      {
       "output_type": "stream",
       "stream": "stdout",
       "text": [
        "\r",
        " 25 5041M   25 1293M    0     0  7574k      0  0:11:21  0:02:54  0:08:27 6862k"
       ]
      },
      {
       "output_type": "stream",
       "stream": "stdout",
       "text": [
        "\r",
        " 25 5041M   25 1301M    0     0  7579k      0  0:11:21  0:02:55  0:08:26 7183k"
       ]
      },
      {
       "output_type": "stream",
       "stream": "stdout",
       "text": [
        "\r",
        " 25 5041M   25 1310M    0     0  7588k      0  0:11:20  0:02:56  0:08:24 7944k"
       ]
      },
      {
       "output_type": "stream",
       "stream": "stdout",
       "text": [
        "\r",
        " 26 5041M   26 1319M    0     0  7597k      0  0:11:19  0:02:57  0:08:22 8138k"
       ]
      },
      {
       "output_type": "stream",
       "stream": "stdout",
       "text": [
        "\r",
        " 26 5041M   26 1329M    0     0  7610k      0  0:11:18  0:02:58  0:08:20 8688k"
       ]
      },
      {
       "output_type": "stream",
       "stream": "stdout",
       "text": [
        "\r",
        " 26 5041M   26 1339M    0     0  7624k      0  0:11:17  0:02:59  0:08:18 9398k"
       ]
      },
      {
       "output_type": "stream",
       "stream": "stdout",
       "text": [
        "\r",
        " 26 5041M   26 1350M    0     0  7643k      0  0:11:15  0:03:00  0:08:15 9898k"
       ]
      },
      {
       "output_type": "stream",
       "stream": "stdout",
       "text": [
        "\r",
        " 26 5041M   26 1357M    0     0  7641k      0  0:11:15  0:03:01  0:08:14 9532k"
       ]
      },
      {
       "output_type": "stream",
       "stream": "stdout",
       "text": [
        "\r",
        " 27 5041M   27 1365M    0     0  7645k      0  0:11:15  0:03:02  0:08:13 9361k"
       ]
      },
      {
       "output_type": "stream",
       "stream": "stdout",
       "text": [
        "\r",
        " 27 5041M   27 1374M    0     0  7652k      0  0:11:14  0:03:03  0:08:11 9140k"
       ]
      },
      {
       "output_type": "stream",
       "stream": "stdout",
       "text": [
        "\r",
        " 27 5041M   27 1383M    0     0  7663k      0  0:11:13  0:03:04  0:08:09 9064k"
       ]
      },
      {
       "output_type": "stream",
       "stream": "stdout",
       "text": [
        "\r",
        " 27 5041M   27 1393M    0     0  7675k      0  0:11:12  0:03:05  0:08:07 8850k"
       ]
      },
      {
       "output_type": "stream",
       "stream": "stdout",
       "text": [
        "\r",
        " 27 5041M   27 1403M    0     0  7691k      0  0:11:11  0:03:06  0:08:05 9492k"
       ]
      },
      {
       "output_type": "stream",
       "stream": "stdout",
       "text": [
        "\r",
        " 28 5041M   28 1413M    0     0  7705k      0  0:11:10  0:03:07  0:08:03 9916k"
       ]
      },
      {
       "output_type": "stream",
       "stream": "stdout",
       "text": [
        "\r",
        " 28 5041M   28 1420M    0     0  7703k      0  0:11:10  0:03:08  0:08:02 9570k"
       ]
      },
      {
       "output_type": "stream",
       "stream": "stdout",
       "text": [
        "\r",
        " 28 5041M   28 1428M    0     0  7705k      0  0:11:10  0:03:09  0:08:01 9257k"
       ]
      },
      {
       "output_type": "stream",
       "stream": "stdout",
       "text": [
        "\r",
        " 28 5041M   28 1438M    0     0  7715k      0  0:11:09  0:03:10  0:07:59 9202k"
       ]
      },
      {
       "output_type": "stream",
       "stream": "stdout",
       "text": [
        "\r",
        " 28 5041M   28 1447M    0     0  7725k      0  0:11:08  0:03:11  0:07:57 9000k"
       ]
      },
      {
       "output_type": "stream",
       "stream": "stdout",
       "text": [
        "\r",
        " 28 5041M   28 1457M    0     0  7739k      0  0:11:07  0:03:12  0:07:55 8986k"
       ]
      },
      {
       "output_type": "stream",
       "stream": "stdout",
       "text": [
        "\r",
        " 29 5041M   29 1467M    0     0  7752k      0  0:11:06  0:03:13  0:07:53 9602k"
       ]
      },
      {
       "output_type": "stream",
       "stream": "stdout",
       "text": [
        "\r",
        " 29 5041M   29 1478M    0     0  7767k      0  0:11:04  0:03:14  0:07:50  9.8M"
       ]
      },
      {
       "output_type": "stream",
       "stream": "stdout",
       "text": [
        "\r",
        " 29 5041M   29 1485M    0     0  7766k      0  0:11:04  0:03:15  0:07:49 9693k"
       ]
      },
      {
       "output_type": "stream",
       "stream": "stdout",
       "text": [
        "\r",
        " 29 5041M   29 1493M    0     0  7769k      0  0:11:04  0:03:16  0:07:48 9459k"
       ]
      },
      {
       "output_type": "stream",
       "stream": "stdout",
       "text": [
        "\r",
        " 29 5041M   29 1503M    0     0  7778k      0  0:11:03  0:03:17  0:07:46 9315k"
       ]
      },
      {
       "output_type": "stream",
       "stream": "stdout",
       "text": [
        "\r",
        " 29 5041M   29 1512M    0     0  7785k      0  0:11:03  0:03:18  0:07:45 9090k"
       ]
      },
      {
       "output_type": "stream",
       "stream": "stdout",
       "text": [
        "\r",
        " 30 5041M   30 1522M    0     0  7798k      0  0:11:02  0:03:19  0:07:43 9015k"
       ]
      },
      {
       "output_type": "stream",
       "stream": "stdout",
       "text": [
        "\r",
        " 30 5041M   30 1532M    0     0  7810k      0  0:11:01  0:03:20  0:07:41 9538k"
       ]
      },
      {
       "output_type": "stream",
       "stream": "stdout",
       "text": [
        "\r",
        " 30 5041M   30 1541M    0     0  7818k      0  0:11:00  0:03:21  0:07:39 9751k"
       ]
      },
      {
       "output_type": "stream",
       "stream": "stdout",
       "text": [
        "\r",
        " 30 5041M   30 1547M    0     0  7809k      0  0:11:01  0:03:22  0:07:39 9002k"
       ]
      },
      {
       "output_type": "stream",
       "stream": "stdout",
       "text": [
        "\r",
        " 30 5041M   30 1554M    0     0  7806k      0  0:11:01  0:03:23  0:07:38 8618k"
       ]
      },
      {
       "output_type": "stream",
       "stream": "stdout",
       "text": [
        "\r",
        " 30 5041M   30 1562M    0     0  7810k      0  0:11:01  0:03:24  0:07:37 8280k"
       ]
      },
      {
       "output_type": "stream",
       "stream": "stdout",
       "text": [
        "\r",
        " 31 5041M   31 1572M    0     0  7819k      0  0:11:00  0:03:25  0:07:35 8169k"
       ]
      },
      {
       "output_type": "stream",
       "stream": "stdout",
       "text": [
        "\r",
        " 31 5041M   31 1581M    0     0  7828k      0  0:10:59  0:03:26  0:07:33 8242k"
       ]
      },
      {
       "output_type": "stream",
       "stream": "stdout",
       "text": [
        "\r",
        " 31 5041M   31 1589M    0     0  7829k      0  0:10:59  0:03:27  0:07:32 8664k"
       ]
      },
      {
       "output_type": "stream",
       "stream": "stdout",
       "text": [
        "\r",
        " 31 5041M   31 1597M    0     0  7830k      0  0:10:59  0:03:28  0:07:31 8825k"
       ]
      },
      {
       "output_type": "stream",
       "stream": "stdout",
       "text": [
        "\r",
        " 31 5041M   31 1603M    0     0  7824k     "
       ]
      },
      {
       "output_type": "stream",
       "stream": "stdout",
       "text": [
        " 0  0:10:59  0:03:29  0:07:30 8385k"
       ]
      },
      {
       "output_type": "stream",
       "stream": "stdout",
       "text": [
        "\r",
        " 31 5041M   31 1611M    0     0  7825k      0  0:10:59  0:03:30  0:07:29 8106k"
       ]
      },
      {
       "output_type": "stream",
       "stream": "stdout",
       "text": [
        "\r",
        " 32 5041M   32 1621M    0     0  7834k      0  0:10:59  0:03:31  0:07:28 8084k"
       ]
      },
      {
       "output_type": "stream",
       "stream": "stdout",
       "text": [
        "\r",
        " 32 5041M   32 1630M    0     0  7843k      0  0:10:58  0:03:32  0:07:26 8412k"
       ]
      },
      {
       "output_type": "stream",
       "stream": "stdout",
       "text": [
        "\r",
        " 32 5041M   32 1640M    0     0  7855k      0  0:10:57  0:03:33  0:07:24 8910k"
       ]
      },
      {
       "output_type": "stream",
       "stream": "stdout",
       "text": [
        "\r",
        " 32 5041M   32 1650M    0     0  7865k      0  0:10:56  0:03:34  0:07:22 9586k"
       ]
      },
      {
       "output_type": "stream",
       "stream": "stdout",
       "text": [
        "\r",
        " 32 5041M   32 1661M    0     0  7878k      0  0:10:55  0:03:35  0:07:20  9.8M"
       ]
      },
      {
       "output_type": "stream",
       "stream": "stdout",
       "text": [
        "\r",
        " 33 5041M   33 1671M    0     0  7892k      0  0:10:54  0:03:36  0:07:18 10.0M"
       ]
      },
      {
       "output_type": "stream",
       "stream": "stdout",
       "text": [
        "\r",
        " 33 5041M   33 1681M    0     0  7904k      0  0:10:53  0:03:37  0:07:16 10.2M"
       ]
      },
      {
       "output_type": "stream",
       "stream": "stdout",
       "text": [
        "\r",
        " 33 5041M   33 1689M    0     0  7905k      0  0:10:53  0:03:38  0:07:15  9.7M"
       ]
      },
      {
       "output_type": "stream",
       "stream": "stdout",
       "text": [
        "\r",
        " 33 5041M   33 1696M    0     0  7901k      0  0:10:53  0:03:39  0:07:14 9459k"
       ]
      },
      {
       "output_type": "stream",
       "stream": "stdout",
       "text": [
        "\r",
        " 33 5041M   33 1705M    0     0  7907k      0  0:10:52  0:03:40  0:07:12 9129k"
       ]
      },
      {
       "output_type": "stream",
       "stream": "stdout",
       "text": [
        "\r",
        " 34 5041M   34 1715M    0     0  7914k      0  0:10:52  0:03:41  0:07:11 8895k"
       ]
      },
      {
       "output_type": "stream",
       "stream": "stdout",
       "text": [
        "\r",
        " 34 5041M   34 1722M    0     0  7914k      0  0:10:52  0:03:42  0:07:10 8357k"
       ]
      },
      {
       "output_type": "stream",
       "stream": "stdout",
       "text": [
        "\r",
        " 34 5041M   34 1731M    0     0  7916k      0  0:10:52  0:03:43  0:07:09 8421k"
       ]
      },
      {
       "output_type": "stream",
       "stream": "stdout",
       "text": [
        "\r",
        " 34 5041M   34 1740M    0     0  7923k      0  0:10:51  0:03:44  0:07:07 8871k"
       ]
      },
      {
       "output_type": "stream",
       "stream": "stdout",
       "text": [
        "\r",
        " 34 5041M   34 1750M    0     0  7933k      0  0:10:50  0:03:45  0:07:05 9109k"
       ]
      },
      {
       "output_type": "stream",
       "stream": "stdout",
       "text": [
        "\r",
        " 34 5041M   34 1760M    0     0  7943k      0  0:10:49  0:03:46  0:07:03 9214k"
       ]
      },
      {
       "output_type": "stream",
       "stream": "stdout",
       "text": [
        "\r",
        " 35 5041M   35 1770M    0     0  7956k      0  0:10:48  0:03:47  0:07:01 9805k"
       ]
      },
      {
       "output_type": "stream",
       "stream": "stdout",
       "text": [
        "\r",
        " 35 5041M   35 1780M    0     0  7966k      0  0:10:48  0:03:48  0:07:00  9.9M"
       ]
      },
      {
       "output_type": "stream",
       "stream": "stdout",
       "text": [
        "\r",
        " 35 5041M   35 1787M    0     0  7962k      0  0:10:48  0:03:49  0:06:59 9719k"
       ]
      },
      {
       "output_type": "stream",
       "stream": "stdout",
       "text": [
        "\r",
        " 35 5041M   35 1795M    0     0  7964k      0  0:10:48  0:03:50  0:06:58 9375k"
       ]
      },
      {
       "output_type": "stream",
       "stream": "stdout",
       "text": [
        "\r",
        " 35 5041M   35 1805M    0     0  7971k      0  0:10:47  0:03:51  0:06:56 9227k"
       ]
      },
      {
       "output_type": "stream",
       "stream": "stdout",
       "text": [
        "\r",
        " 35 5041M   35 1814M    0     0  7978k      0  0:10:47  0:03:52  0:06:55 9010k"
       ]
      },
      {
       "output_type": "stream",
       "stream": "stdout",
       "text": [
        "\r",
        " 36 5041M   36 1821M    0     0  7972k      0  0:10:47  0:03:53  0:06:54 8252k"
       ]
      },
      {
       "output_type": "stream",
       "stream": "stdout",
       "text": [
        "\r",
        " 36 5041M   36 1828M    0     0  7971k      0  0:10:47  0:03:54  0:06:53 8401k"
       ]
      },
      {
       "output_type": "stream",
       "stream": "stdout",
       "text": [
        "\r",
        " 36 5041M   36 1837M    0     0  7976k      0  0:10:47  0:03:55  0:06:52 8493k"
       ]
      },
      {
       "output_type": "stream",
       "stream": "stdout",
       "text": [
        "\r",
        " 36 5041M   36 1846M    0     0  7983k      0  0:10:46  0:03:56  0:06:50 8531k"
       ]
      },
      {
       "output_type": "stream",
       "stream": "stdout",
       "text": [
        "\r",
        " 36 5041M   36 1856M    0     0  7992k      0  0:10:46  0:03:57  0:06:49 8618k"
       ]
      },
      {
       "output_type": "stream",
       "stream": "stdout",
       "text": [
        "\r",
        " 37 5041M   37 1866M    0     0  8001k      0  0:10:45  0:03:58  0:06:47 9340k"
       ]
      },
      {
       "output_type": "stream",
       "stream": "stdout",
       "text": [
        "\r",
        " 37 5041M   37 1877M    0     0  8013k      0  0:10:44  0:03:59  0:06:45 9992k"
       ]
      },
      {
       "output_type": "stream",
       "stream": "stdout",
       "text": [
        "\r",
        " 37 5041M   37 1884M    0     0  8011k      0  0:10:44  0:04:00  0:06:44 9676k"
       ]
      },
      {
       "output_type": "stream",
       "stream": "stdout",
       "text": [
        "\r",
        " 37 5041M   37 1891M    0     0  8007k      0  0:10:44  0:04:01  0:06:43 9145k"
       ]
      },
      {
       "output_type": "stream",
       "stream": "stdout",
       "text": [
        "\r",
        " 37 5041M   37 1899M    0     0  8008k      0  0:10:44  0:04:02  0:06:42 8777k"
       ]
      },
      {
       "output_type": "stream",
       "stream": "stdout",
       "text": [
        "\r",
        " 37 5041M   37 1908M    0     0  8011k      0  0:10:44  0:04:03  0:06:41 8510k"
       ]
      },
      {
       "output_type": "stream",
       "stream": "stdout",
       "text": [
        "\r",
        " 37 5041M   37 1914M    0     0  8006k      0  0:10:44  0:04:04  0:06:40 7649k"
       ]
      },
      {
       "output_type": "stream",
       "stream": "stdout",
       "text": [
        "\r",
        " 38 5041M   38 1924M    0     0  8013k      0  0:10:44  0:04:05  0:06:39 8116k"
       ]
      },
      {
       "output_type": "stream",
       "stream": "stdout",
       "text": [
        "\r",
        " 38 5041M   38 1934M    0     0  8022k      0  0:10:43  0:04:06  0:06:37 8752k"
       ]
      },
      {
       "output_type": "stream",
       "stream": "stdout",
       "text": [
        "\r",
        " 38 5041M   38 1944M    0     0  8033k      0  0:10:42  0:04:07  0:06:35 9237k"
       ]
      },
      {
       "output_type": "stream",
       "stream": "stdout",
       "text": [
        "\r",
        " 38 5041M   38 1954M    0     0  8042k      0  0:10:41  0:04:08  0:06:33 9542k"
       ]
      },
      {
       "output_type": "stream",
       "stream": "stdout",
       "text": [
        "\r",
        " 38 5041M   38 1965M    0     0  8054k      0  0:10:41  0:04:09  0:06:32 10.1M"
       ]
      },
      {
       "output_type": "stream",
       "stream": "stdout",
       "text": [
        "\r",
        " 39 5041M   39 1972M    0     0  8046k      0  0:10:41  0:04:11  0:06:30 9643k"
       ]
      },
      {
       "output_type": "stream",
       "stream": "stdout",
       "text": [
        "\r",
        " 39 5041M   39 1976M    0     0  8034k      0  0:10:42  0:04:11  0:06:31 8637k"
       ]
      },
      {
       "output_type": "stream",
       "stream": "stdout",
       "text": [
        "\r",
        " 39 5041M   39 1983M    0     0  8031k      0  0:10:42  0:04:12  0:06:30 7943k"
       ]
      },
      {
       "output_type": "stream",
       "stream": "stdout",
       "text": [
        "\r",
        " 39 5041M   39 1991M    0     0  8033k      0  0:10:42  0:04:13  0:06:29 7574k"
       ]
      },
      {
       "output_type": "stream",
       "stream": "stdout",
       "text": [
        "\r",
        " 39 5041M   39 2000M    0     0  8036k      0  0:10:42  0:04:14  0:06:28 7136k"
       ]
      },
      {
       "output_type": "stream",
       "stream": "stdout",
       "text": [
        "\r",
        " 39 5041M   39 2006M    0     0  8028k      0  0:10:43  0:04:15  0:06:28 7056k"
       ]
      },
      {
       "output_type": "stream",
       "stream": "stdout",
       "text": [
        "\r",
        " 39 5041M   39 2013M    0     0  8024k      0  0:10:43  0:04:16  0:06:27 7536k"
       ]
      },
      {
       "output_type": "stream",
       "stream": "stdout",
       "text": [
        "\r",
        " 40 5041M   40 2022M    0     0  8028k      0  0:10:43  0:04:17  0:06:26 7912k"
       ]
      },
      {
       "output_type": "stream",
       "stream": "stdout",
       "text": [
        "\r",
        " 40 5041M   40 2027M    0     0  8018k      0  0:10:43  0:04:18  0:06:25 7277k"
       ]
      },
      {
       "output_type": "stream",
       "stream": "stdout",
       "text": [
        "\r",
        " 40 5041M   40 2036M    0     0  8023k      0  0:10:43  0:04:19  0:06:24 7386k"
       ]
      },
      {
       "output_type": "stream",
       "stream": "stdout",
       "text": [
        "\r",
        " 40 5041M   40 2045M    0     0  8027k      0  0:10:43  0:04:20  0:06:23 7973k"
       ]
      },
      {
       "output_type": "stream",
       "stream": "stdout",
       "text": [
        "\r",
        " 40 5041M   40 2055M    0     0  8035k      0  0:10:42  0:04:21  0:06:21 8574k"
       ]
      },
      {
       "output_type": "stream",
       "stream": "stdout",
       "text": [
        "\r",
        " 40 5041M   40 2064M    0     0  8042k      0  0:10:41  0:04:22  0:06:19 8740k"
       ]
      },
      {
       "output_type": "stream",
       "stream": "stdout",
       "text": [
        "\r",
        " 41 5041M   41 2072M    0     0  8040k      0  0:10:42  0:04:23  0:06:19 9188k"
       ]
      },
      {
       "output_type": "stream",
       "stream": "stdout",
       "text": [
        "\r",
        " 41 5041M   41 2079M    0     0  8039k      0  0:10:42  0:04:24  0:06:18 8839k"
       ]
      },
      {
       "output_type": "stream",
       "stream": "stdout",
       "text": [
        "\r",
        " 41 5041M   41 2088M    0     0  8043k      0  0:10:41  0:04:25  0:06:16 8890k"
       ]
      },
      {
       "output_type": "stream",
       "stream": "stdout",
       "text": [
        "\r",
        " 41 5041M   41 2098M    0     0  8052k      0  0:10:41  0:04:26  0:06:15 8939k"
       ]
      },
      {
       "output_type": "stream",
       "stream": "stdout",
       "text": [
        "\r",
        " 41 5041M   41 2108M    0     0  8059k      0  0:10:40  0:04:27  0:06:13 8953k"
       ]
      },
      {
       "output_type": "stream",
       "stream": "stdout",
       "text": [
        "\r",
        " 42 5041M   42 2119M    0     0  8070k      0  0:10:39  0:04:28  0:06:11 9623k"
       ]
      },
      {
       "output_type": "stream",
       "stream": "stdout",
       "text": [
        "\r",
        " 42 5041M   42 2128M    0     0  8076k      0  0:10:39  0:04:29  0:06:10  9.8M"
       ]
      },
      {
       "output_type": "stream",
       "stream": "stdout",
       "text": [
        "\r",
        " 42 5041M   42 2135M    0     0  8073k      0  0:10:39  0:04:30  0:06:09 9692k"
       ]
      },
      {
       "output_type": "stream",
       "stream": "stdout",
       "text": [
        "\r",
        " 42 5041M   42 2144M    0     0  8077k      0  0:10:39  0:04:31  0:06:08 9422k"
       ]
      },
      {
       "output_type": "stream",
       "stream": "stdout",
       "text": [
        "\r",
        " 42 5041M   42 2153M    0     0  8082k      0  0:10:38  0:04:32  0:06:06 9299k"
       ]
      },
      {
       "output_type": "stream",
       "stream": "stdout",
       "text": [
        "\r",
        " 42 5041M   42 2164M    0     0  8090k      0  0:10:38  0:04:33  0:06:05 9189k"
       ]
      },
      {
       "output_type": "stream",
       "stream": "stdout",
       "text": [
        "\r",
        " 43 5041M   43 2173M    0     0  8097k      0  0:10:37  0:04:34  0:06:03 9228k"
       ]
      },
      {
       "output_type": "stream",
       "stream": "stdout",
       "text": [
        "\r",
        " 43 5041M   43 2184M    0     0  8107k      0  0:10:36  0:04:35  0:06:01 9939k"
       ]
      },
      {
       "output_type": "stream",
       "stream": "stdout",
       "text": [
        "\r",
        " 43 5041M   43 2192M    0     0  8108k      0  0:10:36  0:04:36  0:06:00 9792k"
       ]
      },
      {
       "output_type": "stream",
       "stream": "stdout",
       "text": [
        "\r",
        " 43 5041M   43 2199M    0     0  8103k      0  0:10:37  0:04:37  0:06:00 9263k"
       ]
      },
      {
       "output_type": "stream",
       "stream": "stdout",
       "text": [
        "\r",
        " 43 5041M   43 2207M    0     0  8106k      0  0:10:36  0:04:38  0:05:58 8974k"
       ]
      },
      {
       "output_type": "stream",
       "stream": "stdout",
       "text": [
        "\r",
        " 43 5041M   43 2213M    0     0  8099k      0  0:10:37  0:04:39  0:05:58 8188k"
       ]
      },
      {
       "output_type": "stream",
       "stream": "stdout",
       "text": [
        "\r",
        " 44 5041M   44 2222M    0     0  8100k      0  0:10:37  0:04:40  0:05:57 7698k"
       ]
      },
      {
       "output_type": "stream",
       "stream": "stdout",
       "text": [
        "\r",
        " 44 5041M   44 2229M    0     0  8097k      0  0:10:37  0:04:41  0:05:56 7487k"
       ]
      },
      {
       "output_type": "stream",
       "stream": "stdout",
       "text": [
        "\r",
        " 44 5041M   44 2237M    0     0  8097k      0  0:10:37  0:04:42  0:05:55 7755k"
       ]
      },
      {
       "output_type": "stream",
       "stream": "stdout",
       "text": [
        "\r",
        " 44 5041M   44 2245M    0     0  8098k      0  0:10:37  0:04:43  0:05:54 7665k"
       ]
      },
      {
       "output_type": "stream",
       "stream": "stdout",
       "text": [
        "\r",
        " 44 5041M   44 2254M    0     0  8104k      0  0:10:37  0:04:44  0:05:53 8403k"
       ]
      },
      {
       "output_type": "stream",
       "stream": "stdout",
       "text": [
        "\r",
        " 44 5041M   44 2264M    0     0  8110k      0  0:10:36  0:04:45  0:05:51 8685k"
       ]
      },
      {
       "output_type": "stream",
       "stream": "stdout",
       "text": [
        "\r",
        " 45 5041M   45 2274M    0     0  8117k      0  0:10:36  0:04:46  0:05:50 9278k"
       ]
      },
      {
       "output_type": "stream",
       "stream": "stdout",
       "text": [
        "\r",
        " 45 5041M   45 2284M    0     0  8126k      0  0:10:35  0:04:47  0:05:48 9757k"
       ]
      },
      {
       "output_type": "stream",
       "stream": "stdout",
       "text": [
        "\r",
        " 45 5041M   45 2290M    0     0  8119k      0  0:10:35  0:04:48  0:05:47 9328k"
       ]
      },
      {
       "output_type": "stream",
       "stream": "stdout",
       "text": [
        "\r",
        " 45 5041M   45 2298M    0     0  8120k      0  0:10:35  0:04:49  0:05:46 9034k"
       ]
      },
      {
       "output_type": "stream",
       "stream": "stdout",
       "text": [
        "\r",
        " 45 5041M   45 2308M    0     0  8126k      0  0:10:35  0:04:50  0:05:45 9009k"
       ]
      },
      {
       "output_type": "stream",
       "stream": "stdout",
       "text": [
        "\r",
        " 45 5041M   45 2313M    0     0  8114k      0  0:10:36  0:04:51  0:05:45 7944k"
       ]
      },
      {
       "output_type": "stream",
       "stream": "stdout",
       "text": [
        "\r",
        " 46 5041M   46 2320M    0     0  8112k      0  0:10:36  0:04:52  0:05:44 7346k"
       ]
      },
      {
       "output_type": "stream",
       "stream": "stdout",
       "text": [
        "\r",
        " 46 5041M   46 2329M    0     0  8114k      0  0:10:36  0:04:53  0:05:43 7824k"
       ]
      },
      {
       "output_type": "stream",
       "stream": "stdout",
       "text": [
        "\r",
        " 46 5041M   46 2338M    0     0  8121k      0  0:10:35  0:04:54  0:05:41 8153k"
       ]
      },
      {
       "output_type": "stream",
       "stream": "stdout",
       "text": [
        "\r",
        " 46 5041M   46 2347M    0     0  8124k      0  0:10:35  0:04:55  0:05:40 8037k"
       ]
      },
      {
       "output_type": "stream",
       "stream": "stdout",
       "text": [
        "\r",
        " 46 5041M   46 2357M    0     0  8131k      0  0:10:34  0:04:56  0:05:38 9081k"
       ]
      },
      {
       "output_type": "stream",
       "stream": "stdout",
       "text": [
        "\r",
        " 46 5041M   46 2368M    0     0  8140k      0  0:10:34  0:04:57  0:05:37 9729k"
       ]
      },
      {
       "output_type": "stream",
       "stream": "stdout",
       "text": [
        "\r",
        " 47 5041M   47 2377M    0     0  8144k      0  0:10:33  0:04:58  0:05:35 9912k"
       ]
      },
      {
       "output_type": "stream",
       "stream": "stdout",
       "text": [
        "\r",
        " 47 5041M   47 2384M    0     0  8142k      0  0:10:34  0:04:59  0:05:35 9408k"
       ]
      },
      {
       "output_type": "stream",
       "stream": "stdout",
       "text": [
        "\r",
        " 47 5041M   47 2393M    0     0  8146k      0  0:10:33  0:05:00  0:05:33 9433k"
       ]
      },
      {
       "output_type": "stream",
       "stream": "stdout",
       "text": [
        "\r",
        " 47 5041M   47 2403M    0     0  8150k      0  0:10:33  0:05:01  0:05:32 9319k"
       ]
      },
      {
       "output_type": "stream",
       "stream": "stdout",
       "text": [
        "\r",
        " 47 5041M   47 2413M    0     0  8158k      0  0:10:32  0:05:02  0:05:30 9244k"
       ]
      },
      {
       "output_type": "stream",
       "stream": "stdout",
       "text": [
        "\r",
        " 48 5041M   48 2423M    0     0  8166k      0  0:10:32  0:05:03  0:05:29 9458k"
       ]
      },
      {
       "output_type": "stream",
       "stream": "stdout",
       "text": [
        "\r",
        " 48 5041M   48 2433M    0     0  8173k      0  0:10:31  0:05:04  0:05:27  9.7M"
       ]
      },
      {
       "output_type": "stream",
       "stream": "stdout",
       "text": [
        "\r",
        " 48 5041M   48 2441M    0     0  8174k      0  0:10:31  0:05:05  0:05:26 9864k"
       ]
      },
      {
       "output_type": "stream",
       "stream": "stdout",
       "text": [
        "\r",
        " 48 5041M   48 2448M    0     0  8170k      0  0:10:31  0:05:06  0:05:25 9348k"
       ]
      },
      {
       "output_type": "stream",
       "stream": "stdout",
       "text": [
        "\r",
        " 48 5041M   48 2457M    0     0  8172k      0  0:10:31  0:05:07  0:05:24 9043k"
       ]
      },
      {
       "output_type": "stream",
       "stream": "stdout",
       "text": [
        "\r",
        " 48 5041M   48 2466M    0     0  8176k      0  0:10:31  0:05:08  0:05:23 8784k"
       ]
      },
      {
       "output_type": "stream",
       "stream": "stdout",
       "text": [
        "\r",
        " 49 5041M   49 2476M    0     0  8183k      0  0:10:30  0:05:09  0:05:21 8798k"
       ]
      },
      {
       "output_type": "stream",
       "stream": "stdout",
       "text": [
        "\r",
        " 49 5041M   49 2486M    0     0  8189k      0  0:10:30  0:05:10  0:05:20 9120k"
       ]
      },
      {
       "output_type": "stream",
       "stream": "stdout",
       "text": [
        "\r",
        " 49 5041M   49 2496M    0     0  8197k      0  0:10:29  0:05:11  0:05:18 9865k"
       ]
      },
      {
       "output_type": "stream",
       "stream": "stdout",
       "text": [
        "\r",
        " 49 5041M   49 2506M    0     0  8201k      0  0:10:29  0:05:12  0:05:17  9.7M"
       ]
      },
      {
       "output_type": "stream",
       "stream": "stdout",
       "text": [
        "\r",
        " 49 5041M   49 2512M    0     0  8195k      0  0:10:29  0:05:13  0:05:16 9358k"
       ]
      },
      {
       "output_type": "stream",
       "stream": "stdout",
       "text": [
        "\r",
        " 49 5041M   49 2520M    0     0  8195k      0  0:10:29  0:05:14  0:05:15 8966k"
       ]
      },
      {
       "output_type": "stream",
       "stream": "stdout",
       "text": [
        "\r",
        " 50 5041M   50 2529M    0     0  8199k      0  0:10:29  0:05:15  0:05:14 8802k"
       ]
      },
      {
       "output_type": "stream",
       "stream": "stdout",
       "text": [
        "\r",
        " 50 5041M   50 2539M    0     0  8205k      0  0:10:29  0:05:16  0:05:13 8685k"
       ]
      },
      {
       "output_type": "stream",
       "stream": "stdout",
       "text": [
        "\r",
        " 50 5041M   50 2549M    0     0  8211k      0  0:10:28  0:05:17  0:05:11 8803k"
       ]
      },
      {
       "output_type": "stream",
       "stream": "stdout",
       "text": [
        "\r",
        " 50 5041M   50 2559M    0     0  8219k      0  0:10:28  0:05:18  0:05:10 9717k"
       ]
      },
      {
       "output_type": "stream",
       "stream": "stdout",
       "text": [
        "\r",
        " 50 5041M   50 2569M    0     0  8225k      0  0:10:27  0:05:19  0:05:08  9.8M"
       ]
      },
      {
       "output_type": "stream",
       "stream": "stdout",
       "text": [
        "\r",
        " 51 5041M   51 2580M    0     0  8234k      0  0:10:27  0:05:20  0:05:07 10.1M"
       ]
      },
      {
       "output_type": "stream",
       "stream": "stdout",
       "text": [
        "\r",
        " 51 5041M   51 2590M    0     0  8241k      0  0:10:26  0:05:21  0:05:05 10.2M"
       ]
      },
      {
       "output_type": "stream",
       "stream": "stdout",
       "text": [
        "\r",
        " 51 5041M   51 2598M    0     0  8241k      0  0:10:26  0:05:22  0:05:04  9.8M"
       ]
      },
      {
       "output_type": "stream",
       "stream": "stdout",
       "text": [
        "\r",
        " 51 5041M   51 2605M    0     0  8237k      0  0:10:26  0:05:23  0:05:03 9393k"
       ]
      },
      {
       "output_type": "stream",
       "stream": "stdout",
       "text": [
        "\r",
        " 51 5041M   51 2614M    0     0  8240k      0  0:10:26  0:05:24  0:05:02 9166k"
       ]
      },
      {
       "output_type": "stream",
       "stream": "stdout",
       "text": [
        "\r",
        " 52 5041M   52 2622M    0     0  8238k      0  0:10:26  0:05:25  0:05:01 8490k"
       ]
      },
      {
       "output_type": "stream",
       "stream": "stdout",
       "text": [
        "\r",
        " 52 5041M   52 2630M    0     0  8240k      0  0:10:26  0:05:26  0:05:00 8201k"
       ]
      },
      {
       "output_type": "stream",
       "stream": "stdout",
       "text": [
        "\r",
        " 52 5041M   52 2640M    0     0  8245k      0  0:10:26  0:05:27  0:04:59 8539k"
       ]
      },
      {
       "output_type": "stream",
       "stream": "stdout",
       "text": [
        "\r",
        " 52 5041M   52 2651M    0     0  8253k      0  0:10:25  0:05:28  0:04:57 9322k"
       ]
      },
      {
       "output_type": "stream",
       "stream": "stdout",
       "text": [
        "\r",
        " 52 5041M   52 2658M    0     0  8252k      0  0:10:25  0:05:29  0:04:56 9003k"
       ]
      },
      {
       "output_type": "stream",
       "stream": "stdout",
       "text": [
        "\r",
        " 52 5041M   52 2664M    0     0  8246k      0  0:10:26  0:05:30  0:04:56 8811k"
       ]
      },
      {
       "output_type": "stream",
       "stream": "stdout",
       "text": [
        "\r",
        " 53 5041M   53 2672M    0     0  8246k      0  0:10:26  0:05:31  0:04:55 8634k"
       ]
      },
      {
       "output_type": "stream",
       "stream": "stdout",
       "text": [
        "\r",
        " 53 5041M   53 2682M    0     0  8250k      0  0:10:25  0:05:32  0:04:53 8534k"
       ]
      },
      {
       "output_type": "stream",
       "stream": "stdout",
       "text": [
        "\r",
        " 53 5041M   53 2690M    0     0  8251k      0  0:10:25  0:05:33  0:04:52 8100k"
       ]
      },
      {
       "output_type": "stream",
       "stream": "stdout",
       "text": [
        "\r",
        " 53 5041M   53 2699M    0     0  8254k      0  0:10:25  0:05:34  0:04:51 8419k"
       ]
      },
      {
       "output_type": "stream",
       "stream": "stdout",
       "text": [
        "\r",
        " 53 5041M   53 2709M    0     0  8259k      0  0:10:25  0:05:35  0:04:50 9119k"
       ]
      },
      {
       "output_type": "stream",
       "stream": "stdout",
       "text": [
        "\r",
        " 53 5041M   53 2719M    0     0  8266k      0  0:10:24  0:05:36  0:04:48 9608k"
       ]
      },
      {
       "output_type": "stream",
       "stream": "stdout",
       "text": [
        "\r",
        " 54 5041M   54 2725M    0     0  8260k      0  0:10:25  0:05:37  0:04:48 8933k"
       ]
      },
      {
       "output_type": "stream",
       "stream": "stdout",
       "text": [
        "\r",
        " 54 5041M   54 2732M    0     0  8255k      0  0:10:25  0:05:38  0:04:47 8487k"
       ]
      },
      {
       "output_type": "stream",
       "stream": "stdout",
       "text": [
        "\r",
        " 54 5041M   54 2738M    0     0  8249k      0  0:10:25  0:05:39  0:04:46 7883k"
       ]
      },
      {
       "output_type": "stream",
       "stream": "stdout",
       "text": [
        "\r",
        " 54 5041M   54 2746M    0     0  8250k      0  0:10:25  0:05:40  0:04:45 7630k"
       ]
      },
      {
       "output_type": "stream",
       "stream": "stdout",
       "text": [
        "\r",
        " 54 5041M   54 2755M    0     0  8253k      0  0:10:25  0:05:41  0:04:44 7355k"
       ]
      },
      {
       "output_type": "stream",
       "stream": "stdout",
       "text": [
        "\r",
        " 54 5041M   54 2764M    0     0  8256k      0  0:10:25  0:05:42  0:04:43 8028k"
       ]
      },
      {
       "output_type": "stream",
       "stream": "stdout",
       "text": [
        "\r",
        " 55 5041M   55 2774M    0     0  8259k      0  0:10:25  0:05:43  0:04:42 8560k"
       ]
      },
      {
       "output_type": "stream",
       "stream": "stdout",
       "text": [
        "\r",
        " 55 5041M   55 2784M    0     0  8266k      0  0:10:24  0:05:44  0:04:40 9463k"
       ]
      },
      {
       "output_type": "stream",
       "stream": "stdout",
       "text": [
        "\r",
        " 55 5041M   55 2794M    0     0  8271k      0  0:10:24  0:05:45  0:04:39 9731k"
       ]
      },
      {
       "output_type": "stream",
       "stream": "stdout",
       "text": [
        "\r",
        " 55 5041M   55 2799M    0     0  8264k      0  0:10:24  0:05:46  0:04:38 8984k"
       ]
      },
      {
       "output_type": "stream",
       "stream": "stdout",
       "text": [
        "\r",
        " 55 5041M   55 2805M    0     0  8258k      0  0:10:25  0:05:47  0:04:38 8366k"
       ]
      },
      {
       "output_type": "stream",
       "stream": "stdout",
       "text": [
        "\r",
        " 55 5041M   55 2813M    0     0  8256k      0  0:10:25  0:05:48  0:04:37 8015k"
       ]
      },
      {
       "output_type": "stream",
       "stream": "stdout",
       "text": [
        "\r",
        " 55 5041M   55 2821M    0     0  8258k      0  0:10:25  0:05:49  0:04:36 7685k"
       ]
      },
      {
       "output_type": "stream",
       "stream": "stdout",
       "text": [
        "\r",
        " 56 5041M   56 2826M    0     0  8246k      0  0:10:26  0:05:50  0:04:36 6496k"
       ]
      },
      {
       "output_type": "stream",
       "stream": "stdout",
       "text": [
        "\r",
        " 56 5041M   56 2832M    0     0  8240k      0  0:10:26  0:05:51  0:04:35 6631k"
       ]
      },
      {
       "output_type": "stream",
       "stream": "stdout",
       "text": [
        "\r",
        " 56 5041M   56 2838M    0     0  8236k      0  0:10:26  0:05:52  0:04:34 6712k"
       ]
      },
      {
       "output_type": "stream",
       "stream": "stdout",
       "text": [
        "\r",
        " 56 5041M   56 2846M    0     0  8237k      0  0:10:26  0:05:53  0:04:33 6908k"
       ]
      },
      {
       "output_type": "stream",
       "stream": "stdout",
       "text": [
        "\r",
        " 56 5041M   56 2855M    0     0  8239k      0  0:10:26  0:05:54  0:04:32 6924k"
       ]
      },
      {
       "output_type": "stream",
       "stream": "stdout",
       "text": [
        "\r",
        " 56 5041M   56 2864M    0     0  8242k      0  0:10:26  0:05:55  0:04:31 8000k"
       ]
      },
      {
       "output_type": "stream",
       "stream": "stdout",
       "text": [
        "\r",
        " 56 5041M   56 2873M    0     0  8244k      0  0:10:26  0:05:56  0:04:30 8467k"
       ]
      },
      {
       "output_type": "stream",
       "stream": "stdout",
       "text": [
        "\r",
        " 57 5041M   57 2883M    0     0  8250k      0  0:10:25  0:05:57  0:04:28 9252k"
       ]
      },
      {
       "output_type": "stream",
       "stream": "stdout",
       "text": [
        "\r",
        " 57 5041M   57 2890M    0     0  8247k      0  0:10:26  0:05:58  0:04:2"
       ]
      },
      {
       "output_type": "stream",
       "stream": "stdout",
       "text": [
        "8 8954k"
       ]
      },
      {
       "output_type": "stream",
       "stream": "stdout",
       "text": [
        "\r",
        " 57 5041M   57 2898M    0     0  8245k      0  0:10:26  0:05:59  0:04:27 8682k"
       ]
      },
      {
       "output_type": "stream",
       "stream": "stdout",
       "text": [
        "\r",
        " 57 5041M   57 2907M    0     0  8248k      0  0:10:25  0:06:00  0:04:25 8673k"
       ]
      },
      {
       "output_type": "stream",
       "stream": "stdout",
       "text": [
        "\r",
        " 57 5041M   57 2916M    0     0  8252k      0  0:10:25  0:06:01  0:04:24 8851k"
       ]
      },
      {
       "output_type": "stream",
       "stream": "stdout",
       "text": [
        "\r",
        " 58 5041M   58 2924M    0     0  8249k      0  0:10:25  0:06:02  0:04:23 8192k"
       ]
      },
      {
       "output_type": "stream",
       "stream": "stdout",
       "text": [
        "\r",
        " 58 5041M   58 2933M    0     0  8254k      0  0:10:25  0:06:03  0:04:22 8776k"
       ]
      },
      {
       "output_type": "stream",
       "stream": "stdout",
       "text": [
        "\r",
        " 58 5041M   58 2942M    0     0  8256k      0  0:10:25  0:06:04  0:04:21 9047k"
       ]
      },
      {
       "output_type": "stream",
       "stream": "stdout",
       "text": [
        "\r",
        " 58 5041M   58 2948M    0     0  8251k      0  0:10:25  0:06:05  0:04:20 8436k"
       ]
      },
      {
       "output_type": "stream",
       "stream": "stdout",
       "text": [
        "\r",
        " 58 5041M   58 2955M    0     0  8249k      0  0:10:25  0:06:06  0:04:19 8046k"
       ]
      },
      {
       "output_type": "stream",
       "stream": "stdout",
       "text": [
        "\r",
        " 58 5041M   58 2964M    0     0  8251k      0  0:10:25  0:06:07  0:04:18 8362k"
       ]
      },
      {
       "output_type": "stream",
       "stream": "stdout",
       "text": [
        "\r",
        " 58 5041M   58 2974M    0     0  8255k      0  0:10:25  0:06:08  0:04:17 8349k"
       ]
      },
      {
       "output_type": "stream",
       "stream": "stdout",
       "text": [
        "\r",
        " 59 5041M   59 2983M    0     0  8258k      0  0:10:25  0:06:09  0:04:16 8425k"
       ]
      },
      {
       "output_type": "stream",
       "stream": "stdout",
       "text": [
        "\r",
        " 59 5041M   59 2993M    0     0  8264k      0  0:10:24  0:06:10  0:04:14 9250k"
       ]
      },
      {
       "output_type": "stream",
       "stream": "stdout",
       "text": [
        "\r",
        " 59 5041M   59 3003M    0     0  8270k      0  0:10:24  0:06:11  0:04:13 9833k"
       ]
      },
      {
       "output_type": "stream",
       "stream": "stdout",
       "text": [
        "\r",
        " 59 5041M   59 3011M    0     0  8270k      0  0:10:24  0:06:12  0:04:12 9686k"
       ]
      },
      {
       "output_type": "stream",
       "stream": "stdout",
       "text": [
        "\r",
        " 59 5041M   59 3018M    0     0  8265k      0  0:10:24  0:06:13  0:04:11 9017k"
       ]
      },
      {
       "output_type": "stream",
       "stream": "stdout",
       "text": [
        "\r",
        " 60 5041M   60 3026M    0     0  8266k      0  0:10:24  0:06:14  0:04:10 8831k"
       ]
      },
      {
       "output_type": "stream",
       "stream": "stdout",
       "text": [
        "\r",
        " 60 5041M   60 3035M    0     0  8269k      0  0:10:24  0:06:15  0:04:09 8645k"
       ]
      },
      {
       "output_type": "stream",
       "stream": "stdout",
       "text": [
        "\r",
        " 60 5041M   60 3044M    0     0  8271k      0  0:10:24  0:06:16  0:04:08 8313k"
       ]
      },
      {
       "output_type": "stream",
       "stream": "stdout",
       "text": [
        "\r",
        " 60 5041M   60 3054M    0     0  8275k      0  0:10:23  0:06:17  0:04:06 8668k"
       ]
      },
      {
       "output_type": "stream",
       "stream": "stdout",
       "text": [
        "\r",
        " 60 5041M   60 3063M    0     0  8280k      0  0:10:23  0:06:18  0:04:05 9367k"
       ]
      },
      {
       "output_type": "stream",
       "stream": "stdout",
       "text": [
        "\r",
        " 60 5041M   60 3074M    0     0  8286k      0  0:10:23  0:06:19  0:04:04 9812k"
       ]
      },
      {
       "output_type": "stream",
       "stream": "stdout",
       "text": [
        "\r",
        " 61 5041M   61 3084M    0     0  8292k      0  0:10:22  0:06:20  0:04:02  9.7M"
       ]
      },
      {
       "output_type": "stream",
       "stream": "stdout",
       "text": [
        "\r",
        " 61 5041M   61 3094M    0     0  8298k      0  0:10:22  0:06:21  0:04:01 10.0M"
       ]
      },
      {
       "output_type": "stream",
       "stream": "stdout",
       "text": [
        "\r",
        " 61 5041M   61 3101M    0     0  8295k      0  0:10:22  0:06:22  0:04:00 9786k"
       ]
      },
      {
       "output_type": "stream",
       "stream": "stdout",
       "text": [
        "\r",
        " 61 5041M   61 3108M    0     0  8292k      0  0:10:22  0:06:23  0:03:59 9182k"
       ]
      },
      {
       "output_type": "stream",
       "stream": "stdout",
       "text": [
        "\r",
        " 61 5041M   61 3115M    0     0  8288k      0  0:10:22  0:06:24  0:03:58 8424k"
       ]
      },
      {
       "output_type": "stream",
       "stream": "stdout",
       "text": [
        "\r",
        " 61 5041M   61 3123M    0     0  8289k      0  0:10:22  0:06:25  0:03:57 8010k"
       ]
      },
      {
       "output_type": "stream",
       "stream": "stdout",
       "text": [
        "\r",
        " 62 5041M   62 3130M    0     0  8285k      0  0:10:23  0:06:26  0:03:57 7272k"
       ]
      },
      {
       "output_type": "stream",
       "stream": "stdout",
       "text": [
        "\r",
        " 62 5041M   62 3132M    0     0  8263k      0  0:10:24  0:06:28  0:03:56 5906k"
       ]
      },
      {
       "output_type": "stream",
       "stream": "stdout",
       "text": [
        "\r",
        " 62 5041M   62 3136M    0     0  8257k      0  0:10:25  0:06:28  0:03:57 5588k"
       ]
      },
      {
       "output_type": "stream",
       "stream": "stdout",
       "text": [
        "\r",
        " 62 5041M   62 3143M    0     0  8257k      0  0:10:25  0:06:29  0:03:56 5824k"
       ]
      },
      {
       "output_type": "stream",
       "stream": "stdout",
       "text": [
        "\r",
        " 62 5041M   62 3153M    0     0  8260k      0  0:10:24  0:06:30  0:03:54 6084k"
       ]
      },
      {
       "output_type": "stream",
       "stream": "stdout",
       "text": [
        "\r",
        " 62 5041M   62 3161M    0     0  8261k      0  0:10:24  0:06:31  0:03:53 6409k"
       ]
      },
      {
       "output_type": "stream",
       "stream": "stdout",
       "text": [
        "\r",
        " 62 5041M   62 3171M    0     0  8266k      0  0:10:24  0:06:32  0:03:52 8544k"
       ]
      },
      {
       "output_type": "stream",
       "stream": "stdout",
       "text": [
        "\r",
        " 63 5041M   63 3181M    0     0  8271k      0  0:10:24  0:06:33  0:03:51 9399k"
       ]
      },
      {
       "output_type": "stream",
       "stream": "stdout",
       "text": [
        "\r",
        " 63 5041M   63 3192M    0     0  8277k      0  0:10:23  0:06:34  0:03:49 9860k"
       ]
      },
      {
       "output_type": "stream",
       "stream": "stdout",
       "text": [
        "\r",
        " 63 5041M   63 3202M    0     0  8283k      0  0:10:23  0:06:35  0:03:48  9.8M"
       ]
      },
      {
       "output_type": "stream",
       "stream": "stdout",
       "text": [
        "\r",
        " 63 5041M   63 3212M    0     0  8288k      0  0:10:22  0:06:36  0:03:46 10.1M"
       ]
      },
      {
       "output_type": "stream",
       "stream": "stdout",
       "text": [
        "\r",
        " 63 5041M   63 3223M    0     0  8294k      0  0:10:22  0:06:37  0:03:45 10.2M"
       ]
      },
      {
       "output_type": "stream",
       "stream": "stdout",
       "text": [
        "\r",
        " 64 5041M   64 3228M    0     0  8288k      0  0:10:22  0:06:38  0:03:44 9617k"
       ]
      },
      {
       "output_type": "stream",
       "stream": "stdout",
       "text": [
        "\r",
        " 64 5041M   64 3233M    0     0  8280k      0  0:10:23  0:06:39  0:03:44 8491k"
       ]
      },
      {
       "output_type": "stream",
       "stream": "stdout",
       "text": [
        "\r",
        " 64 5041M   64 3240M    0     0  8277k      0  0:10:23  0:06:40  0:03:43 7766k"
       ]
      },
      {
       "output_type": "stream",
       "stream": "stdout",
       "text": [
        "\r",
        " 64 5041M   64 3248M    0     0  8276k      0  0:10:23  0:06:41  0:03:42 7333k"
       ]
      },
      {
       "output_type": "stream",
       "stream": "stdout",
       "text": [
        "\r",
        " 64 5041M   64 3256M    0     0  8277k      0  0:10:23  0:06:42  0:03:41 6896k"
       ]
      },
      {
       "output_type": "stream",
       "stream": "stdout",
       "text": [
        "\r",
        " 64 5041M   64 3265M    0     0  8279k      0  0:10:23  0:06:43  0:03:40 7572k"
       ]
      },
      {
       "output_type": "stream",
       "stream": "stdout",
       "text": [
        "\r",
        " 64 5041M   64 3275M    0     0  8284k      0  0:10:23  0:06:44  0:03:39 8630k"
       ]
      },
      {
       "output_type": "stream",
       "stream": "stdout",
       "text": [
        "\r",
        " 65 5041M   65 3285M    0     0  8288k      0  0:10:22  0:06:45  0:03:37 9209k"
       ]
      },
      {
       "output_type": "stream",
       "stream": "stdout",
       "text": [
        "\r",
        " 65 5041M   65 3295M    0     0  8294k      0  0:10:22  0:06:46  0:03:36 9718k"
       ]
      },
      {
       "output_type": "stream",
       "stream": "stdout",
       "text": [
        "\r",
        " 65 5041M   65 3306M    0     0  8299k      0  0:10:22  0:06:47  0:03:35  9.8M"
       ]
      },
      {
       "output_type": "stream",
       "stream": "stdout",
       "text": [
        "\r",
        " 65 5041M   65 3316M    0     0  8305k      0  0:10:21  0:06:48  0:03:33 10.1M"
       ]
      },
      {
       "output_type": "stream",
       "stream": "stdout",
       "text": [
        "\r",
        " 65 5041M   65 3326M    0     0  8311k      0  0:10:21  0:06:49  0:03:32 10.2M"
       ]
      },
      {
       "output_type": "stream",
       "stream": "stdout",
       "text": [
        "\r",
        " 66 5041M   66 3337M    0     0  8317k      0  0:10:20  0:06:50  0:03:30 10.4M"
       ]
      },
      {
       "output_type": "stream",
       "stream": "stdout",
       "text": [
        "\r",
        " 66 5041M   66 3343M    0     0  8313k      0  0:10:21  0:06:51  0:03:30 9832k"
       ]
      },
      {
       "output_type": "stream",
       "stream": "stdout",
       "text": [
        "\r",
        " 66 5041M   66 3351M    0     0  8312k      0  0:10:21  0:06:52  0:03:29 9313k"
       ]
      },
      {
       "output_type": "stream",
       "stream": "stdout",
       "text": [
        "\r",
        " 66 5041M   66 3360M    0     0  8314k      0"
       ]
      },
      {
       "output_type": "stream",
       "stream": "stdout",
       "text": [
        "  0:10:20  0:06:53  0:03:27 9004k"
       ]
      },
      {
       "output_type": "stream",
       "stream": "stdout",
       "text": [
        "\r",
        " 66 5041M   66 3369M    0     0  8316k      0  0:10:20  0:06:54  0:03:26 8715k"
       ]
      },
      {
       "output_type": "stream",
       "stream": "stdout",
       "text": [
        "\r",
        " 67 5041M   67 3379M    0     0  8319k      0  0:10:20  0:06:55  0:03:25 8522k"
       ]
      },
      {
       "output_type": "stream",
       "stream": "stdout",
       "text": [
        "\r",
        " 67 5041M   67 3388M    0     0  8323k      0  0:10:20  0:06:56  0:03:24 9177k"
       ]
      },
      {
       "output_type": "stream",
       "stream": "stdout",
       "text": [
        "\r",
        " 67 5041M   67 3399M    0     0  8329k      0  0:10:19  0:06:57  0:03:22 9721k"
       ]
      },
      {
       "output_type": "stream",
       "stream": "stdout",
       "text": [
        "\r",
        " 67 5041M   67 3407M    0     0  8330k      0  0:10:19  0:06:58  0:03:21 9663k"
       ]
      },
      {
       "output_type": "stream",
       "stream": "stdout",
       "text": [
        "\r",
        " 67 5041M   67 3418M    0     0  8336k      0  0:10:19  0:06:59  0:03:20  9.7M"
       ]
      },
      {
       "output_type": "stream",
       "stream": "stdout",
       "text": [
        "\r",
        " 67 5041M   67 3425M    0     0  8334k      0  0:10:19  0:07:00  0:03:19 9544k"
       ]
      },
      {
       "output_type": "stream",
       "stream": "stdout",
       "text": [
        "\r",
        " 68 5041M   68 3433M    0     0  8332k      0  0:10:19  0:07:01  0:03:18 9110k"
       ]
      },
      {
       "output_type": "stream",
       "stream": "stdout",
       "text": [
        "\r",
        " 68 5041M   68 3441M    0     0  8334k      0  0:10:19  0:07:02  0:03:17 8753k"
       ]
      },
      {
       "output_type": "stream",
       "stream": "stdout",
       "text": [
        "\r",
        " 68 5041M   68 3451M    0     0  8336k      0  0:10:19  0:07:03  0:03:16 8886k"
       ]
      },
      {
       "output_type": "stream",
       "stream": "stdout",
       "text": [
        "\r",
        " 68 5041M   68 3459M    0     0  8338k      0  0:10:19  0:07:04  0:03:15 8504k"
       ]
      },
      {
       "output_type": "stream",
       "stream": "stdout",
       "text": [
        "\r",
        " 68 5041M   68 3469M    0     0  8342k      0  0:10:18  0:07:05  0:03:13 9068k"
       ]
      },
      {
       "output_type": "stream",
       "stream": "stdout",
       "text": [
        "\r",
        " 69 5041M   69 3480M    0     0  8347k      0  0:10:18  0:07:06  0:03:12 9591k"
       ]
      },
      {
       "output_type": "stream",
       "stream": "stdout",
       "text": [
        "\r",
        " 69 5041M   69 3490M    0     0  8352k      0  0:10:18  0:07:07  0:03:11 9884k"
       ]
      },
      {
       "output_type": "stream",
       "stream": "stdout",
       "text": [
        "\r",
        " 69 5041M   69 3500M    0     0  8356k      0  0:10:17  0:07:08  0:03:09  9.7M"
       ]
      },
      {
       "output_type": "stream",
       "stream": "stdout",
       "text": [
        "\r",
        " 69 5041M   69 3509M    0     0  8360k      0  0:10:17  0:07:09  0:03:08  9.9M"
       ]
      },
      {
       "output_type": "stream",
       "stream": "stdout",
       "text": [
        "\r",
        " 69 5041M   69 3518M    0     0  8360k      0  0:10:17  0:07:10  0:03:07 9844k"
       ]
      },
      {
       "output_type": "stream",
       "stream": "stdout",
       "text": [
        "\r",
        " 69 5041M   69 3525M    0     0  8358k      0  0:10:17  0:07:11  0:03:06 9297k"
       ]
      },
      {
       "output_type": "stream",
       "stream": "stdout",
       "text": [
        "\r",
        " 70 5041M   70 3534M    0     0  8360k      0  0:10:17  0:07:12  0:03:05 9087k"
       ]
      },
      {
       "output_type": "stream",
       "stream": "stdout",
       "text": [
        "\r",
        " 70 5041M   70 3543M    0     0  8363k      0  0:10:17  0:07:13  0:03:04 8958k"
       ]
      },
      {
       "output_type": "stream",
       "stream": "stdout",
       "text": [
        "\r",
        " 70 5041M   70 3553M    0     0  8367k      0  0:10:17  0:07:14  0:03:03 8997k"
       ]
      },
      {
       "output_type": "stream",
       "stream": "stdout",
       "text": [
        "\r",
        " 70 5041M   70 3563M    0     0  8371k      0  0:10:16  0:07:15  0:03:01 9368k"
       ]
      },
      {
       "output_type": "stream",
       "stream": "stdout",
       "text": [
        "\r",
        " 70 5041M   70 3574M    0     0  8377k      0  0:10:16  0:07:16  0:03:00  9.7M"
       ]
      },
      {
       "output_type": "stream",
       "stream": "stdout",
       "text": [
        "\r",
        " 71 5041M   71 3582M    0     0  8378k      0  0:10:16  0:07:17  0:02:59 9890k"
       ]
      },
      {
       "output_type": "stream",
       "stream": "stdout",
       "text": [
        "\r",
        " 71 5041M   71 3590M    0     0  8376k      0  0:10:16  0:07:18  0:02:58 9549k"
       ]
      },
      {
       "output_type": "stream",
       "stream": "stdout",
       "text": [
        "\r",
        " 71 5041M   71 3599M    0     0  8378k      0  0:10:16  0:07:19  0:02:57 9295k"
       ]
      },
      {
       "output_type": "stream",
       "stream": "stdout",
       "text": [
        "\r",
        " 71 5041M   71 3608M    0     0  8380k      0  0:10:16  0:07:20  0:02:56 9137k"
       ]
      },
      {
       "output_type": "stream",
       "stream": "stdout",
       "text": [
        "\r",
        " 71 5041M   71 3617M    0     0  8383k      0  0:10:15  0:07:21  0:02:54 8896k"
       ]
      },
      {
       "output_type": "stream",
       "stream": "stdout",
       "text": [
        "\r",
        " 71 5041M   71 3628M    0     0  8388k      0  0:10:15  0:07:22  0:02:53 9314k"
       ]
      },
      {
       "output_type": "stream",
       "stream": "stdout",
       "text": [
        "\r",
        " 72 5041M   72 3638M    0     0  8394k      0  0:10:15  0:07:23  0:02:52 9942k"
       ]
      },
      {
       "output_type": "stream",
       "stream": "stdout",
       "text": [
        "\r",
        " 72 5041M   72 3646M    0     0  8392k      0  0:10:15  0:07:24  0:02:51 9673k"
       ]
      },
      {
       "output_type": "stream",
       "stream": "stdout",
       "text": [
        "\r",
        " 72 5041M   72 3653M    0     0  8380k      0  0:10:16  0:07:26  0:02:50 8407k"
       ]
      },
      {
       "output_type": "stream",
       "stream": "stdout",
       "text": [
        "\r",
        " 72 5041M   72 3655M    0     0  8376k      0  0:10:16  0:07:26  0:02:50 7728k"
       ]
      },
      {
       "output_type": "stream",
       "stream": "stdout",
       "text": [
        "\r",
        " 72 5041M   72 3662M    0     0  8373k      0  0:10:16  0:07:27  0:02:49 7006k"
       ]
      },
      {
       "output_type": "stream",
       "stream": "stdout",
       "text": [
        "\r",
        " 72 5041M   72 3671M    0     0  8374k      0  0:10:16  0:07:28  0:02:48 6567k"
       ]
      },
      {
       "output_type": "stream",
       "stream": "stdout",
       "text": [
        "\r",
        " 72 5041M   72 3680M    0     0  8376k      0  0:10:16  0:07:29  0:02:47 6938k"
       ]
      },
      {
       "output_type": "stream",
       "stream": "stdout",
       "text": [
        "\r",
        " 73 5041M   73 3689M    0     0  8379k      0  0:10:16  0:07:30  0:02:46 8272k"
       ]
      },
      {
       "output_type": "stream",
       "stream": "stdout",
       "text": [
        "\r",
        " 73 5041M   73 3696M    0     0  8377k      0  0:10:16  0:07:31  0:02:45 8453k"
       ]
      },
      {
       "output_type": "stream",
       "stream": "stdout",
       "text": [
        "\r",
        " 73 5041M   73 3705M    0     0  8377k      0  0:10:16  0:07:32  0:02:44 8761k"
       ]
      },
      {
       "output_type": "stream",
       "stream": "stdout",
       "text": [
        "\r",
        " 73 5041M   73 3714M    0     0  8379k      0  0:10:16  0:07:33  0:02:43 8852k"
       ]
      },
      {
       "output_type": "stream",
       "stream": "stdout",
       "text": [
        "\r",
        " 73 5041M   73 3723M    0     0  8382k      0  0:10:15  0:07:34  0:02:41 8893k"
       ]
      },
      {
       "output_type": "stream",
       "stream": "stdout",
       "text": [
        "\r",
        " 74 5041M   74 3733M    0     0  8385k      0  0:10:15  0:07:35  0:02:40 8931k"
       ]
      },
      {
       "output_type": "stream",
       "stream": "stdout",
       "text": [
        "\r",
        " 74 5041M   74 3744M    0     0  8391k      0  0:10:15  0:07:36  0:02:39 9649k"
       ]
      },
      {
       "output_type": "stream",
       "stream": "stdout",
       "text": [
        "\r",
        " 74 5041M   74 3754M    0     0  8396k      0  0:10:14  0:07:37  0:02:37  9.8M"
       ]
      },
      {
       "output_type": "stream",
       "stream": "stdout",
       "text": [
        "\r",
        " 74 5041M   74 3761M    0     0  8394k      0  0:10:15  0:07:38  0:02:37 9759k"
       ]
      },
      {
       "output_type": "stream",
       "stream": "stdout",
       "text": [
        "\r",
        " 74 5041M   74 3770M    0     0  8395k      0  0:10:15  0:07:39  0:02:36 9546k"
       ]
      },
      {
       "output_type": "stream",
       "stream": "stdout",
       "text": [
        "\r",
        " 74 5041M   74 3779M    0     0  8397k      0  0:10:14  0:07:40  0:02:34 9481k"
       ]
      },
      {
       "output_type": "stream",
       "stream": "stdout",
       "text": [
        "\r",
        " 75 5041M   75 3789M    0     0  8401k      0  0:10:14  0:07:41  0:02:33 9345k"
       ]
      },
      {
       "output_type": "stream",
       "stream": "stdout",
       "text": [
        "\r",
        " 75 5041M   75 3799M    0     0  8405k      0  0:10:14  0:07:42  0:02:32 9240k"
       ]
      },
      {
       "output_type": "stream",
       "stream": "stdout",
       "text": [
        "\r",
        " 75 5041M   75 3810M    0     0  8410k      0  0:10:13  0:07:43  0:02:30 9876k"
       ]
      },
      {
       "output_type": "stream",
       "stream": "stdout",
       "text": [
        "\r",
        " 75 5041M   75 3820M    0     0  8415k      0  0:10:13  0:07:44  0:02:29 10.0M"
       ]
      },
      {
       "output_type": "stream",
       "stream": "stdout",
       "text": [
        "\r",
        " 75 5041M   75 3831M    0     0  8420k      0  0:10:13  0:07:45  0:02:28 10.2M"
       ]
      },
      {
       "output_type": "stream",
       "stream": "stdout",
       "text": [
        "\r",
        " 76 5041M   76 3841M    0     0  8426k      0  0:10:12  0:07:46  0:02:26 10.4M"
       ]
      },
      {
       "output_type": "stream",
       "stream": "stdout",
       "text": [
        "\r",
        " 76 5041M   76 3851M    0     0  8430k      0  0:10:12  0:07:47  0:02:25 10.4M"
       ]
      },
      {
       "output_type": "stream",
       "stream": "stdout",
       "text": [
        "\r",
        " 76 5041M   76 3862M    0     0  8435k      0  0:10:12  0:07:48  0:02:24 10.4M"
       ]
      },
      {
       "output_type": "stream",
       "stream": "stdout",
       "text": [
        "\r",
        " 76 5041M   76 3873M    0     0  8440k      0  0:10:11  0:07:49  0:02:22 10.4M"
       ]
      },
      {
       "output_type": "stream",
       "stream": "stdout",
       "text": [
        "\r",
        " 77 5041M   77 3883M    0     0  8444k      0  0:10:11  0:07:50  0:02:21 10.4M"
       ]
      },
      {
       "output_type": "stream",
       "stream": "stdout",
       "text": [
        "\r",
        " 77 5041M   77 3892M    0     0  8445k      0  0:10:11  0:07:51  0:02:20 10.0M"
       ]
      },
      {
       "output_type": "stream",
       "stream": "stdout",
       "text": [
        "\r",
        " 77 5041M   77 3902M    0     0  8450k      0  0:10:10  0:07:52  0:02:18 10.1M"
       ]
      },
      {
       "output_type": "stream",
       "stream": "stdout",
       "text": [
        "\r",
        " 77 5041M   77 3913M    0     0  8455k      0  0:10:10  0:07:53  0:02:17 10.1M"
       ]
      },
      {
       "output_type": "stream",
       "stream": "stdout",
       "text": [
        "\r",
        " 77 5041M   77 3923M    0     0  8460k      0  0:10:10  0:07:54  0:02:16 10.1M"
       ]
      },
      {
       "output_type": "stream",
       "stream": "stdout",
       "text": [
        "\r",
        " 78 5041M   78 3933M    0     0  8463k      0  0:10:10  0:07:55  0:02:15  9.9M"
       ]
      },
      {
       "output_type": "stream",
       "stream": "stdout",
       "text": [
        "\r",
        " 78 5041M   78 3940M    0     0  8461k      0  0:10:10  0:07:56  0:02:14 9986k"
       ]
      },
      {
       "output_type": "stream",
       "stream": "stdout",
       "text": [
        "\r",
        " 78 5041M   78 3949M    0     0  8463k      0  0:10:10  0:07:57  0:02:13 9660k"
       ]
      },
      {
       "output_type": "stream",
       "stream": "stdout",
       "text": [
        "\r",
        " 78 5041M   78 3959M    0     0  8464k      0  0:10:09  0:07:58  0:02:11 9336k"
       ]
      },
      {
       "output_type": "stream",
       "stream": "stdout",
       "text": [
        "\r",
        " 78 5041M   78 3966M    0     0  8460k      0  0:10:10  0:08:00  0:02:10 8452k"
       ]
      },
      {
       "output_type": "stream",
       "stream": "stdout",
       "text": [
        "\r",
        " 78 5041M   78 3973M    0     0  8461k      0  0:10:10  0:08:00  0:02:10 8237k"
       ]
      },
      {
       "output_type": "stream",
       "stream": "stdout",
       "text": [
        "\r",
        " 79 5041M   79 3984M    0     0  8466k      0  0:10:09  0:08:01  0:02:08 8886k"
       ]
      },
      {
       "output_type": "stream",
       "stream": "stdout",
       "text": [
        "\r",
        " 79 5041M   79 3993M    0     0  8468k      0  0:10:09  0:08:02  0:02:07 9026k"
       ]
      },
      {
       "output_type": "stream",
       "stream": "stdout",
       "text": [
        "\r",
        " 79 5041M   79 4000M    0     0  8465k      0  0:10:09  0:08:03  0:02:06 8537k"
       ]
      },
      {
       "output_type": "stream",
       "stream": "stdout",
       "text": [
        "\r",
        " 79 5041M   79 4007M    0     0  8463k    "
       ]
      },
      {
       "output_type": "stream",
       "stream": "stdout",
       "text": [
        "  0  0:10:10  0:08:04  0:02:06 8755k"
       ]
      },
      {
       "output_type": "stream",
       "stream": "stdout",
       "text": [
        "\r",
        " 79 5041M   79 4016M    0     0  8465k      0  0:10:09  0:08:05  0:02:04 8830k"
       ]
      },
      {
       "output_type": "stream",
       "stream": "stdout",
       "text": [
        "\r",
        " 79 5041M   79 4025M    0     0  8467k      0  0:10:09  0:08:06  0:02:03 8542k"
       ]
      },
      {
       "output_type": "stream",
       "stream": "stdout",
       "text": [
        "\r",
        " 80 5041M   80 4036M    0     0  8470k      0  0:10:09  0:08:07  0:02:02 8654k"
       ]
      },
      {
       "output_type": "stream",
       "stream": "stdout",
       "text": [
        "\r",
        " 80 5041M   80 4045M    0     0  8474k      0  0:10:09  0:08:08  0:02:01 9305k"
       ]
      },
      {
       "output_type": "stream",
       "stream": "stdout",
       "text": [
        "\r",
        " 80 5041M   80 4056M    0     0  8478k      0  0:10:08  0:08:09  0:01:59 9933k"
       ]
      },
      {
       "output_type": "stream",
       "stream": "stdout",
       "text": [
        "\r",
        " 80 5041M   80 4066M    0     0  8483k      0  0:10:08  0:08:10  0:01:58 10.0M"
       ]
      },
      {
       "output_type": "stream",
       "stream": "stdout",
       "text": [
        "\r",
        " 80 5041M   80 4077M    0     0  8487k      0  0:10:08  0:08:11  0:01:57 10.2M"
       ]
      },
      {
       "output_type": "stream",
       "stream": "stdout",
       "text": [
        "\r",
        " 81 5041M   81 4087M    0     0  8492k      0  0:10:07  0:08:12  0:01:55 10.3M"
       ]
      },
      {
       "output_type": "stream",
       "stream": "stdout",
       "text": [
        "\r",
        " 81 5041M   81 4097M    0     0  8494k      0  0:10:07  0:08:13  0:01:54 10.2M"
       ]
      },
      {
       "output_type": "stream",
       "stream": "stdout",
       "text": [
        "\r",
        " 81 5041M   81 4103M    0     0  8490k      0  0:10:08  0:08:14  0:01:54 9657k"
       ]
      },
      {
       "output_type": "stream",
       "stream": "stdout",
       "text": [
        "\r",
        " 81 5041M   81 4111M    0     0  8490k      0  0:10:08  0:08:15  0:01:53 9193k"
       ]
      },
      {
       "output_type": "stream",
       "stream": "stdout",
       "text": [
        "\r",
        " 81 5041M   81 4120M    0     0  8492k      0  0:10:07  0:08:16  0:01:51 8956k"
       ]
      },
      {
       "output_type": "stream",
       "stream": "stdout",
       "text": [
        "\r",
        " 81 5041M   81 4130M    0     0  8494k      0  0:10:07  0:08:17  0:01:50 8688k"
       ]
      },
      {
       "output_type": "stream",
       "stream": "stdout",
       "text": [
        "\r",
        " 82 5041M   82 4139M    0     0  8496k      0  0:10:07  0:08:18  0:01:49 8687k"
       ]
      },
      {
       "output_type": "stream",
       "stream": "stdout",
       "text": [
        "\r",
        " 82 5041M   82 4150M    0     0  8500k      0  0:10:07  0:08:19  0:01:48 9527k"
       ]
      },
      {
       "output_type": "stream",
       "stream": "stdout",
       "text": [
        "\r",
        " 82 5041M   82 4160M    0     0  8504k      0  0:10:07  0:08:20  0:01:47 9875k"
       ]
      },
      {
       "output_type": "stream",
       "stream": "stdout",
       "text": [
        "\r",
        " 82 5041M   82 4166M    0     0  8500k      0  0:10:07  0:08:21  0:01:46 9324k"
       ]
      },
      {
       "output_type": "stream",
       "stream": "stdout",
       "text": [
        "\r",
        " 82 5041M   82 4174M    0     0  8499k      0  0:10:07  0:08:22  0:01:45 9019k"
       ]
      },
      {
       "output_type": "stream",
       "stream": "stdout",
       "text": [
        "\r",
        " 82 5041M   82 4183M    0     0  8500k      0  0:10:07  0:08:23  0:01:44 8925k"
       ]
      },
      {
       "output_type": "stream",
       "stream": "stdout",
       "text": [
        "\r",
        " 83 5041M   83 4192M    0     0  8503k      0  0:10:07  0:08:24  0:01:43 8757k"
       ]
      },
      {
       "output_type": "stream",
       "stream": "stdout",
       "text": [
        "\r",
        " 83 5041M   83 4202M    0     0  8506k      0  0:10:06  0:08:25  0:01:41 8687k"
       ]
      },
      {
       "output_type": "stream",
       "stream": "stdout",
       "text": [
        "\r",
        " 83 5041M   83 4212M    0     0  8510k      0  0:10:06  0:08:26  0:01:40 9500k"
       ]
      },
      {
       "output_type": "stream",
       "stream": "stdout",
       "text": [
        "\r",
        " 83 5041M   83 4223M    0     0  8515k      0  0:10:06  0:08:27  0:01:39  9.8M"
       ]
      },
      {
       "output_type": "stream",
       "stream": "stdout",
       "text": [
        "\r",
        " 83 5041M   83 4233M    0     0  8519k      0  0:10:06  0:08:28  0:01:38 10.1M"
       ]
      },
      {
       "output_type": "stream",
       "stream": "stdout",
       "text": [
        "\r",
        " 84 5041M   84 4244M    0     0  8524k      0  0:10:05  0:08:29  0:01:36 10.3M"
       ]
      },
      {
       "output_type": "stream",
       "stream": "stdout",
       "text": [
        "\r",
        " 84 5041M   84 4254M    0     0  8528k      0  0:10:05  0:08:30  0:01:35 10.4M"
       ]
      },
      {
       "output_type": "stream",
       "stream": "stdout",
       "text": [
        "\r",
        " 84 5041M   84 4264M    0     0  8530k      0  0:10:05  0:08:31  0:01:34 10.2M"
       ]
      },
      {
       "output_type": "stream",
       "stream": "stdout",
       "text": [
        "\r",
        " 84 5041M   84 4271M    0     0  8527k      0  0:10:05  0:08:32  0:01:33 9732k"
       ]
      },
      {
       "output_type": "stream",
       "stream": "stdout",
       "text": [
        "\r",
        " 84 5041M   84 4279M    0     0  8527k      0  0:10:05  0:08:33  0:01:32 9347k"
       ]
      },
      {
       "output_type": "stream",
       "stream": "stdout",
       "text": [
        "\r",
        " 85 5041M   85 4288M    0     0  8528k      0  0:10:05  0:08:34  0:01:31 9002k"
       ]
      },
      {
       "output_type": "stream",
       "stream": "stdout",
       "text": [
        "\r",
        " 85 5041M   85 4298M    0     0  8532k      0  0:10:05  0:08:35  0:01:30 8949k"
       ]
      },
      {
       "output_type": "stream",
       "stream": "stdout",
       "text": [
        "\r",
        " 85 5041M   85 4308M    0     0  8534k      0  0:10:04  0:08:36  0:01:28 8996k"
       ]
      },
      {
       "output_type": "stream",
       "stream": "stdout",
       "text": [
        "\r",
        " 85 5041M   85 4318M    0     0  8538k      0  0:10:04  0:08:37  0:01:27 9722k"
       ]
      },
      {
       "output_type": "stream",
       "stream": "stdout",
       "text": [
        "\r",
        " 85 5041M   85 4328M    0     0  8542k      0  0:10:04  0:08:38  0:01:26  9.8M"
       ]
      },
      {
       "output_type": "stream",
       "stream": "stdout",
       "text": [
        "\r",
        " 85 5041M   85 4335M    0     0"
       ]
      },
      {
       "output_type": "stream",
       "stream": "stdout",
       "text": [
        "  8538k      0  0:10:04  0:08:39  0:01:25 9569k"
       ]
      },
      {
       "output_type": "stream",
       "stream": "stdout",
       "text": [
        "\r",
        " 86 5041M   86 4343M    0     0  8538k      0  0:10:04  0:08:40  0:01:24 9177k"
       ]
      },
      {
       "output_type": "stream",
       "stream": "stdout",
       "text": [
        "\r",
        " 86 5041M   86 4352M    0     0  8540k      0  0:10:04  0:08:41  0:01:23 9150k"
       ]
      },
      {
       "output_type": "stream",
       "stream": "stdout",
       "text": [
        "\r",
        " 86 5041M   86 4362M    0     0  8543k      0  0:10:04  0:08:42  0:01:22 9072k"
       ]
      },
      {
       "output_type": "stream",
       "stream": "stdout",
       "text": [
        "\r",
        " 86 5041M   86 4372M    0     0  8546k      0  0:10:04  0:08:43  0:01:21 8995k"
       ]
      },
      {
       "output_type": "stream",
       "stream": "stdout",
       "text": [
        "\r",
        " 86 5041M   86 4383M    0     0  8550k      0  0:10:03  0:08:44  0:01:19 9765k"
       ]
      },
      {
       "output_type": "stream",
       "stream": "stdout",
       "text": [
        "\r",
        " 87 5041M   87 4392M    0     0  8553k      0  0:10:03  0:08:45  0:01:18  9.8M"
       ]
      },
      {
       "output_type": "stream",
       "stream": "stdout",
       "text": [
        "\r",
        " 87 5041M   87 4399M    0     0  8549k      0  0:10:03  0:08:46  0:01:17 9477k"
       ]
      },
      {
       "output_type": "stream",
       "stream": "stdout",
       "text": [
        "\r",
        " 87 5041M   87 4407M    0     0  8549k      0  0:10:03  0:08:47  0:01:16 9108k"
       ]
      },
      {
       "output_type": "stream",
       "stream": "stdout",
       "text": [
        "\r",
        " 87 5041M   87 4415M    0     0  8549k      0  0:10:03  0:08:48  0:01:15 8825k"
       ]
      },
      {
       "output_type": "stream",
       "stream": "stdout",
       "text": [
        "\r",
        " 87 5041M   87 4424M    0     0  8550k      0  0:10:03  0:08:49  0:01:14 8528k"
       ]
      },
      {
       "output_type": "stream",
       "stream": "stdout",
       "text": [
        "\r",
        " 87 5041M   87 4434M    0     0  8552k      0  0:10:03  0:08:50  0:01:13 8494k"
       ]
      },
      {
       "output_type": "stream",
       "stream": "stdout",
       "text": [
        "\r",
        " 88 5041M   88 4439M    0     0  8546k      0  0:10:04  0:08:51  0:01:13 8208k"
       ]
      },
      {
       "output_type": "stream",
       "stream": "stdout",
       "text": [
        "\r",
        " 88 5041M   88 4446M    0     0  8543k      0  0:10:04  0:08:52  0:01:12 7977k"
       ]
      },
      {
       "output_type": "stream",
       "stream": "stdout",
       "text": [
        "\r",
        " 88 5041M   88 4453M    0     0  8541k      0  0:10:04  0:08:53  0:01:11 7697k"
       ]
      },
      {
       "output_type": "stream",
       "stream": "stdout",
       "text": [
        "\r",
        " 88 5041M   88 4459M    0     0  8537k      0  0:10:04  0:08:54  0:01:10 7140k"
       ]
      },
      {
       "output_type": "stream",
       "stream": "stdout",
       "text": [
        "\r",
        " 88 5041M   88 4468M    0     0  8538k      0  0:10:04  0:08:55  0:01:09 7027k"
       ]
      },
      {
       "output_type": "stream",
       "stream": "stdout",
       "text": [
        "\r",
        " 88 5041M   88 4477M    0     0  8540k      0  0:10:04  0:08:56  0:01:08 7895k"
       ]
      },
      {
       "output_type": "stream",
       "stream": "stdout",
       "text": [
        "\r",
        " 89 5041M   89 4487M    0     0  8542k      0  0:10:04  0:08:57  0:01:07 8418k"
       ]
      },
      {
       "output_type": "stream",
       "stream": "stdout",
       "text": [
        "\r",
        " 89 5041M   89 4497M    0     0  8546k      0  0:10:04  0:08:58  0:01:06 9065k"
       ]
      },
      {
       "output_type": "stream",
       "stream": "stdout",
       "text": [
        "\r",
        " 89 5041M   89 4508M    0     0  8550k      0  0:10:03  0:08:59  0:01:04 9958k"
       ]
      },
      {
       "output_type": "stream",
       "stream": "stdout",
       "text": [
        "\r",
        " 89 5041M   89 4518M    0     0  8554k      0  0:10:03  0:09:00  0:01:03 10.0M"
       ]
      },
      {
       "output_type": "stream",
       "stream": "stdout",
       "text": [
        "\r",
        " 89 5041M   89 4527M    0     0  8555k      0  0:10:03  0:09:01  0:01:02  9.9M"
       ]
      },
      {
       "output_type": "stream",
       "stream": "stdout",
       "text": [
        "\r",
        " 90 5041M   90 4538M    0     0  8559k      0  0:10:03  0:09:02  0:01:01 10.1M"
       ]
      },
      {
       "output_type": "stream",
       "stream": "stdout",
       "text": [
        "\r",
        " 90 5041M   90 4546M    0     0  8559k      0  0:10:03  0:09:03  0:01:00  9.7M"
       ]
      },
      {
       "output_type": "stream",
       "stream": "stdout",
       "text": [
        "\r",
        " 90 5041M   90 4553M    0     0  8557k      0  0:10:03  0:09:04  0:00:59 9341k"
       ]
      },
      {
       "output_type": "stream",
       "stream": "stdout",
       "text": [
        "\r",
        " 90 5041M   90 4562M    0     0  8559k      0  0:10:03  0:09:05  0:00:58 9077k"
       ]
      },
      {
       "output_type": "stream",
       "stream": "stdout",
       "text": [
        "\r",
        " 90 5041M   90 4571M    0     0  8559k      0  0:10:03  0:09:06  0:00:57 9013k"
       ]
      },
      {
       "output_type": "stream",
       "stream": "stdout",
       "text": [
        "\r",
        " 90 5041M   90 4581M    0     0  8561k      0  0:10:03  0:09:07  0:00:56 8692k"
       ]
      },
      {
       "output_type": "stream",
       "stream": "stdout",
       "text": [
        "\r",
        " 91 5041M   91 4590M    0     0  8563k      0  0:10:02  0:09:08  0:00:54 8963k"
       ]
      },
      {
       "output_type": "stream",
       "stream": "stdout",
       "text": [
        "\r",
        " 91 5041M   91 4600M    0     0  8566k      0  0:10:02  0:09:09  0:00:53 9537k"
       ]
      },
      {
       "output_type": "stream",
       "stream": "stdout",
       "text": [
        "\r",
        " 91 5041M   91 4608M    0     0  8566k      0  0:10:02  0:09:10  0:00:52 9406k"
       ]
      },
      {
       "output_type": "stream",
       "stream": "stdout",
       "text": [
        "\r",
        " 91 5041M   91 4615M    0     0  8563k      0  0:10:02  0:09:11  0:00:51 9026k"
       ]
      },
      {
       "output_type": "stream",
       "stream": "stdout",
       "text": [
        "\r",
        " 91 5041M   91 4622M    0     0  8561k      0  0:10:03  0:09:12  0:00:51 8582k"
       ]
      },
      {
       "output_type": "stream",
       "stream": "stdout",
       "text": [
        "\r",
        " 91 5041M   91 4629M    0     0  8559k      0  0:10:03  0:09:13  0:00:50 8101k"
       ]
      },
      {
       "output_type": "stream",
       "stream": "stdout",
       "text": [
        "\r",
        " 91 5041M   91 4637M    0     0  8558k      0  0:10:03  0:09:14  0:00:49 7691k"
       ]
      },
      {
       "output_type": "stream",
       "stream": "stdout",
       "text": [
        "\r",
        " 92 5041M   92 4646M    0     0  8559k      0  0:10:03  0:09:15  0:00:48 7787k"
       ]
      },
      {
       "output_type": "stream",
       "stream": "stdout",
       "text": [
        "\r",
        " 92 5041M   92 4656M    0     0  8561k      0  0:10:03  0:09:16  0:00:47 8286k"
       ]
      },
      {
       "output_type": "stream",
       "stream": "stdout",
       "text": [
        "\r",
        " 92 5041M   92 4665M    0     0  8562k      0  0:10:02  0:09:17  0:00:45 8722k"
       ]
      },
      {
       "output_type": "stream",
       "stream": "stdout",
       "text": [
        "\r",
        " 92 5041M   92 4671M    0     0  8559k      0  0:10:03  0:09:18  0:00:45 8645k"
       ]
      },
      {
       "output_type": "stream",
       "stream": "stdout",
       "text": [
        "\r",
        " 92 5041M   92 4680M    0     0  8559k      0  0:10:03  0:09:19  0:00:44 8667k"
       ]
      },
      {
       "output_type": "stream",
       "stream": "stdout",
       "text": [
        "\r",
        " 93 5041M   93 4689M    0     0  8561k      0  0:10:03  0:09:20  0:00:43 8753k"
       ]
      },
      {
       "output_type": "stream",
       "stream": "stdout",
       "text": [
        "\r",
        " 93 5041M   93 4699M    0     0  8563k      0  0:10:02  0:09:21  0:00:41 8825k"
       ]
      },
      {
       "output_type": "stream",
       "stream": "stdout",
       "text": [
        "\r",
        " 93 5041M   93 4707M    0     0  8564k      0  0:10:02  0:09:22  0:00:40 8734k"
       ]
      },
      {
       "output_type": "stream",
       "stream": "stdout",
       "text": [
        "\r",
        " 93 5041M   93 4717M    0     0  8567k      0  0:10:02  0:09:23  0:00:39 9422k"
       ]
      },
      {
       "output_type": "stream",
       "stream": "stdout",
       "text": [
        "\r",
        " 93 5041M   93 4727M    0     0  8569k      0  0:10:02  0:09:24  0:00:38 9628k"
       ]
      },
      {
       "output_type": "stream",
       "stream": "stdout",
       "text": [
        "\r",
        " 93 5041M   93 4734M    0     0  8567k      0  0:10:02  0:09:25  0:00:37 9236k"
       ]
      },
      {
       "output_type": "stream",
       "stream": "stdout",
       "text": [
        "\r",
        " 94 5041M   94 4743M    0     0  8567k      0  0:10:02  0:09:26  0:00:36 9006k"
       ]
      },
      {
       "output_type": "stream",
       "stream": "stdout",
       "text": [
        "\r",
        " 94 5041M   94 4752M    0     0  8569k      0  0:10:02  0:09:27  0:00:35 9163k"
       ]
      },
      {
       "output_type": "stream",
       "stream": "stdout",
       "text": [
        "\r",
        " 94 5041M   94 4761M    0     0  8570k      0  0:10:02  0:09:28  0:00:34 8960k"
       ]
      },
      {
       "output_type": "stream",
       "stream": "stdout",
       "text": [
        "\r",
        " 94 5041M   94 4771M    0     0  8573k      0  0:10:02  0:09:29  0:00:33 9081k"
       ]
      },
      {
       "output_type": "stream",
       "stream": "stdout",
       "text": [
        "\r",
        " 94 5041M   94 4781M    0     0  8575k      0  0:10:02  0:09:30  0:00:32 9526k"
       ]
      },
      {
       "output_type": "stream",
       "stream": "stdout",
       "text": [
        "\r",
        " 95 5041M   95 4789M    0     0  8576k      0  0:10:01  0:09:31  0:00:30 9599k"
       ]
      },
      {
       "output_type": "stream",
       "stream": "stdout",
       "text": [
        "\r",
        " 95 5041M   95 4795M    0     0  8571k      0  0:10:02  0:09:32  0:00:30 8811k"
       ]
      },
      {
       "output_type": "stream",
       "stream": "stdout",
       "text": [
        "\r",
        " 95 5041M   95 4804M    0     0  8572k      0  0:10:02  0:09:33  0:00:29 8702k"
       ]
      },
      {
       "output_type": "stream",
       "stream": "stdout",
       "text": [
        "\r",
        " 95 5041M   95 4813M    0     0  8573k      0  0:10:02  0:09:34  0:00:28 8567k"
       ]
      },
      {
       "output_type": "stream",
       "stream": "stdout",
       "text": [
        "\r",
        " 95 5041M   95 4822M    0     0  8575k      0  0:10:02  0:09:35  0:00:27 8531k"
       ]
      },
      {
       "output_type": "stream",
       "stream": "stdout",
       "text": [
        "\r",
        " 95 5041M   95 4831M    0     0  8576k      0  0:10:01  0:09:36  0:00:25 8567k"
       ]
      },
      {
       "output_type": "stream",
       "stream": "stdout",
       "text": [
        "\r",
        " 96 5041M   96 4841M    0     0  8579k      0  0:10:01  0:09:37  0:00:24 9487k"
       ]
      },
      {
       "output_type": "stream",
       "stream": "stdout",
       "text": [
        "\r",
        " 96 5041M   96 4851M    0     0  8581k      0  0:10:01  0:09:38  0:00:23 9623k"
       ]
      },
      {
       "output_type": "stream",
       "stream": "stdout",
       "text": [
        "\r",
        " 96 5041M   96 4857M    0     0  8578k      0  0:10:01  0:09:39  0:00:22 9105k"
       ]
      },
      {
       "output_type": "stream",
       "stream": "stdout",
       "text": [
        "\r",
        " 96 5041M   96 4866M    0     0  8578k      0  0:10:01  0:09:40  0:00:21 8941k"
       ]
      },
      {
       "output_type": "stream",
       "stream": "stdout",
       "text": [
        "\r",
        " 96 5041M   96 4875M    0     0  8579k      0  0:10:01  0:09:41  0:00:20 8864k"
       ]
      },
      {
       "output_type": "stream",
       "stream": "stdout",
       "text": [
        "\r",
        " 96 5041M   96 4884M    0     0  8580k      0  0:10:01  0:09:42  0:00:19 8695k"
       ]
      },
      {
       "output_type": "stream",
       "stream": "stdout",
       "text": [
        "\r",
        " 97 5041M   97 4892M    0     0  8580k      0  0:10:01  0:09:43  0:00:18 8508k"
       ]
      },
      {
       "output_type": "stream",
       "stream": "stdout",
       "text": [
        "\r",
        " 97 5041M   97 4902M    0     0  8581k      0  0:10:01  0:09:44  0:00:17 9014k"
       ]
      },
      {
       "output_type": "stream",
       "stream": "stdout",
       "text": [
        "\r",
        " 97 5041M   97 4911M    0     0  8582k      0  0:10:01  0:09:45  0:00:16 9077k"
       ]
      },
      {
       "output_type": "stream",
       "stream": "stdout",
       "text": [
        "\r",
        " 97 5041M   97 4920M    0     0  8585k      0  0:10:01  0:09:46  0:00:15 9376k"
       ]
      },
      {
       "output_type": "stream",
       "stream": "stdout",
       "text": [
        "\r",
        " 97 5041M   97 4929M    0     0  8586k      0  0:10:01  0:09:47  0:00:14 9335k"
       ]
      },
      {
       "output_type": "stream",
       "stream": "stdout",
       "text": [
        "\r",
        " 97 5041M   97 4940M    0     0  8589k      0  0:10:01  0:09:48  0:00:13 9675k"
       ]
      },
      {
       "output_type": "stream",
       "stream": "stdout",
       "text": [
        "\r",
        " 98 5041M   98 4950M    0     0  8593k      0  0:10:00  0:09:49  0:00:11 9971k"
       ]
      },
      {
       "output_type": "stream",
       "stream": "stdout",
       "text": [
        "\r",
        " 98 5041M   98 4960M    0     0  8596k      0  0:10:00  0:09:50  0:00:10  9.9M"
       ]
      },
      {
       "output_type": "stream",
       "stream": "stdout",
       "text": [
        "\r",
        " 98 5041M   98 4970M    0     0  8599k      0  0:10:00  0:09:51  0:00:09  9.9M"
       ]
      },
      {
       "output_type": "stream",
       "stream": "stdout",
       "text": [
        "\r",
        " 98 5041M   98 4980M    0     0  8602k      0  0:10:00  0:09:52  0:00:08 10.1M"
       ]
      },
      {
       "output_type": "stream",
       "stream": "stdout",
       "text": [
        "\r",
        " 98 5041M   98 4987M    0     0  8599k      0  0:10:00  0:09:53  0:00:07 9724k"
       ]
      },
      {
       "output_type": "stream",
       "stream": "stdout",
       "text": [
        "\r",
        " 99 5041M   99 4995M    0     0  8598k      0  0:10:00  0:09:54  0:00:06 9210k"
       ]
      },
      {
       "output_type": "stream",
       "stream": "stdout",
       "text": [
        "\r",
        " 99 5041M   99 5004M    0     0  8600k      0  0:10:00  0:09:55  0:00:05 8983k"
       ]
      },
      {
       "output_type": "stream",
       "stream": "stdout",
       "text": [
        "\r",
        " 99 5041M   99 5014M    0     0  8601k      0  0:10:00  0:09:56  0:00:04 8943k"
       ]
      },
      {
       "output_type": "stream",
       "stream": "stdout",
       "text": [
        "\r",
        " 99 5041M   99 5023M    0     0  8603k      0  0:10:00  0:09:57  0:00:03 8827k"
       ]
      },
      {
       "output_type": "stream",
       "stream": "stdout",
       "text": [
        "\r",
        " 99 5041M   99 5033M    0     0  8607k      0  0:09:59  0:09:58  0:00:01 9513k"
       ]
      },
      {
       "output_type": "stream",
       "stream": "stdout",
       "text": [
        "\r",
        "100 5041M  100 5041M    0     0  8606k      0  0:09:59  0:09:59 --:--:-- 9573k\r\n"
       ]
      }
     ],
     "prompt_number": 12
    },
    {
     "cell_type": "code",
     "collapsed": false,
     "input": [
      "!curl -O http://eagle.fish.washington.edu/whale/fish546/module3_assembly/LC/Roberts_20100712_CE_F3.csfasta"
     ],
     "language": "python",
     "metadata": {},
     "outputs": [
      {
       "output_type": "stream",
       "stream": "stdout",
       "text": [
        "  % Total    % Received % Xferd  Average Speed   Time    Time     Time  Current\r\n",
        "                                 Dload  Upload   Total   Spent    Left  Speed\r\n",
        "\r",
        "  0     0    0     0    0     0      0      0 --:--:-- --:--:-- --:--:--     0"
       ]
      },
      {
       "output_type": "stream",
       "stream": "stdout",
       "text": [
        "\r",
        "  0 2139M    0 1279k    0     0  1658k      0  0:22:01 --:--:--  0:22:01 1657k"
       ]
      },
      {
       "output_type": "stream",
       "stream": "stdout",
       "text": [
        "\r",
        "  0 2139M    0 8587k    0     0  4853k      0  0:07:31  0:00:01  0:07:30 4851k"
       ]
      },
      {
       "output_type": "stream",
       "stream": "stdout",
       "text": [
        "\r",
        "  0 2139M    0 16.6M    0     0  5987k      0  0:06:05  0:00:02  0:06:03 5986k"
       ]
      },
      {
       "output_type": "stream",
       "stream": "stdout",
       "text": [
        "\r",
        "  1 2139M    1 24.3M    0     0  6624k      0  0:05:30  0:00:03  0:05:27 6623k"
       ]
      },
      {
       "output_type": "stream",
       "stream": "stdout",
       "text": [
        "\r",
        "  1 2139M    1 33.4M    0     0  7180k      0  0:05:05  0:00:04  0:05:01 7179k"
       ]
      },
      {
       "output_type": "stream",
       "stream": "stdout",
       "text": [
        "\r",
        "  1 2139M    1 42.0M    0     0  7461k      0  0:04:53  0:00:05  0:04:48 8357k"
       ]
      },
      {
       "output_type": "stream",
       "stream": "stdout",
       "text": [
        "\r",
        "  2 2139M    2 51.5M    0     0  7805k      0  0:04:40  0:00:06  0:04:34 8849k"
       ]
      },
      {
       "output_type": "stream",
       "stream": "stdout",
       "text": [
        "\r",
        "  2 2139M    2 58.9M    0     0  7767k      0  0:04:42  0:00:07  0:04:35 8793k"
       ]
      },
      {
       "output_type": "stream",
       "stream": "stdout",
       "text": [
        "\r",
        "  3 2139M    3 67.6M    0     0  7899k      0  0:04:37  0:00:08  0:04:29 8859k"
       ]
      },
      {
       "output_type": "stream",
       "stream": "stdout",
       "text": [
        "\r",
        "  3 2139M    3 74.2M    0     0  7786k      0  0:04:41  0:00:09  0:04:32 8364k"
       ]
      },
      {
       "output_type": "stream",
       "stream": "stdout",
       "text": [
        "\r",
        "  3 2139M    3 82.6M    0     0  7859k      0  0:04:38  0:00:10  0:04:28 8317k"
       ]
      },
      {
       "output_type": "stream",
       "stream": "stdout",
       "text": [
        "\r",
        "  4 2139M    4 91.0M    0     0  7918k      0  0:04:36  0:00:11  0:04:25 8072k"
       ]
      },
      {
       "output_type": "stream",
       "stream": "stdout",
       "text": [
        "\r",
        "  4 2139M    4 99.3M    0     0  7968k      0  0:04:34  0:00:12  0:04:22 8279k"
       ]
      },
      {
       "output_type": "stream",
       "stream": "stdout",
       "text": [
        "\r",
        "  5 2139M    5  108M    0     0  8089k      0  0:04:30  0:00:13  0:04:17 8423k"
       ]
      },
      {
       "output_type": "stream",
       "stream": "stdout",
       "text": [
        "\r",
        "  5 2139M    5  117M    0     0  8117k      0  0:04:29  0:00:14  0:04:15 8764k"
       ]
      },
      {
       "output_type": "stream",
       "stream": "stdout",
       "text": [
        "\r",
        "  5 2139M    5  125M    0     0  8162k      0  0:04:28  0:00:15  0:04:13 8815k"
       ]
      },
      {
       "output_type": "stream",
       "stream": "stdout",
       "text": [
        "\r",
        "  6 2139M    6  133M    0     0  8124k      0  0:04:29  0:00:16  0:04:13 8607k"
       ]
      },
      {
       "output_type": "stream",
       "stream": "stdout",
       "text": [
        "\r",
        "  6 2139M    6  140M    0     0  8110k      0  0:04:30  0:00:17  0:04:13 8472k"
       ]
      },
      {
       "output_type": "stream",
       "stream": "stdout",
       "text": [
        "\r",
        "  7 2139M    7  149M    0     0  8174k      0  0:04:27  0:00:18  0:04:09 8408k"
       ]
      },
      {
       "output_type": "stream",
       "stream": "stdout",
       "text": [
        "\r",
        "  7 2139M    7  158M    0     0  8212k      0  0:04:26  0:00:19  0:04:07 8493k"
       ]
      },
      {
       "output_type": "stream",
       "stream": "stdout",
       "text": [
        "\r",
        "  7 2139M    7  167M    0     0  8282k      0  0:04:24  0:00:20  0:04:04 8660k"
       ]
      },
      {
       "output_type": "stream",
       "stream": "stdout",
       "text": [
        "\r",
        "  8 2139M    8  177M    0     0  8362k      0  0:04:21  0:00:21  0:04:00 9159k"
       ]
      },
      {
       "output_type": "stream",
       "stream": "stdout",
       "text": [
        "\r",
        "  8 2139M    8  186M    0     0  8375k      0  0:04:21  0:00:22  0:03:59 9318k"
       ]
      },
      {
       "output_type": "stream",
       "stream": "stdout",
       "text": [
        "\r",
        "  9 2139M    9  193M    0     0  8327k      0  0:04:23  0:00:23  0:04:00 8903k"
       ]
      },
      {
       "output_type": "stream",
       "stream": "stdout",
       "text": [
        "\r",
        "  9 2139M    9  201M    0     0  8329k      0  0:04:22  0:00:24  0:03:58 8790k"
       ]
      },
      {
       "output_type": "stream",
       "stream": "stdout",
       "text": [
        "\r",
        "  9 2139M    9  210M    0     0  8348k      0  0:04:22  0:00:25  0:03:57 8623k"
       ]
      },
      {
       "output_type": "stream",
       "stream": "stdout",
       "text": [
        "\r",
        " 10 2139M   10  219M    0     0  8409k      0  0:04:20  0:00:26  0:03:54 8615k"
       ]
      },
      {
       "output_type": "stream",
       "stream": "stdout",
       "text": [
        "\r",
        " 10 2139M   10  229M    0     0  8476k      0  0:04:18  0:00:27  0:03:51 8935k"
       ]
      },
      {
       "output_type": "stream",
       "stream": "stdout",
       "text": [
        "\r",
        " 11 2139M   11  239M    0     0  8518k      0  0:04:17  0:00:28  0:03:49 9422k"
       ]
      },
      {
       "output_type": "stream",
       "stream": "stdout",
       "text": [
        "\r",
        " 11 2139M   11  249M    0     0  8574k      0  0:04:15  0:00:29  0:03:46 9788k"
       ]
      },
      {
       "output_type": "stream",
       "stream": "stdout",
       "text": [
        "\r",
        " 11 2139M   11  254M    0     0  8477k      0  0:04:18  0:00:30  0:03:48 9144k"
       ]
      },
      {
       "output_type": "stream",
       "stream": "stdout",
       "text": [
        "\r",
        " 12 2139M   12  262M    0     0  8464k      0  0:04:18  0:00:31  0:03:47 8760k"
       ]
      },
      {
       "output_type": "stream",
       "stream": "stdout",
       "text": [
        "\r",
        " 12 2139M   12  271M    0     0  8485k      0  0:04:18  0:00:32  0:03:46 8539k"
       ]
      },
      {
       "output_type": "stream",
       "stream": "stdout",
       "text": [
        "\r",
        " 13 2139M   13  281M    0     0  8529k      0  0:04:16  0:00:33  0:03:43 8593k"
       ]
      },
      {
       "output_type": "stream",
       "stream": "stdout",
       "text": [
        "\r",
        " 13 2139M   13  286M    0     0  8427k      0  0:04:19  0:00:34  0:03:45 7559k"
       ]
      },
      {
       "output_type": "stream",
       "stream": "stdout",
       "text": [
        "\r",
        " 13 2139M   13  296M    0     0  8483k      0  0:04:18  0:00:35  0:03:43 8516k"
       ]
      },
      {
       "output_type": "stream",
       "stream": "stdout",
       "text": [
        "\r",
        " 14 2139M   14  306M    0     0  8534k      0  0:04:16  0:00:36  0:03:40 8981k"
       ]
      },
      {
       "output_type": "stream",
       "stream": "stdout",
       "text": [
        "\r",
        " 14 2139M   14  312M    0     0  8479k      0  0:04:18  0:00:37  0:03:41 8433k"
       ]
      },
      {
       "output_type": "stream",
       "stream": "stdout",
       "text": [
        "\r",
        " 14 2139M   14  320M    0     0  8454k      0  0:04:19  0:00:38  0:03:41 7945k"
       ]
      },
      {
       "output_type": "stream",
       "stream": "stdout",
       "text": [
        "\r",
        " 15 2139M   15  328M    0     0  8461k      0  0:04:18  0:00:39  0:03:39 8692k"
       ]
      },
      {
       "output_type": "stream",
       "stream": "stdout",
       "text": [
        "\r",
        " 15 2139M   15  336M    0     0  8460k      0  0:04:18  0:00:40  0:03:38 8294k"
       ]
      },
      {
       "output_type": "stream",
       "stream": "stdout",
       "text": [
        "\r",
        " 16 2139M   16  345M    0     0  8480k      0  0:04:18  0:00:41  0:03:37 8081k"
       ]
      },
      {
       "output_type": "stream",
       "stream": "stdout",
       "text": [
        "\r",
        " 16 2139M   16  355M    0     0  8514k      0  0:04:17  0:00:42  0:03:35 8784k"
       ]
      },
      {
       "output_type": "stream",
       "stream": "stdout",
       "text": [
        "\r",
        " 17 2139M   17  366M    0     0  8569k      0  0:04:15  0:00:43  0:03:32 9467k"
       ]
      },
      {
       "output_type": "stream",
       "stream": "stdout",
       "text": [
        "\r",
        " 17 2139M   17  374M    0     0  8556k      0  0:04:16  0:00:44  0:03:32 9314k"
       ]
      },
      {
       "output_type": "stream",
       "stream": "stdout",
       "text": [
        "\r",
        " 17 2139M   17  381M    0     0  8537k      0  0:04:16  0:00:45  0:03:31 9170k"
       ]
      },
      {
       "output_type": "stream",
       "stream": "stdout",
       "text": [
        "\r",
        " 18 2139M   18  390M    0     0  8551k      0  0:04:16  0:00:46  0:03:30 9143k"
       ]
      },
      {
       "output_type": "stream",
       "stream": "stdout",
       "text": [
        "\r",
        " 18 2139M   18  398M    0     0  8545k      0  0:04:16  0:00:47  0:03:29 8804k"
       ]
      },
      {
       "output_type": "stream",
       "stream": "stdout",
       "text": [
        "\r",
        " 19 2139M   19  407M    0     0  8563k      0  0:04:15  0:00:48  0:03:27 8506k"
       ]
      },
      {
       "output_type": "stream",
       "stream": "stdout",
       "text": [
        "\r",
        " 19 2139M   19  418M    0     0  8604k      0  0:04:14  0:00:49  0:03:25 9036k"
       ]
      },
      {
       "output_type": "stream",
       "stream": "stdout",
       "text": [
        "\r",
        " 19 2139M   19  426M    0     0  8602k      0  0:04:14  0:00:50  0:03:24 9196k"
       ]
      },
      {
       "output_type": "stream",
       "stream": "stdout",
       "text": [
        "\r",
        " 20 2139M   20  433M    0     0  8584k      0  0:04:15  0:00:51  0:03:24 8890k"
       ]
      },
      {
       "output_type": "stream",
       "stream": "stdout",
       "text": [
        "\r",
        " 20 2139M   20  441M    0     0  8570k      0  0:04:15  0:00:52  0:03:23 8807k"
       ]
      },
      {
       "output_type": "stream",
       "stream": "stdout",
       "text": [
        "\r",
        " 21 2139M   21  450M    0     0  8582k      0  0:04:15  0:00:53  0:03:22 8764k"
       ]
      },
      {
       "output_type": "stream",
       "stream": "stdout",
       "text": [
        "\r",
        " 21 2139M   21  459M    0     0  8594k      0  0:04:14  0:00:54  0:03:20 8493k"
       ]
      },
      {
       "output_type": "stream",
       "stream": "stdout",
       "text": [
        "\r",
        " 21 2139M   21  469M    0     0  8615k      0  0:04:14  0:00:55  0:03:19 8745k"
       ]
      },
      {
       "output_type": "stream",
       "stream": "stdout",
       "text": [
        "\r",
        " 22 2139M   22  479M    0     0  8641k      0  0:04:13  0:00:56  0:03:17 9238k"
       ]
      },
      {
       "output_type": "stream",
       "stream": "stdout",
       "text": [
        "\r",
        " 22 2139M   22  488M    0     0  8653k      0  0:04:13  0:00:57  0:03:16 9532k"
       ]
      },
      {
       "output_type": "stream",
       "stream": "stdout",
       "text": [
        "\r",
        " 23 2139M   23  496M    0     0  8650k      0  0:04:13  0:00:58  0:03:15 9381k"
       ]
      },
      {
       "output_type": "stream",
       "stream": "stdout",
       "text": [
        "\r",
        " 23 2139M   23  502M    0     0  8617k      0  0:04:14  0:00:59  0:03:15 8871k"
       ]
      },
      {
       "output_type": "stream",
       "stream": "stdout",
       "text": [
        "\r",
        " 23 2139M   23  509M    0     0  8585k      0  0:04:15  0:01:00  0:03:15 8255k"
       ]
      },
      {
       "output_type": "stream",
       "stream": "stdout",
       "text": [
        "\r",
        " 24 2139M   24  517M    0     0  8575k      0  0:04:15  0:01:01  0:03:14 7820k"
       ]
      },
      {
       "output_type": "stream",
       "stream": "stdout",
       "text": [
        "\r",
        " 24 2139M   24  525M    0     0  8580k      0  0:04:15  0:01:02  0:03:13 7744k"
       ]
      },
      {
       "output_type": "stream",
       "stream": "stdout",
       "text": [
        "\r",
        " 25 2139M   25  535M    0     0  8603k      0  0:04:14  0:01:03  0:03:11 8060k"
       ]
      },
      {
       "output_type": "stream",
       "stream": "stdout",
       "text": [
        "\r",
        " 25 2139M   25  545M    0     0  8626k      0  0:04:13  0:01:04  0:03:09 8726k"
       ]
      },
      {
       "output_type": "stream",
       "stream": "stdout",
       "text": [
        "\r",
        " 25 2139M   25  555M    0     0  8652k      0  0:04:13  0:01:05  0:03:08 9459k"
       ]
      },
      {
       "output_type": "stream",
       "stream": "stdout",
       "text": [
        "\r",
        " 26 2139M   26  565M    0     0  8671k      0  0:04:12  0:01:06  0:03:06 9865k"
       ]
      },
      {
       "output_type": "stream",
       "stream": "stdout",
       "text": [
        "\r",
        " 26 2139M   26  571M    0     0  8641k      0  0:04:13  0:01:07  0:03:06 9406k"
       ]
      },
      {
       "output_type": "stream",
       "stream": "stdout",
       "text": [
        "\r",
        " 27 2139M   27  579M    0     0  8628k      0  0:04:13  0:01:08  0:03:05 8942k"
       ]
      },
      {
       "output_type": "stream",
       "stream": "stdout",
       "text": [
        "\r",
        " 27 2139M   27  588M    0     0  8632k      0  0:04:13  0:01:09  0:03:04 8709k"
       ]
      },
      {
       "output_type": "stream",
       "stream": "stdout",
       "text": [
        "\r",
        " 27 2139M   27  596M    0     0  8632k      0  0:04:13  0:01:10  0:03:03 8371k"
       ]
      },
      {
       "output_type": "stream",
       "stream": "stdout",
       "text": [
        "\r",
        " 28 2139M   28  604M    0     0  8623k      0  0:04:14  0:01:11  0:03:03 7971k"
       ]
      },
      {
       "output_type": "stream",
       "stream": "stdout",
       "text": [
        "\r",
        " 28 2139M   28  612M    0     0  8617k      0  0:04:14  0:01:12  0:03:02 8284k"
       ]
      },
      {
       "output_type": "stream",
       "stream": "stdout",
       "text": [
        "\r",
        " 29 2139M   29  621M    0     0  8624k      0  0:04:14  0:01:13  0:03:01 8565k"
       ]
      },
      {
       "output_type": "stream",
       "stream": "stdout",
       "text": [
        "\r",
        " 29 2139M   29  630M    0     0  8640k      0  0:04:13  0:01:14  0:02:59 8751k"
       ]
      },
      {
       "output_type": "stream",
       "stream": "stdout",
       "text": [
        "\r",
        " 29 2139M   29  640M    0     0  8656k      0  0:04:13  0:01:15  0:02:58 8989k"
       ]
      },
      {
       "output_type": "stream",
       "stream": "stdout",
       "text": [
        "\r",
        " 30 2139M   30  650M    0     0  8678k      0  0:04:12  0:01:16  0:02:56 9477k"
       ]
      },
      {
       "output_type": "stream",
       "stream": "stdout",
       "text": [
        "\r",
        " 30 2139M   30  660M    0     0  8693k      0  0:04:11  0:01:17  0:02:54 9807k"
       ]
      },
      {
       "output_type": "stream",
       "stream": "stdout",
       "text": [
        "\r",
        " 31 2139M   31  666M    0     0  8670k      0  0:04:12  0:01:18  0:02:54 9353k"
       ]
      },
      {
       "output_type": "stream",
       "stream": "stdout",
       "text": [
        "\r",
        " 31 2139M   31  675M    0     0  8666k      0  0:04:12  0:01:19  0:02:53 9059k"
       ]
      },
      {
       "output_type": "stream",
       "stream": "stdout",
       "text": [
        "\r",
        " 31 2139M   31  682M    0     0  8657k      0  0:04:13  0:01:20  0:02:53 8677k"
       ]
      },
      {
       "output_type": "stream",
       "stream": "stdout",
       "text": [
        "\r",
        " 32 2139M   32  692M    0     0  8666k      0  0:04:12  0:01:21  0:02:51 8484k"
       ]
      },
      {
       "output_type": "stream",
       "stream": "stdout",
       "text": [
        "\r",
        " 32 2139M   32  701M    0     0  8676k      0  0:04:12  0:01:22  0:02:50 8412k"
       ]
      },
      {
       "output_type": "stream",
       "stream": "stdout",
       "text": [
        "\r",
        " 33 2139M   33  710M    0     0  8686k      0  0:04:12  0:01:23  0:02:49 8932k"
       ]
      },
      {
       "output_type": "stream",
       "stream": "stdout",
       "text": [
        "\r",
        " 33 2139M   33  720M    0     0  8703k      0  0:04:11  0:01:24  0:02:47 9288k"
       ]
      },
      {
       "output_type": "stream",
       "stream": "stdout",
       "text": [
        "\r",
        " 34 2139M   34  727M    0     0  8689k      0  0:04:12  0:01:25  0:02:47 9203k"
       ]
      },
      {
       "output_type": "stream",
       "stream": "stdout",
       "text": [
        "\r",
        " 34 2139M   34  735M    0     0  8679k      0  0:04:12  0:01:26  0:02:46 8885k"
       ]
      },
      {
       "output_type": "stream",
       "stream": "stdout",
       "text": [
        "\r",
        " 34 2139M   34  744M    0     0  8686k      0  0:04:12  0:01:27  0:02:45 8847k"
       ]
      },
      {
       "output_type": "stream",
       "stream": "stdout",
       "text": [
        "\r",
        " 35 2139M   35  754M    0     0  8698k      0  0:04:11  0:01:28  0:02:43 8909k"
       ]
      },
      {
       "output_type": "stream",
       "stream": "stdout",
       "text": [
        "\r",
        " 35 2139M   35  763M    0     0  8712k      0  0:04:11  0:01:29  0:02:42 8863k"
       ]
      },
      {
       "output_type": "stream",
       "stream": "stdout",
       "text": [
        "\r",
        " 36 2139M   36  773M    0     0  8721k      0  0:04:11  0:01:30  0:02:41 9269k"
       ]
      },
      {
       "output_type": "stream",
       "stream": "stdout",
       "text": [
        "\r",
        " 36 2139M   36  782M    0     0  8735k      0  0:04:10  0:01:31  0:02:39 9704k"
       ]
      },
      {
       "output_type": "stream",
       "stream": "stdout",
       "text": [
        "\r",
        " 36 2139M   36  790M    0     0  8720k      0  0:04:11  0:01:32  0:02:39 9325k"
       ]
      },
      {
       "output_type": "stream",
       "stream": "stdout",
       "text": [
        "\r",
        " 37 2139M   37  797M    0     0  8711k      0  0:04:11  0:01:33  0:02:38 8935k"
       ]
      },
      {
       "output_type": "stream",
       "stream": "stdout",
       "text": [
        "\r",
        " 37 2139M   37  806M    0     0  8712k      0  0:04:11  0:01:34  0:02:37 8725k"
       ]
      },
      {
       "output_type": "stream",
       "stream": "stdout",
       "text": [
        "\r",
        " 38 2139M   38  815M    0     0  8724k      0  0:04:11  0:01:35  0:02:36 8781k"
       ]
      },
      {
       "output_type": "stream",
       "stream": "stdout",
       "text": [
        "\r",
        " 38 2139M   38  825M    0     0  8733k      0  0:04:10  0:01:36  0:02:34 8704k"
       ]
      },
      {
       "output_type": "stream",
       "stream": "stdout",
       "text": [
        "\r",
        " 39 2139M   39  835M    0     0  8752k      0  0:04:10  0:01:37  0:02:33 9347k"
       ]
      },
      {
       "output_type": "stream",
       "stream": "stdout",
       "text": [
        "\r",
        " 39 2139M   39  846M    0     0  8774k      0  0:04:09  0:01:38  0:02:31 9960k"
       ]
      },
      {
       "output_type": "stream",
       "stream": "stdout",
       "text": [
        "\r",
        " 39 2139M   39  853M    0     0  8755k      0  0:04:10  0:01:39  0:02:31 9557k"
       ]
      },
      {
       "output_type": "stream",
       "stream": "stdout",
       "text": [
        "\r",
        " 40 2139M   40  861M    0     0  8750k      0  0:04:10  0:01:40  0:02:30 9263k"
       ]
      },
      {
       "output_type": "stream",
       "stream": "stdout",
       "text": [
        "\r",
        " 40 2139M   40  870M    0     0  8755k      0  0:04:10  0:01:41  0:02:29 9171k"
       ]
      },
      {
       "output_type": "stream",
       "stream": "stdout",
       "text": [
        "\r",
        " 41 2139M   41  878M    0     0  8754k      0  0:04:10  0:01:42  0:02:28 8794k"
       ]
      },
      {
       "output_type": "stream",
       "stream": "stdout",
       "text": [
        "\r",
        " 41 2139M   41  888M    0     0  8766k      0  0:04:09  0:01:43  0:02:26 8605k"
       ]
      },
      {
       "output_type": "stream",
       "stream": "stdout",
       "text": [
        "\r",
        " 41 2139M   41  898M    0     0  8778k      0  0:04:09  0:01:44  0:02:25 9241k"
       ]
      },
      {
       "output_type": "stream",
       "stream": "stdout",
       "text": [
        "\r",
        " 42 2139M   42  908M    0     0  8798k      0  0:04:08  0:01:45  0:02:23 9755k"
       ]
      },
      {
       "output_type": "stream",
       "stream": "stdout",
       "text": [
        "\r",
        " 42 2139M   42  915M    0     0  8785k      0  0:04:09  0:01:46  0:02:23 9395k"
       ]
      },
      {
       "output_type": "stream",
       "stream": "stdout",
       "text": [
        "\r",
        " 43 2139M   43  923M    0     0  8775k      0  0:04:09  0:01:47  0:02:22 9191k"
       ]
      },
      {
       "output_type": "stream",
       "stream": "stdout",
       "text": [
        "\r",
        " 43 2139M   43  931M    0     0  8770k      0  0:04:09  0:01:48  0:02:21 8858k"
       ]
      },
      {
       "output_type": "stream",
       "stream": "stdout",
       "text": [
        "\r",
        " 43 2139M   43  938M    0     0  8758k      0  0:04:10  0:01:49  0:02:21 8335k"
       ]
      },
      {
       "output_type": "stream",
       "stream": "stdout",
       "text": [
        "\r",
        " 44 2139M   44  946M    0     0  8753k      0  0:04:10  0:01:50  0:02:20 7811k"
       ]
      },
      {
       "output_type": "stream",
       "stream": "stdout",
       "text": [
        "\r",
        " 44 2139M   44  956M    0     0  8758k      0  0:04:10  0:01:51  0:02:19 8200k"
       ]
      },
      {
       "output_type": "stream",
       "stream": "stdout",
       "text": [
        "\r",
        " 45 2139M   45  965M    0     0  8764k      0  0:04:09  0:01:52  0:02:17 8528k"
       ]
      },
      {
       "output_type": "stream",
       "stream": "stdout",
       "text": [
        "\r",
        " 45 2139M   45  972M    0     0  8750k      0  0:04:10  0:01:53  0:02:17 8303k"
       ]
      },
      {
       "output_type": "stream",
       "stream": "stdout",
       "text": [
        "\r",
        " 45 2139M   45  981M    0     0  8753k      0  0:04:10  0:01:54  0:02:16 8651k"
       ]
      },
      {
       "output_type": "stream",
       "stream": "stdout",
       "text": [
        "\r",
        " 46 2139M   46  987M    0     0  8736k      0  0:04:10  0:01:55  0:02:15 8354k"
       ]
      },
      {
       "output_type": "stream",
       "stream": "stdout",
       "text": [
        "\r",
        " 46 2139M   46  997M    0     0  8748k      0  0:04:10  0:01:56  0:02:14 8514k"
       ]
      },
      {
       "output_type": "stream",
       "stream": "stdout",
       "text": [
        "\r",
        " 47 2139M   47 1006M    0     0  8752k      0  0:04:10  0:01:57  0:02:13 8488k"
       ]
      },
      {
       "output_type": "stream",
       "stream": "stdout",
       "text": [
        "\r",
        " 47 2139M   47 1016M    0     0  8762k      0  0:04:10  0:01:58  0:02:12 9036k"
       ]
      },
      {
       "output_type": "stream",
       "stream": "stdout",
       "text": [
        "\r",
        " 47 2139M   47 1026M    0     0  8772k      0  0:04:09  0:01:59  0:02:10 9207k"
       ]
      },
      {
       "output_type": "stream",
       "stream": "stdout",
       "text": [
        "\r",
        " 48 2139M   48 1034M    0     0  8774k      0  0:04:09  0:02:00  0:02:09 9656k"
       ]
      },
      {
       "output_type": "stream",
       "stream": "stdout",
       "text": [
        "\r",
        " 48 2139M   48 1044M    0     0  8779k      0  0:04:09  0:02:01  0:02:08 9512k"
       ]
      },
      {
       "output_type": "stream",
       "stream": "stdout",
       "text": [
        "\r",
        " 49 2139M   49 1053M    0     0  8783k      0  0:04:09  0:02:02  0:02:07 9517k"
       ]
      },
      {
       "output_type": "stream",
       "stream": "stdout",
       "text": [
        "\r",
        " 49 2139M   49 1062M    0     0  8787k      0  0:04:09  0:02:03  0:02:06 9383k"
       ]
      },
      {
       "output_type": "stream",
       "stream": "stdout",
       "text": [
        "\r",
        " 50 2139M   50 1072M    0     0  8801k      0  0:04:08  0:02:04  0:02:04 9492k"
       ]
      },
      {
       "output_type": "stream",
       "stream": "stdout",
       "text": [
        "\r",
        " 50 2139M   50 1083M    0     0  8818k      0  0:04:08  0:02:05  0:02:03 9877k"
       ]
      },
      {
       "output_type": "stream",
       "stream": "stdout",
       "text": [
        "\r",
        " 51 2139M   51 1093M    0     0  8829k      0  0:04:08  0:02:06  0:02:02  9.8M"
       ]
      },
      {
       "output_type": "stream",
       "stream": "stdout",
       "text": [
        "\r",
        " 51 2139M   51 1100M    0     0  8819k      0  0:04:08  0:02:07  0:02:01 9704k"
       ]
      },
      {
       "output_type": "stream",
       "stream": "stdout",
       "text": [
        "\r",
        " 51 2139M   51 1108M    0     0  8815k      0  0:04:08  0:02:08  0:02:00 9519k"
       ]
      },
      {
       "output_type": "stream",
       "stream": "stdout",
       "text": [
        "\r",
        " 52 2139M   52 1118M    0     0  8822k      0  0:04:08  0:02:09  0:01:59 9348k"
       ]
      },
      {
       "output_type": "stream",
       "stream": "stdout",
       "text": [
        "\r",
        " 52 2139M   52 1127M    0     0  8830k      0  0:04:08  0:02:10  0:01:58 9131k"
       ]
      },
      {
       "output_type": "stream",
       "stream": "stdout",
       "text": [
        "\r",
        " 53 2139M   53 1137M    0     0  8839k      0  0:04:07  0:02:11  0:01:56 9104k"
       ]
      },
      {
       "output_type": "stream",
       "stream": "stdout",
       "text": [
        "\r",
        " 53 2139M   53 1147M    0     0  8853k      0  0:04:07  0:02:12  0:01:55 9709k"
       ]
      },
      {
       "output_type": "stream",
       "stream": "stdout",
       "text": [
        "\r",
        " 54 2139M   54 1156M    0     0  8854k      0  0:04:07  0:02:13  0:01:54 9855k"
       ]
      },
      {
       "output_type": "stream",
       "stream": "stdout",
       "text": [
        "\r",
        " 54 2139M   54 1164M    0     0  8847k      0  0:04:07  0:02:14  0:01:53 9512k"
       ]
      },
      {
       "output_type": "stream",
       "stream": "stdout",
       "text": [
        "\r",
        " 54 2139M   54 1172M    0     0  8844k      0  0:04:07  0:02:15  0:01:52 9212k"
       ]
      },
      {
       "output_type": "stream",
       "stream": "stdout",
       "text": [
        "\r",
        " 55 2139M   55 1181M    0     0  8848k      0  0:04:07  0:02:16  0:01:51 9077k"
       ]
      },
      {
       "output_type": "stream",
       "stream": "stdout",
       "text": [
        "\r",
        " 55 2139M   55 1191M    0     0  8855k      0  0:04:07  0:02:17  0:01:50 8913k"
       ]
      },
      {
       "output_type": "stream",
       "stream": "stdout",
       "text": [
        "\r",
        " 56 2139M   56 1201M    0     0  8867k      0  0:04:07  0:02:18  0:01:49 9207k"
       ]
      },
      {
       "output_type": "stream",
       "stream": "stdout",
       "text": [
        "\r",
        " 56 2139M   56 1211M    0     0  8877k      0  0:04:06  0:02:19  0:01:47 9664k"
       ]
      },
      {
       "output_type": "stream",
       "stream": "stdout",
       "text": [
        "\r",
        " 57 2139M   57 1221M    0     0  8876k      0  0:04:06  0:02:20  0:01:46 9737k"
       ]
      },
      {
       "output_type": "stream",
       "stream": "stdout",
       "text": [
        "\r",
        " 57 2139M   57 1226M    0     0  8859k      0  0:04:07  0:02:21  0:01:46 9167k"
       ]
      },
      {
       "output_type": "stream",
       "stream": "stdout",
       "text": [
        "\r",
        " 57 2139M   57 1234M    0     0  8854k      0  0:04:07  0:02:22  0:01:45 8836k"
       ]
      },
      {
       "output_type": "stream",
       "stream": "stdout",
       "text": [
        "\r",
        " 58 2139M   58 1243M    0     0  8856k      0  0:04:07  0:02:23  0:01:44 8567k"
       ]
      },
      {
       "output_type": "stream",
       "stream": "stdout",
       "text": [
        "\r",
        " 58 2139M   58 1252M    0     0  8856k      0  0:04:07  0:02:24  0:01:43 8275k"
       ]
      },
      {
       "output_type": "stream",
       "stream": "stdout",
       "text": [
        "\r",
        " 58 2139M   58 1260M    0     0  8853k      0  0:04:07  0:02:25  0:01:42 8174k"
       ]
      },
      {
       "output_type": "stream",
       "stream": "stdout",
       "text": [
        "\r",
        " 59 2139M   59 1270M    0     0  8865k      0  0:04:07  0:02:26  0:01:41 9023k"
       ]
      },
      {
       "output_type": "stream",
       "stream": "stdout",
       "text": [
        "\r",
        " 59 2139M   59 1280M    0     0  8871k      0  0:04:06  0:02:27  0:01:39 9354k"
       ]
      },
      {
       "output_type": "stream",
       "stream": "stdout",
       "text": [
        "\r",
        " 60 2139M   60 1287M    0     0  8861k      0  0:04:07  0:02:28  0:01:39 9003k"
       ]
      },
      {
       "output_type": "stream",
       "stream": "stdout",
       "text": [
        "\r",
        " 60 2139M   60 1295M    0     0  8859k      0  0:04:07  0:02:29  0:01:38 8946k"
       ]
      },
      {
       "output_type": "stream",
       "stream": "stdout",
       "text": [
        "\r",
        " 60 2139M   60 1304M    0     0  8856k      0  0:04:07  0:02:30  0:01:37 8966k"
       ]
      },
      {
       "output_type": "stream",
       "stream": "stdout",
       "text": [
        "\r",
        " 61 2139M   61 1313M    0     0  8860k      0  0:04:07  0:02:31  0:01:36 8710k"
       ]
      },
      {
       "output_type": "stream",
       "stream": "stdout",
       "text": [
        "\r",
        " 61 2139M   61 1322M    0     0  8861k      0  0:04:07  0:02:32  0:01:35 8569k"
       ]
      },
      {
       "output_type": "stream",
       "stream": "stdout",
       "text": [
        "\r",
        " 62 2139M   62 1332M    0     0  8873k      0  0:04:06  0:02:33  0:01:33 9231k"
       ]
      },
      {
       "output_type": "stream",
       "stream": "stdout",
       "text": [
        "\r",
        " 62 2139M   62 1343M    0     0  8887k      0  0:04:06  0:02:34  0:01:32 9714k"
       ]
      },
      {
       "output_type": "stream",
       "stream": "stdout",
       "text": [
        "\r",
        " 63 2139M   63 1350M    0     0  8877k      0  0:04:06  0:02:35  0:01:31 9497k"
       ]
      },
      {
       "output_type": "stream",
       "stream": "stdout",
       "text": [
        "\r",
        " 63 2139M   63 1358M    0     0  8876k      0  0:04:06  0:02:36  0:01:30 9353k"
       ]
      },
      {
       "output_type": "stream",
       "stream": "stdout",
       "text": [
        "\r",
        " 63 2139M   63 1367M    0     0 "
       ]
      },
      {
       "output_type": "stream",
       "stream": "stdout",
       "text": [
        " 8874k      0  0:04:06  0:02:37  0:01:29 9256k"
       ]
      },
      {
       "output_type": "stream",
       "stream": "stdout",
       "text": [
        "\r",
        " 64 2139M   64 1376M    0     0  8877k      0  0:04:06  0:02:38  0:01:28 8996k"
       ]
      },
      {
       "output_type": "stream",
       "stream": "stdout",
       "text": [
        "\r",
        " 64 2139M   64 1385M    0     0  8878k      0  0:04:06  0:02:39  0:01:27 8616k"
       ]
      },
      {
       "output_type": "stream",
       "stream": "stdout",
       "text": [
        "\r",
        " 65 2139M   65 1394M    0     0  8884k      0  0:04:06  0:02:40  0:01:26 9106k"
       ]
      },
      {
       "output_type": "stream",
       "stream": "stdout",
       "text": [
        "\r",
        " 65 2139M   65 1404M    0     0  8888k      0  0:04:06  0:02:41  0:01:25 9271k"
       ]
      },
      {
       "output_type": "stream",
       "stream": "stdout",
       "text": [
        "\r",
        " 65 2139M   65 1411M    0     0  8877k      0  0:04:06  0:02:42  0:01:24 8988k"
       ]
      },
      {
       "output_type": "stream",
       "stream": "stdout",
       "text": [
        "\r",
        " 66 2139M   66 1419M    0     0  8873k      0  0:04:06  0:02:43  0:01:23 8740k"
       ]
      },
      {
       "output_type": "stream",
       "stream": "stdout",
       "text": [
        "\r",
        " 66 2139M   66 1428M    0     0  8871k      0  0:04:06  0:02:44  0:01:22 8648k"
       ]
      },
      {
       "output_type": "stream",
       "stream": "stdout",
       "text": [
        "\r",
        " 67 2139M   67 1436M    0     0  8871k      0  0:04:06  0:02:45  0:01:21 8438k"
       ]
      },
      {
       "output_type": "stream",
       "stream": "stdout",
       "text": [
        "\r",
        " 67 2139M   67 1446M    0     0  8879k      0  0:04:06  0:02:46  0:01:20 8594k"
       ]
      },
      {
       "output_type": "stream",
       "stream": "stdout",
       "text": [
        "\r",
        " 68 2139M   68 1456M    0     0  8887k      0  0:04:06  0:02:47  0:01:19 9215k"
       ]
      },
      {
       "output_type": "stream",
       "stream": "stdout",
       "text": [
        "\r",
        " 68 2139M   68 1465M    0     0  8891k      0  0:04:06  0:02:48  0:01:18 9487k"
       ]
      },
      {
       "output_type": "stream",
       "stream": "stdout",
       "text": [
        "\r",
        " 68 2139M   68 1472M    0     0  8881k      0  0:04:06  0:02:49  0:01:17 9216k"
       ]
      },
      {
       "output_type": "stream",
       "stream": "stdout",
       "text": [
        "\r",
        " 69 2139M   69 1480M    0     0  8876k      0  0:04:06  0:02:50  0:01:16 9064k"
       ]
      },
      {
       "output_type": "stream",
       "stream": "stdout",
       "text": [
        "\r",
        " 69 2139M   69 1487M    0     0  8866k      0  0:04:07  0:02:51  0:01:16 8437k"
       ]
      },
      {
       "output_type": "stream",
       "stream": "stdout",
       "text": [
        "\r",
        " 69 2139M   69 1495M    0     0  8862k      0  0:04:07  0:02:52  0:01:15 8007k"
       ]
      },
      {
       "output_type": "stream",
       "stream": "stdout",
       "text": [
        "\r",
        " 70 2139M   70 1504M    0     0  8864k      0  0:04:07  0:02:53  0:01:14 7957k"
       ]
      },
      {
       "output_type": "stream",
       "stream": "stdout",
       "text": [
        "\r",
        " 70 2139M   70 1511M    0     0  8858k      0  0:04:07  0:02:54  0:01:13 8070k"
       ]
      },
      {
       "output_type": "stream",
       "stream": "stdout",
       "text": [
        "\r",
        " 71 2139M   71 1520M    0     0  8858k      0  0:04:07  0:02:55  0:01:12 8226k"
       ]
      },
      {
       "output_type": "stream",
       "stream": "stdout",
       "text": [
        "\r",
        " 71 2139M   71 1529M    0     0  8861k      0  0:04:07  0:02:56  0:01:11 8701k"
       ]
      },
      {
       "output_type": "stream",
       "stream": "stdout",
       "text": [
        "\r",
        " 71 2139M   71 1539M    0     0  8869k      0  0:04:06  0:02:57  0:01:09 9103k"
       ]
      },
      {
       "output_type": "stream",
       "stream": "stdout",
       "text": [
        "\r",
        " 72 2139M   72 1546M    0     0  8858k      0  0:04:07  0:02:58  0:01:09 8657k"
       ]
      },
      {
       "output_type": "stream",
       "stream": "stdout",
       "text": [
        "\r",
        " 72 2139M   72 1554M    0     0  8855k      0  0:04:07  0:02:59  0:01:08 8756k"
       ]
      },
      {
       "output_type": "stream",
       "stream": "stdout",
       "text": [
        "\r",
        " 72 2139M   72 1560M    0     0  8840k      0  0:04:07  0:03:00  0:01:07 8210k"
       ]
      },
      {
       "output_type": "stream",
       "stream": "stdout",
       "text": [
        "\r",
        " 73 2139M   73 1568M    0     0  8833k      0  0:04:07  0:03:01  0:01:06 7846k"
       ]
      },
      {
       "output_type": "stream",
       "stream": "stdout",
       "text": [
        "\r",
        " 73 2139M   73 1577M    0     0  8837k      0  0:04:07  0:03:02  0:01:05 7703k"
       ]
      },
      {
       "output_type": "stream",
       "stream": "stdout",
       "text": [
        "\r",
        " 74 2139M   74 1584M    0     0  8830k      0  0:04:08  0:03:03  0:01:05 7827k"
       ]
      },
      {
       "output_type": "stream",
       "stream": "stdout",
       "text": [
        "\r",
        " 74 2139M   74 1592M    0     0  8824k      0  0:04:08  0:03:04  0:01:04 7708k"
       ]
      },
      {
       "output_type": "stream",
       "stream": "stdout",
       "text": [
        "\r",
        " 74 2139M   74 1600M    0     0  8823k      0  0:04:08  0:03:05  0:01:03 8223k"
       ]
      },
      {
       "output_type": "stream",
       "stream": "stdout",
       "text": [
        "\r",
        " 75 2139M   75 1609M    0     0  8826k      0  0:04:08  0:03:06  0:01:02 8563k"
       ]
      },
      {
       "output_type": "stream",
       "stream": "stdout",
       "text": [
        "\r",
        " 75 2139M   75 1619M    0     0  8833k      0  0:04:07  0:03:07  0:01:00 8685k"
       ]
      },
      {
       "output_type": "stream",
       "stream": "stdout",
       "text": [
        "\r",
        " 76 2139M   76 1629M    0     0  8838k      0  0:04:07  0:03:08  0:00:59 9124k"
       ]
      },
      {
       "output_type": "stream",
       "stream": "stdout",
       "text": [
        "\r",
        " 76 2139M   76 1639M    0     0  8848k      0  0:04:07  0:03:09  0:00:58 9746k"
       ]
      },
      {
       "output_type": "stream",
       "stream": "stdout",
       "text": [
        "\r",
        " 77 2139M   77 1650M    0     0  8856k      0  0:04:07  0:03:10  0:00:57  9.8M"
       ]
      },
      {
       "output_type": "stream",
       "stream": "stdout",
       "text": [
        "\r",
        " 77 2139M   77 1660M    0     0  8867k      0  0:04:07  0:03:11  0:00:56 10.1M"
       ]
      },
      {
       "output_type": "stream",
       "stream": "stdout",
       "text": [
        "\r",
        " 78 2139M   78 1671M    0     0  8876k      0  0:04:06  0:03:12  0:00:54 10.2M"
       ]
      },
      {
       "output_type": "stream",
       "stream": "stdout",
       "text": [
        "\r",
        " 78 2139M   78 1678M    0     0  8870k      0  0:04:06  0:03:13  0:00:53  9.8M"
       ]
      },
      {
       "output_type": "stream",
       "stream": "stdout",
       "text": [
        "\r",
        " 78 2139M   78 1685M    0     0  8862k      0  0:04:07  0:03:14  0:00:53 9370k"
       ]
      },
      {
       "output_type": "stream",
       "stream": "stdout",
       "text": [
        "\r",
        " 79 2139M   79 1694M    0     0  8863k      0  0:04:07  0:03:15  0:00:52 9125k"
       ]
      },
      {
       "output_type": "stream",
       "stream": "stdout",
       "text": [
        "\r",
        " 79 2139M   79 1703M    0     0  8865k      0  0:04:07  0:03:16  0:00:51 8806k"
       ]
      },
      {
       "output_type": "stream",
       "stream": "stdout",
       "text": [
        "\r",
        " 80 2139M   80 1713M    0     0  8871k      0  0:04:06  0:03:17  0:00:49 8669k"
       ]
      },
      {
       "output_type": "stream",
       "stream": "stdout",
       "text": [
        "\r",
        " 80 2139M   80 1722M    0     0  8876k      0  0:04:06  0:03:18  0:00:48 9108k"
       ]
      },
      {
       "output_type": "stream",
       "stream": "stdout",
       "text": [
        "\r",
        " 81 2139M   81 1733M    0     0  8885k      0  0:04:06  0:03:19  0:00:47 9787k"
       ]
      },
      {
       "output_type": "stream",
       "stream": "stdout",
       "text": [
        "\r",
        " 81 2139M   81 1743M    0     0  8893k      0  0:04:06  0:03:20  0:00:46  9.8M"
       ]
      },
      {
       "output_type": "stream",
       "stream": "stdout",
       "text": [
        "\r",
        " 81 2139M   81 1753M    0     0  8899k      0  0:04:06  0:03:21  0:00:45 10.0M"
       ]
      },
      {
       "output_type": "stream",
       "stream": "stdout",
       "text": [
        "\r",
        " 82 2139M   82 1764M    0     0  8910k      0  0:04:05  0:03:22  0:00:43 10.2M"
       ]
      },
      {
       "output_type": "stream",
       "stream": "stdout",
       "text": [
        "\r",
        " 82 2139M   82 1771M    0     0  8903k      0  0:04:06  0:03:23  0:00:43 9981k"
       ]
      },
      {
       "output_type": "stream",
       "stream": "stdout",
       "text": [
        "\r",
        " 83 2139M   83 1780M    0     0  8904k      0  0:04:06  0:03:24  0:00:42 9666k"
       ]
      },
      {
       "output_type": "stream",
       "stream": "stdout",
       "text": [
        "\r",
        " 83 2139M   83 1787M    0     0  8895k      0  0:04:06  0:03:25  0:00:41 9000k"
       ]
      },
      {
       "output_type": "stream",
       "stream": "stdout",
       "text": [
        "\r",
        " 83 2139M   83 1796M    0     0  8896k      0  0:04:06  0:03:26  0:00:40 8760k"
       ]
      },
      {
       "output_type": "stream",
       "stream": "stdout",
       "text": [
        "\r",
        " 84 2139M   84 1806M    0     0  8901k      0  0:04:06  0:03:27  0:00:39 8540k"
       ]
      },
      {
       "output_type": "stream",
       "stream": "stdout",
       "text": [
        "\r",
        " 84 2139M   84 1815M    0     0  8907k      0  0:04:05  0:03:28  0:00:37 9064k"
       ]
      },
      {
       "output_type": "stream",
       "stream": "stdout",
       "text": [
        "\r",
        " 85 2139M   85 1826M    0     0  8915k      0  0:04:05  0:03:29  0:00:36 9355k"
       ]
      },
      {
       "output_type": "stream",
       "stream": "stdout",
       "text": [
        "\r",
        " 85 2139M   85 1836M    0     0  8923k      0  0:04:05  0:03:30  0:00:35  9.8M"
       ]
      },
      {
       "output_type": "stream",
       "stream": "stdout",
       "text": [
        "\r",
        " 86 2139M   86 1847M    0     0  8931k      0  0:04:05  0:03:31  0:00:34 10.1M"
       ]
      },
      {
       "output_type": "stream",
       "stream": "stdout",
       "text": [
        "\r",
        " 86 2139M   86 1853M    0     0  8922k      0  0:04:05  0:03:32  0:00:33 9793k"
       ]
      },
      {
       "output_type": "stream",
       "stream": "stdout",
       "text": [
        "\r",
        " 86 2139M   86 1860M    0     0  8912k      0  0:04:05  0:03:33  0:00:32 9146k"
       ]
      },
      {
       "output_type": "stream",
       "stream": "stdout",
       "text": [
        "\r",
        " 87 2139M   87 1867M    0     0  8903k      0  0:04:06  0:03:34  0:00:32 8405k"
       ]
      },
      {
       "output_type": "stream",
       "stream": "stdout",
       "text": [
        "\r",
        " 87 2139M   87 1875M    0     0  8900k      0  0:04:06  0:03:35  0:00:31 7927k"
       ]
      },
      {
       "output_type": "stream",
       "stream": "stdout",
       "text": [
        "\r",
        " 88 2139M   88 1884M    0     0  8901k      0  0:04:06  0:03:36  0:00:30 7647k"
       ]
      },
      {
       "output_type": "stream",
       "stream": "stdout",
       "text": [
        "\r",
        " 88 2139M   88 1893M    0     0  8904k      0  0:04:05  0:03:37  0:00:28 8161k"
       ]
      },
      {
       "output_type": "stream",
       "stream": "stdout",
       "text": [
        "\r",
        " 88 2139M   88 1903M    0     0  8908k      0  0:04:05  0:03:38  0:00:27 8729k"
       ]
      },
      {
       "output_type": "stream",
       "stream": "stdout",
       "text": [
        "\r",
        " 89 2139M   89 1912M    0     0  8911k      0  0:04:05  0:03:39  0:00:26 9272k"
       ]
      },
      {
       "output_type": "stream",
       "stream": "stdout",
       "text": [
        "\r",
        " 89 2139M   89 1922M    0     0  8918k      0  0:04:05  0:03:40  0:00:25 9697k"
       ]
      },
      {
       "output_type": "stream",
       "stream": "stdout",
       "text": [
        "\r",
        " 90 2139M   90 1932M    0     0  8924k      0  0:04:05  0:03:41  0:00:24 9926k"
       ]
      },
      {
       "output_type": "stream",
       "stream": "stdout",
       "text": [
        "\r",
        " 90 2139M   90 1943M    0     0  8932k      0  0:04:05  0:03:42  0:00:23  9.8M"
       ]
      },
      {
       "output_type": "stream",
       "stream": "stdout",
       "text": [
        "\r",
        " 91 2139M   91 1951M    0     0  8931k      0  0:04:05  0:03:43  0:00:22 9933k"
       ]
      },
      {
       "output_type": "stream",
       "stream": "stdout",
       "text": [
        "\r",
        " 91 2139M   91 1959M    0     0  8928k      0  0:04:05  0:03:44  0:00:21 9670k"
       ]
      },
      {
       "output_type": "stream",
       "stream": "stdout",
       "text": [
        "\r",
        " 92 2139M   92 1968M    0     0  8929k      0  0:04:05  0:03:45  0:00:20 9440k"
       ]
      },
      {
       "output_type": "stream",
       "stream": "stdout",
       "text": [
        "\r",
        " 92 2139M   92 1978M    0     0  8934k      0  0:04:05  0:03:46  0:00:19 9373k"
       ]
      },
      {
       "output_type": "stream",
       "stream": "stdout",
       "text": [
        "\r",
        " 92 2139M   92 1987M    0     0  8936k      0  0:04:05  0:03:47  0:00:18 9134k"
       ]
      },
      {
       "output_type": "stream",
       "stream": "stdout",
       "text": [
        "\r",
        " 93 2139M   93 1998M    0     0  8944k      0  0:04:04  0:03:48  0:00:16 9541k"
       ]
      },
      {
       "output_type": "stream",
       "stream": "stdout",
       "text": [
        "\r",
        " 93 2139M   93 2008M    0     0  8950k      0  0:04:04  0:03:49  0:00:15 9910k"
       ]
      },
      {
       "output_type": "stream",
       "stream": "stdout",
       "text": [
        "\r",
        " 94 2139M   94 2016M    0     0  8949k      0  0:04:04  0:03:50  0:00:14 9844k"
       ]
      },
      {
       "output_type": "stream",
       "stream": "stdout",
       "text": [
        "\r",
        " 94 2139M   94 2024M    0     0  8946k      0  0:04:04  0:03:51  0:00:13 9470k"
       ]
      },
      {
       "output_type": "stream",
       "stream": "stdout",
       "text": [
        "\r",
        " 95 2139M   95 2034M    0     0  8948k      0  0:04:04  0:03:52  0:00:12 9480k"
       ]
      },
      {
       "output_type": "stream",
       "stream": "stdout",
       "text": [
        "\r",
        " 95 2139M   95 2043M    0     0  8950k      0  0:04:04  0:03:53  0:00:11 9195k"
       ]
      },
      {
       "output_type": "stream",
       "stream": "stdout",
       "text": [
        "\r",
        " 95 2139M   95 2052M    0     0  8954k      0  0:04:04  0:03:54  0:00:10 9157k"
       ]
      },
      {
       "output_type": "stream",
       "stream": "stdout",
       "text": [
        "\r",
        " 96 2139M   96 2062M    0     0  8958k      0  0:04:04  0:03:55  0:00:09 9365k"
       ]
      },
      {
       "output_type": "stream",
       "stream": "stdout",
       "text": [
        "\r",
        " 96 2139M   96 2072M    0     0  8963k      0  0:04:04  0:03:56  0:00:08 9778k"
       ]
      },
      {
       "output_type": "stream",
       "stream": "stdout",
       "text": [
        "\r",
        " 97 2139M   97 2082M    0     0  8966k      0  0:04:04  0:03:57  0:00:07 9813k"
       ]
      },
      {
       "output_type": "stream",
       "stream": "stdout",
       "text": [
        "\r",
        " 97 2139M   97 2092M    0     0  8972k      0  0:04:04  0:03:58  0:00:06  9.8M"
       ]
      },
      {
       "output_type": "stream",
       "stream": "stdout",
       "text": [
        "\r",
        " 98 2139M   98 2099M    0     0  8968k      0  0:04:04  0:03:59  0:00:05 9624k"
       ]
      },
      {
       "output_type": "stream",
       "stream": "stdout",
       "text": [
        "\r",
        " 98 2139M   98 2108M    0     0  8966k      0  0:04:04  0:04:00  0:00:04 9330k"
       ]
      },
      {
       "output_type": "stream",
       "stream": "stdout",
       "text": [
        "\r",
        " 98 2139M   98 2116M    0     0  8966k      0  0:04:04  0:04:01  0:00:03 9082k"
       ]
      },
      {
       "output_type": "stream",
       "stream": "stdout",
       "text": [
        "\r",
        " 99 2139M   99 2126M    0     0  8970k      0  0:04:04  0:04:02  0:00:02 9133k"
       ]
      },
      {
       "output_type": "stream",
       "stream": "stdout",
       "text": [
        "\r",
        " 99 2139M   99 2136M    0     0  8975k      0  0:04:04  0:04:03  0:00:01 9084k"
       ]
      },
      {
       "output_type": "stream",
       "stream": "stdout",
       "text": [
        "\r",
        "100 2139M  100 2139M    0     0  8976k      0  0:04:04  0:04:04 --:--:-- 9426k\r\n"
       ]
      }
     ],
     "prompt_number": 13
    },
    {
     "cell_type": "code",
     "collapsed": false,
     "input": [
      "!curl -O http://eagle.fish.washington.edu/whale/fish546/module3_assembly/LC/Roberts_20100712_CE_F3_QV.qual"
     ],
     "language": "python",
     "metadata": {},
     "outputs": [
      {
       "output_type": "stream",
       "stream": "stdout",
       "text": [
        "  % Total    % Received % Xferd  Average Speed   Time    Time     Time  Current\r\n",
        "                                 Dload  Upload   Total   Spent    Left  Speed\r\n",
        "\r",
        "  0     0    0     0    0     0      0      0 --:--:-- --:--:-- --:--:--     0"
       ]
      },
      {
       "output_type": "stream",
       "stream": "stdout",
       "text": [
        "\r",
        "  0 4654M    0 2432k    0     0  4681k      0  0:16:58 --:--:--  0:16:58 4677k"
       ]
      },
      {
       "output_type": "stream",
       "stream": "stdout",
       "text": [
        "\r",
        "  0 4654M    0 9120k    0     0  6002k      0  0:13:14  0:00:01  0:13:13 6000k"
       ]
      },
      {
       "output_type": "stream",
       "stream": "stdout",
       "text": [
        "\r",
        "  0 4654M    0 16.4M    0     0  5142k      0  0:15:26  0:00:03  0:15:23 5143k"
       ]
      },
      {
       "output_type": "stream",
       "stream": "stdout",
       "text": [
        "\r",
        "  0 4654M    0 16.5M    0     0  4620k      0  0:17:11  0:00:03  0:17:08 4620k"
       ]
      },
      {
       "output_type": "stream",
       "stream": "stdout",
       "text": [
        "\r",
        "  0 4654M    0 22.1M    0     0  5011k      0  0:15:51  0:00:04  0:15:47 5010k"
       ]
      },
      {
       "output_type": "stream",
       "stream": "stdout",
       "text": [
        "\r",
        "  0 4654M    0 29.5M    0     0  5487k      0  0:14:28  0:00:05  0:14:23 5570k"
       ]
      },
      {
       "output_type": "stream",
       "stream": "stdout",
       "text": [
        "\r",
        "  0 4654M    0 38.0M    0     0  5969k      0  0:13:18  0:00:06  0:13:12 5959k"
       ]
      },
      {
       "output_type": "stream",
       "stream": "stdout",
       "text": [
        "\r",
        "  1 4654M    1 47.3M    0     0  6450k      0  0:12:18  0:00:07  0:12:11 7462k"
       ]
      },
      {
       "output_type": "stream",
       "stream": "stdout",
       "text": [
        "\r",
        "  1 4654M    1 56.6M    0     0  6805k      0  0:11:40  0:00:08  0:11:32 8463k"
       ]
      },
      {
       "output_type": "stream",
       "stream": "stdout",
       "text": [
        "\r",
        "  1 4654M    1 66.4M    0     0  7147k      0  0:11:06  0:00:09  0:10:57 9077k"
       ]
      },
      {
       "output_type": "stream",
       "stream": "stdout",
       "text": [
        "\r",
        "  1 4654M    1 72.7M    0     0  7085k      0  0:11:12  0:00:10  0:11:02 8849k"
       ]
      },
      {
       "output_type": "stream",
       "stream": "stdout",
       "text": [
        "\r",
        "  1 4654M    1 79.7M    0     0  7091k      0  0:11:12  0:00:11  0:11:01 8555k"
       ]
      },
      {
       "output_type": "stream",
       "stream": "stdout",
       "text": [
        "\r",
        "  1 4654M    1 88.4M    0     0  7238k      0  0:10:58  0:00:12  0:10:46 8423k"
       ]
      },
      {
       "output_type": "stream",
       "stream": "stdout",
       "text": [
        "\r",
        "  2 4654M    2 96.7M    0     0  7329k      0  0:10:50  0:00:13  0:10:37 8222k"
       ]
      },
      {
       "output_type": "stream",
       "stream": "stdout",
       "text": [
        "\r",
        "  2 4654M    2  105M    0     0  7437k      0  0:10:40  0:00:14  0:10:26 7990k"
       ]
      },
      {
       "output_type": "stream",
       "stream": "stdout",
       "text": [
        "\r",
        "  2 4654M    2  115M    0     0  7613k      0  0:10:26  0:00:15  0:10:11 8725k"
       ]
      },
      {
       "output_type": "stream",
       "stream": "stdout",
       "text": [
        "\r",
        "  2 4654M    2  125M    0     0  7804k      0  0:10:10  0:00:16  0:09:54 9447k"
       ]
      },
      {
       "output_type": "stream",
       "stream": "stdout",
       "text": [
        "\r",
        "  2 4654M    2  135M    0     0  7916k      0  0:10:02  0:00:17  0:09:45 9613k"
       ]
      },
      {
       "output_type": "stream",
       "stream": "stdout",
       "text": [
        "\r",
        "  3 4654M    3  144M    0     0  7630k      0  0:10:24  0:00:19  0:10:05 8328k"
       ]
      },
      {
       "output_type": "stream",
       "stream": "stdout",
       "text": [
        "\r",
        "  3 4654M    3  145M    0     0  7609k      0  0:10:26  0:00:19  0:10:07 8110k"
       ]
      },
      {
       "output_type": "stream",
       "stream": "stdout",
       "text": [
        "\r",
        "  3 4654M    3  152M    0     0  7626k      0  0:10:25  0:00:20  0:10:05 7665k"
       ]
      },
      {
       "output_type": "stream",
       "stream": "stdout",
       "text": [
        "\r",
        "  3 4654M    3  161M    0     0  7695k      0  0:10:19  0:00:21  0:09:58 7334k"
       ]
      },
      {
       "output_type": "stream",
       "stream": "stdout",
       "text": [
        "\r",
        "  3 4654M    3  171M    0     0  7786k      0  0:10:12  0:00:22  0:09:50 7332k"
       ]
      },
      {
       "output_type": "stream",
       "stream": "stdout",
       "text": [
        "\r",
        "  3 4654M    3  180M    0     0  7848k      0  0:10:07  0:00:23  0:09:44 8864k"
       ]
      },
      {
       "output_type": "stream",
       "stream": "stdout",
       "text": [
        "\r",
        "  4 4654M    4  189M    0     0  7911k      0  0:10:02  0:00:24  0:09:38 9091k"
       ]
      },
      {
       "output_type": "stream",
       "stream": "stdout",
       "text": [
        "\r",
        "  4 4654M    4  198M    0     0  7978k      0  0:09:57  0:00:25  0:09:32 9424k"
       ]
      },
      {
       "output_type": "stream",
       "stream": "stdout",
       "text": [
        "\r",
        "  4 4654M    4  208M    0     0  8032k      0  0:09:53  0:00:26  0:09:27 9484k"
       ]
      },
      {
       "output_type": "stream",
       "stream": "stdout",
       "text": [
        "\r",
        "  4 4654M    4  215M    0     0  8011k      0  0:09:54  0:00:27  0:09:27 9026k"
       ]
      },
      {
       "output_type": "stream",
       "stream": "stdout",
       "text": [
        "\r",
        "  4 4654M    4  224M    0     0  8050k      0  0:09:52  0:00:28  0:09:24 8996k"
       ]
      },
      {
       "output_type": "stream",
       "stream": "stdout",
       "text": [
        "\r",
        "  5 4654M    5  233M    0     0  8099k      0  0:09:48  0:00:29  0:09:19 9018k"
       ]
      },
      {
       "output_type": "stream",
       "stream": "stdout",
       "text": [
        "\r",
        "  5 4654M    5  243M    0     0  8175k      0  0:09:43  0:00:30  0:09:13 9183k"
       ]
      },
      {
       "output_type": "stream",
       "stream": "stdout",
       "text": [
        "\r",
        "  5 4654M    5  252M    0     0  8207k      0  0:09:40  0:00:31  0:09:09 9134k"
       ]
      },
      {
       "output_type": "stream",
       "stream": "stdout",
       "text": [
        "\r",
        "  5 4654M    5  262M    0     0  8258k      0  0:09:37  0:00:32  0:09:05 9616k"
       ]
      },
      {
       "output_type": "stream",
       "stream": "stdout",
       "text": [
        "\r",
        "  5 4654M    5  270M    0     0  8266k      0  0:09:36  0:00:33  0:09:03 9502k"
       ]
      },
      {
       "output_type": "stream",
       "stream": "stdout",
       "text": [
        "\r",
        "  5 4654M    5  278M    0     0  8251k      0  0:09:37  0:00:34  0:09:03 9149k"
       ]
      },
      {
       "output_type": "stream",
       "stream": "stdout",
       "text": [
        "\r",
        "  6 4654M    6  285M    0     0  8239k      0  0:09:38  0:00:35  0:09:03 8632k"
       ]
      },
      {
       "output_type": "stream",
       "stream": "stdout",
       "text": [
        "\r",
        "  6 4654M    6  295M    0     0  8275k      0  0:09:35  0:00:36  0:08:59 8701k"
       ]
      },
      {
       "output_type": "stream",
       "stream": "stdout",
       "text": [
        "\r",
        "  6 4654M    6  303M    0     0  8278k      0  0:09:35  0:00:37  0:08:58 8403k"
       ]
      },
      {
       "output_type": "stream",
       "stream": "stdout",
       "text": [
        "\r",
        "  6 4654M    6  308M    0     0  8211k      0  0:09:40  0:00:38  0:09:02 7842k"
       ]
      },
      {
       "output_type": "stream",
       "stream": "stdout",
       "text": [
        "\r",
        "  6 4654M    6  316M    0     0  8208k      0  0:09:40  0:00:39  0:09:01 7912k"
       ]
      },
      {
       "output_type": "stream",
       "stream": "stdout",
       "text": [
        "\r",
        "  6 4654M    6  325M    0     0  8230k      0  0:09:39  0:00:40  0:08:59 8164k"
       ]
      },
      {
       "output_type": "stream",
       "stream": "stdout",
       "text": [
        "\r",
        "  7 4654M    7  335M    0     0  8268k      0  0:09:36  0:00:41  0:08:55 8222k"
       ]
      },
      {
       "output_type": "stream",
       "stream": "stdout",
       "text": [
        "\r",
        "  7 4654M    7  344M    0     0  8302k      0  0:09:34  0:00:42  0:08:52 8488k"
       ]
      },
      {
       "output_type": "stream",
       "stream": "stdout",
       "text": [
        "\r",
        "  7 4654M    7  353M    0     0  8326k      0  0:09:32  0:00:43  0:08:49 9208k"
       ]
      },
      {
       "output_type": "stream",
       "stream": "stdout",
       "text": [
        "\r",
        "  7 4654M    7  364M    0     0  8373k"
       ]
      },
      {
       "output_type": "stream",
       "stream": "stdout",
       "text": [
        "      0  0:09:29  0:00:44  0:08:45 9672k"
       ]
      },
      {
       "output_type": "stream",
       "stream": "stdout",
       "text": [
        "\r",
        "  8 4654M    8  373M    0     0  8396k      0  0:09:27  0:00:45  0:08:42 9742k"
       ]
      },
      {
       "output_type": "stream",
       "stream": "stdout",
       "text": [
        "\r",
        "  8 4654M    8  382M    0     0  8421k      0  0:09:26  0:00:46  0:08:40 9685k"
       ]
      },
      {
       "output_type": "stream",
       "stream": "stdout",
       "text": [
        "\r",
        "  8 4654M    8  390M    0     0  8416k      0  0:09:26  0:00:47  0:08:39 9379k"
       ]
      },
      {
       "output_type": "stream",
       "stream": "stdout",
       "text": [
        "\r",
        "  8 4654M    8  400M    0     0  8444k      0  0:09:24  0:00:48  0:08:36 9477k"
       ]
      },
      {
       "output_type": "stream",
       "stream": "stdout",
       "text": [
        "\r",
        "  8 4654M    8  409M    0     0  8460k      0  0:09:23  0:00:49  0:08:34 9241k"
       ]
      },
      {
       "output_type": "stream",
       "stream": "stdout",
       "text": [
        "\r",
        "  8 4654M    8  416M    0     0  8443k      0  0:09:24  0:00:50  0:08:34 8870k"
       ]
      },
      {
       "output_type": "stream",
       "stream": "stdout",
       "text": [
        "\r",
        "  9 4654M    9  424M    0     0  8432k      0  0:09:25  0:00:51  0:08:34 8538k"
       ]
      },
      {
       "output_type": "stream",
       "stream": "stdout",
       "text": [
        "\r",
        "  9 4654M    9  433M    0     0  8449k      0  0:09:24  0:00:52  0:08:32 8765k"
       ]
      },
      {
       "output_type": "stream",
       "stream": "stdout",
       "text": [
        "\r",
        "  9 4654M    9  442M    0     0  8473k      0  0:09:22  0:00:53  0:08:29 8753k"
       ]
      },
      {
       "output_type": "stream",
       "stream": "stdout",
       "text": [
        "\r",
        "  9 4654M    9  452M    0     0  8507k      0  0:09:20  0:00:54  0:08:26 8976k"
       ]
      },
      {
       "output_type": "stream",
       "stream": "stdout",
       "text": [
        "\r",
        "  9 4654M    9  462M    0     0  8528k      0  0:09:18  0:00:55  0:08:23 9386k"
       ]
      },
      {
       "output_type": "stream",
       "stream": "stdout",
       "text": [
        "\r",
        " 10 4654M   10  471M    0     0  8551k      0  0:09:17  0:00:56  0:08:21 9773k"
       ]
      },
      {
       "output_type": "stream",
       "stream": "stdout",
       "text": [
        "\r",
        " 10 4654M   10  477M    0     0  8502k      0  0:09:20  0:00:57  0:08:23 9061k"
       ]
      },
      {
       "output_type": "stream",
       "stream": "stdout",
       "text": [
        "\r",
        " 10 4654M   10  483M    0     0  8467k      0  0:09:22  0:00:58  0:08:24 8404k"
       ]
      },
      {
       "output_type": "stream",
       "stream": "stdout",
       "text": [
        "\r",
        " 10 4654M   10  491M    0     0  8448k      0  0:09:24  0:00:59  0:08:25 7793k"
       ]
      },
      {
       "output_type": "stream",
       "stream": "stdout",
       "text": [
        "\r",
        " 10 4654M   10  500M    0     0  84"
       ]
      },
      {
       "output_type": "stream",
       "stream": "stdout",
       "text": [
        "64k      0  0:09:23  0:01:00  0:08:23 7754k"
       ]
      },
      {
       "output_type": "stream",
       "stream": "stdout",
       "text": [
        "\r",
        " 10 4654M   10  509M    0     0  8481k      0  0:09:21  0:01:01  0:08:20 7699k"
       ]
      },
      {
       "output_type": "stream",
       "stream": "stdout",
       "text": [
        "\r",
        " 11 4654M   11  519M    0     0  8506k      0  0:09:20  0:01:02  0:08:18 8549k"
       ]
      },
      {
       "output_type": "stream",
       "stream": "stdout",
       "text": [
        "\r",
        " 11 4654M   11  529M    0     0  8538k      0  0:09:18  0:01:03  0:08:15 9360k"
       ]
      },
      {
       "output_type": "stream",
       "stream": "stdout",
       "text": [
        "\r",
        " 11 4654M   11  539M    0     0  8568k      0  0:09:16  0:01:04  0:08:12  9.7M"
       ]
      },
      {
       "output_type": "stream",
       "stream": "stdout",
       "text": [
        "\r",
        " 11 4654M   11  548M    0     0  8573k      0  0:09:15  0:01:05  0:08:10 9897k"
       ]
      },
      {
       "output_type": "stream",
       "stream": "stdout",
       "text": [
        "\r",
        " 11 4654M   11  556M    0     0  8572k      0  0:09:16  0:01:06  0:08:10 9688k"
       ]
      },
      {
       "output_type": "stream",
       "stream": "stdout",
       "text": [
        "\r",
        " 12 4654M   12  567M    0     0  8603k      0  0:09:14  0:01:07  0:08:07 9815k"
       ]
      },
      {
       "output_type": "stream",
       "stream": "stdout",
       "text": [
        "\r",
        " 12 4654M   12  576M    0     0  8610k      0  0:09:13  0:01:08  0:08:05 9529k"
       ]
      },
      {
       "output_type": "stream",
       "stream": "stdout",
       "text": [
        "\r",
        " 12 4654M   12  582M    0     0  8580k      0  0:09:15  0:01:09  0:08:06 8726k"
       ]
      },
      {
       "output_type": "stream",
       "stream": "stdout",
       "text": [
        "\r",
        " 12 4654M   12  589M    0     0  8565k      0  0:09:16  0:01:10  0:08:06 8452k"
       ]
      },
      {
       "output_type": "stream",
       "stream": "stdout",
       "text": [
        "\r",
        " 12 4654M   12  598M    0     0  8571k      0  0:09:16  0:01:11  0:08:05 8560k"
       ]
      },
      {
       "output_type": "stream",
       "stream": "stdout",
       "text": [
        "\r",
        " 13 4654M   13  607M    0     0  8580k      0  0:09:15  0:01:12  0:08:03 8271k"
       ]
      },
      {
       "output_type": "stream",
       "stream": "stdout",
       "text": [
        "\r",
        " 13 4654M   13  616M    0     0  8585k      0  0:09:15  0:01:13  0:08:02 8241k"
       ]
      },
      {
       "output_type": "stream",
       "stream": "stdout",
       "text": [
        "\r",
        " 13 4654M   13  622M    0     0  8549k      0  0:09:17  0:01:14  0:08:03 8125k"
       ]
      },
      {
       "output_type": "stream",
       "stream": "stdout",
       "text": [
        "\r",
        " 13 4654M   13  629M    0     0  8536k      0  0:09:18  0:01:15  0:08:03 8126k"
       ]
      },
      {
       "output_type": "stream",
       "stream": "stdout",
       "text": [
        "\r",
        " 13 4654M   13  638M    0     0  8538k      0  0:09:18  0:01:16  0:08:02 8060k"
       ]
      },
      {
       "output_type": "stream",
       "stream": "stdout",
       "text": [
        "\r",
        " 13 4654M   13  647M    0     0  8551k      0  0:09:17  0:01:17  0:08:00 8132k"
       ]
      },
      {
       "output_type": "stream",
       "stream": "stdout",
       "text": [
        "\r",
        " 14 4654M   14  657M    0     0  8575k      0  0:09:15  0:01:18  0:07:57 8433k"
       ]
      },
      {
       "output_type": "stream",
       "stream": "stdout",
       "text": [
        "\r",
        " 14 4654M   14  667M    0     0  8595k      0  0:09:14  0:01:19  0:07:55 9279k"
       ]
      },
      {
       "output_type": "stream",
       "stream": "stdout",
       "text": [
        "\r",
        " 14 4654M   14  676M    0     0  8605k      0  0:09:13  0:01:20  0:07:53 9660k"
       ]
      },
      {
       "output_type": "stream",
       "stream": "stdout",
       "text": [
        "\r",
        " 14 4654M   14  686M    0     0  8620k      0  0:09:12  0:01:21  0:07:51 9872k"
       ]
      },
      {
       "output_type": "stream",
       "stream": "stdout",
       "text": [
        "\r",
        " 14 4654M   14  696M    0     0  8643k      0  0:09:11  0:01:22  0:07:49  9.8M"
       ]
      },
      {
       "output_type": "stream",
       "stream": "stdout",
       "text": [
        "\r",
        " 15 4654M   15  702M    0     0  8616k      0  0:09:13  0:01:23  0:07:50 9264k"
       ]
      },
      {
       "output_type": "stream",
       "stream": "stdout",
       "text": [
        "\r",
        " 15 4654M   15  710M    0     0  8607k      0  0:09:13  0:01:24  0:07:49 8802k"
       ]
      },
      {
       "output_type": "stream",
       "stream": "stdout",
       "text": [
        "\r",
        " 15 4654M   15  719M    0     0  8613k      0  0:09:13  0:01:25  0:07:48 8735k"
       ]
      },
      {
       "output_type": "stream",
       "stream": "stdout",
       "text": [
        "\r",
        " 15 4654M   15  726M    0     0  8601k      0  0:09:14  0:01:26  0:07:48 8296k"
       ]
      },
      {
       "output_type": "stream",
       "stream": "stdout",
       "text": [
        "\r",
        " 15 4654M   15  736M    0     0  8613k      0  0:09:13  0:01:27  0:07:46 8113k"
       ]
      },
      {
       "output_type": "stream",
       "stream": "stdout",
       "text": [
        "\r",
        " 16 4654M   16  746M    0     0  8637k      0  0:09:11  0:01:28  0:07:43 8982k"
       ]
      },
      {
       "output_type": "stream",
       "stream": "stdout",
       "text": [
        "\r",
        " 16 4654M   16  757M    0     0  8662k      0  0:09:10  0:01:29  0:07:41 9592k"
       ]
      },
      {
       "output_type": "stream",
       "stream": "stdout",
       "text": [
        "\r",
        " 16 4654M   16  767M    0     0  8678k      0  0:09:09  0:01:30  0:07:39 9789k"
       ]
      },
      {
       "output_type": "stream",
       "stream": "stdout",
       "text": [
        "\r",
        " 16 4654M   16  777M    0     0  8695k      0  0:09:08  0:01:31  0:07:37 10.0M"
       ]
      },
      {
       "output_type": "stream",
       "stream": "stdout",
       "text": [
        "\r",
        " 16 4654M   16  785M    0     0  8688k      0  0:09:08  0:01:32  0:07:36  9.7M"
       ]
      },
      {
       "output_type": "stream",
       "stream": "stdout",
       "text": [
        "\r",
        " 17 4654M   17  793M    0     0  8683k      0  0:09:08  0:01:33  0:07:35 9492k"
       ]
      },
      {
       "output_type": "stream",
       "stream": "stdout",
       "text": [
        "\r",
        " 17 4654M   17  801M    0     0  8685k      0  0:09:08  0:01:34  0:07:34 9086k"
       ]
      },
      {
       "output_type": "stream",
       "stream": "stdout",
       "text": [
        "\r",
        " 17 4654M   17  811M    0     0  8696k      0  0:09:08  0:01:35  0:07:33 9014k"
       ]
      },
      {
       "output_type": "stream",
       "stream": "stdout",
       "text": [
        "\r",
        " 17 4654M   17  820M    0     0  8709k      0  0:09:07  0:01:36  0:07:31 8966k"
       ]
      },
      {
       "output_type": "stream",
       "stream": "stdout",
       "text": [
        "\r",
        " 17 4654M   17  830M    0     0  8720k      0  0:09:06  0:01:37  0:07:29 9303k"
       ]
      },
      {
       "output_type": "stream",
       "stream": "stdout",
       "text": [
        "\r",
        " 18 4654M   18  840M    0     0  8734k      0  0:09:05  0:01:38  0:07:27 9694k"
       ]
      },
      {
       "output_type": "stream",
       "stream": "stdout",
       "text": [
        "\r",
        " 18 4654M   18  847M    0     0  8720k      0  0:09:06  0:01:39  0:07:27 9395k"
       ]
      },
      {
       "output_type": "stream",
       "stream": "stdout",
       "text": [
        "\r",
        " 18 4654M   18  855M    0     0  8717k      0  0:09:06  0:01:40  0:07:26 9122k"
       ]
      },
      {
       "output_type": "stream",
       "stream": "stdout",
       "text": [
        "\r",
        " 18 4654M   18  860M    0     0  8659k      0  0:09:10  0:01:41  0:07:29 7725k"
       ]
      },
      {
       "output_type": "stream",
       "stream": "stdout",
       "text": [
        "\r",
        " 18 4654M   18  865M    0     0  8645k      0  0:09:11  0:01:42  0:07:29 7192k"
       ]
      },
      {
       "output_type": "stream",
       "stream": "stdout",
       "text": [
        "\r",
        " 18 4654M   18  873M    0     0  8644k      0  0:09:11  0:01:43  0:07:28 6848k"
       ]
      },
      {
       "output_type": "stream",
       "stream": "stdout",
       "text": [
        "\r",
        " 18 4654M   18  883M    0     0  8656k      0  0:09:10  0:01:44  0:07:26 7382k"
       ]
      },
      {
       "output_type": "stream",
       "stream": "stdout",
       "text": [
        "\r",
        " 19 4654M   19  892M    0     0  8663k      0  0:09:10  0:01:45  0:07:25 7575k"
       ]
      },
      {
       "output_type": "stream",
       "stream": "stdout",
       "text": [
        "\r",
        " 19 4654M   19  901M    0     0  8670k      0  0:09:09  0:01:46  0:07:23 8903k"
       ]
      },
      {
       "output_type": "stream",
       "stream": "stdout",
       "text": [
        "\r",
        " 19 4654M   19  911M    0     0  8682k      0  0:09:08  0:01:47  0:07:21 9438k"
       ]
      },
      {
       "output_type": "stream",
       "stream": "stdout",
       "text": [
        "\r",
        " 19 4654M   19  921M    0     0  8697k      0  0:09:08  0:01:48  0:07:20 9802k"
       ]
      },
      {
       "output_type": "stream",
       "stream": "stdout",
       "text": [
        "\r",
        " 19 4654M   19  928M    0     0  8681k      0  0:09:09  0:01:49  0:07:20 9206k"
       ]
      },
      {
       "output_type": "stream",
       "stream": "stdout",
       "text": [
        "\r",
        " 20 4654M   20  936M    0     0  8679k      0  0:09:09  0:01:50  0:07:19 9024k"
       ]
      },
      {
       "output_type": "stream",
       "stream": "stdout",
       "text": [
        "\r",
        " 20 4654M   20  946M    0     0  8686k      0  0:09:08  0:01:51  0:07:17 9036k"
       ]
      },
      {
       "output_type": "stream",
       "stream": "stdout",
       "text": [
        "\r",
        " 20 4654M   20  955M    0     0  8699k      0  0:09:07  0:01:52  0:07:15 9055k"
       ]
      },
      {
       "output_type": "stream",
       "stream": "stdout",
       "text": [
        "\r",
        " 20 4654M   20  965M    0     0  8710k      0  0:09:07  0:01:53  0:07:14 8978k"
       ]
      },
      {
       "output_type": "stream",
       "stream": "stdout",
       "text": [
        "\r",
        " 20 4654M   20  974M    0     0  8717k      0  0:09:06  0:01:54  0:07:12 9505k"
       ]
      },
      {
       "output_type": "stream",
       "stream": "stdout",
       "text": [
        "\r",
        " 21 4654M   21  985M    0     0  8737k      0  0:09:05  0:01:55  0:07:10  9.7M"
       ]
      },
      {
       "output_type": "stream",
       "stream": "stdout",
       "text": [
        "\r",
        " 21 4654M   21  992M    0     0  8721k      0  0:09:06  0:01:56  0:07:10 9509k"
       ]
      },
      {
       "output_type": "stream",
       "stream": "stdout",
       "text": [
        "\r",
        " 21 4654M   21  996M    0     0  8675k      0  0:09:09  0:01:57  0:07:12 8154k"
       ]
      },
      {
       "output_type": "stream",
       "stream": "stdout",
       "text": [
        "\r",
        " 21 4654M   21 1005M    0     0  8685k      0  0:09:08  0:01:58  0:07:10 8129k"
       ]
      },
      {
       "output_type": "stream",
       "stream": "stdout",
       "text": [
        "\r",
        " 21 4654M   21 1013M    0     0  8685k      0  0:09:08  0:01:59  0:07:09 7947k"
       ]
      },
      {
       "output_type": "stream",
       "stream": "stdout",
       "text": [
        "\r",
        " 21 4654M   21 1023M    0     0  8694k      0  0:09:08  0:02:00  0:07:08 7708k"
       ]
      },
      {
       "output_type": "stream",
       "stream": "stdout",
       "text": [
        "\r",
        " 22 4654M   22 1032M    0     0  8699k      0  0:09:07  0:02:01  0:07:06 8191k"
       ]
      },
      {
       "output_type": "stream",
       "stream": "stdout",
       "text": [
        "\r",
        " 22 4654M   22 1042M    0     0  8712k      0  0:09:07  0:02:02  0:07:05 9576k"
       ]
      },
      {
       "output_type": "stream",
       "stream": "stdout",
       "text": [
        "\r",
        " 22 4654M   22 1051M    0     0  8715k      0  0:09:06  0:02:03  0:07:03 9418k"
       ]
      },
      {
       "output_type": "stream",
       "stream": "stdout",
       "text": [
        "\r",
        " 22 4654M   22 1061M    0     0  8727k      0  0:09:06  0:02:04  0:07:02 9732k"
       ]
      },
      {
       "output_type": "stream",
       "stream": "stdout",
       "text": [
        "\r",
        " 23 4654M   23 1070M    0     0  8736k      0  0:09:05  0:02:05  0:07:00 9742k"
       ]
      },
      {
       "output_type": "stream",
       "stream": "stdout",
       "text": [
        "\r",
        " 23 4654M   23 1081M    0     0  8749k      0  0:09:04  0:02:06  0:06:58 9962k"
       ]
      },
      {
       "output_type": "stream",
       "stream": "stdout",
       "text": [
        "\r",
        " 23 4654M   23 1089M    0     0  8746k      0  0:09:04  0:02:07  0:06:57 9578k"
       ]
      },
      {
       "output_type": "stream",
       "stream": "stdout",
       "text": [
        "\r",
        " 23 4654M   23 1099M    0     0  8756k      0  0:09:04  0:02:08  0:06:56 9785k"
       ]
      },
      {
       "output_type": "stream",
       "stream": "stdout",
       "text": [
        "\r",
        " 23 4654M   23 1105M    0     0  8740k      0  0:09:05  0:02:09  0:06:56 9060k"
       ]
      },
      {
       "output_type": "stream",
       "stream": "stdout",
       "text": [
        "\r",
        " 23 4654M   23 1113M    0     0  8739k      0  0:09:05  0:02:10  0:06:55 8810k"
       ]
      },
      {
       "output_type": "stream",
       "stream": "stdout",
       "text": [
        "\r",
        " 24 4654M   24 1122M    0     0  8740k      0  0:09:05  0:02:11  0:06:54 8508k"
       ]
      },
      {
       "output_type": "stream",
       "stream": "stdout",
       "text": [
        "\r",
        " 24 4654M   24 1131M    0     0  8740k      0  0:09:05  0:02:12  0:06:53 8608k"
       ]
      },
      {
       "output_type": "stream",
       "stream": "stdout",
       "text": [
        "\r",
        " 24 4654M   24 1140M    0     0  8745k      0  0:09:05  0:02:13  0:06:52 8443k"
       ]
      },
      {
       "output_type": "stream",
       "stream": "stdout",
       "text": [
        "\r",
        " 24 4654M   24 1150M    0     0  8754k      0  0:09:04  0:02:14  0:06:50 9116k"
       ]
      },
      {
       "output_type": "stream",
       "stream": "stdout",
       "text": [
        "\r",
        " 24 4654M   24 1160M    0     0  8767k      0  0:09:03  0:02:15  0:06:48 9514k"
       ]
      },
      {
       "output_type": "stream",
       "stream": "stdout",
       "text": [
        "\r",
        " 25 4654M   25 1169M    0     0  8773k      0  0:09:03  0:02:16  0:06:47 9649k"
       ]
      },
      {
       "output_type": "stream",
       "stream": "stdout",
       "text": [
        "\r",
        " 25 4654M   25 1179M    0     0  8786k      0  0:09:02  0:02:17  0:06:45 9984k"
       ]
      },
      {
       "output_type": "stream",
       "stream": "stdout",
       "text": [
        "\r",
        " 25 4654M   25 1189M    0     0  8796k      0  0:09:01  0:02:18  0:06:43  9.9M"
       ]
      },
      {
       "output_type": "stream",
       "stream": "stdout",
       "text": [
        "\r",
        " 25 4654M   25 1200M    0     0  8808k      0  0:09:01  0:02:19  0:06:42 10.0M"
       ]
      },
      {
       "output_type": "stream",
       "stream": "stdout",
       "text": [
        "\r",
        " 26 4654M   26 1210M    0     0  8821k      0  0:09:00  0:02:20  0:06:40 10.0M"
       ]
      },
      {
       "output_type": "stream",
       "stream": "stdout",
       "text": [
        "\r",
        " 26 4654M   26 1217M    0     0  8809k      0  0:09:01  0:02:21  0:06:40 9780k"
       ]
      },
      {
       "output_type": "stream",
       "stream": "stdout",
       "text": [
        "\r",
        " 26 4654M   26 1225M    0     0  8806k      0  0:09:01  0:02:22  0:06:39 9354k"
       ]
      },
      {
       "output_type": "stream",
       "stream": "stdout",
       "text": [
        "\r",
        " 26 4654M   26 1234M    0     0  8805k      0  0:09:01  0:02:23  0:06:38 9043k"
       ]
      },
      {
       "output_type": "stream",
       "stream": "stdout",
       "text": [
        "\r",
        " 26 4654M   26 1243M    0     0  8812k      0  0:09:00  0:02:24  0:06:36 8911k"
       ]
      },
      {
       "output_type": "stream",
       "stream": "stdout",
       "text": [
        "\r",
        " 26 4654M   26 1251M    0     0  8788k      0  0:09:02  0:02:25  0:06:37 7896k"
       ]
      },
      {
       "output_type": "stream",
       "stream": "stdout",
       "text": [
        "\r",
        " 26 4654M   26 1251M    0     0  8728k      0  0:09:06  0:02:26  0:06:40 6570k"
       ]
      },
      {
       "output_type": "stream",
       "stream": "stdout",
       "text": [
        "\r",
        " 26 4654M   26 1252M    0     0  8695k      0  0:09:08  0:02:27  0:06:41 5552k"
       ]
      },
      {
       "output_type": "stream",
       "stream": "stdout",
       "text": [
        "\r",
        " 27 4654M   27 1257M    0     0  8646k      0  0:09:11  0:02:28  0:06:43 4409k"
       ]
      },
      {
       "output_type": "stream",
       "stream": "stdout",
       "text": [
        "\r",
        " 27 4654M   27 1259M    0     0  8627k      0  0:09:12  0:02:29  0:06:43 3294k"
       ]
      },
      {
       "output_type": "stream",
       "stream": "stdout",
       "text": [
        "\r",
        " 27 4654M   27 1267M    0     0  8621k      0  0:09:12  0:02:30  0:06:42 3425k"
       ]
      },
      {
       "output_type": "stream",
       "stream": "stdout",
       "text": [
        "\r",
        " 27 4654M   27 1276M    0     0  8625k      0  0:09:12  0:02:31  0:06:41 5401k"
       ]
      },
      {
       "output_type": "stream",
       "stream": "stdout",
       "text": [
        "\r",
        " 27 4654M   27 1285M    0     0  8628k      0  0:09:12  0:02:32  0:06:40 6639k"
       ]
      },
      {
       "output_type": "stream",
       "stream": "stdout",
       "text": [
        "\r",
        " 27 4654M   27 1295M    0     0  8639k      0  0:09:11  0:02:33  0:06:38 8417k"
       ]
      },
      {
       "output_type": "stream",
       "stream": "stdout",
       "text": [
        "\r",
        " 28 4654M   28 1304M    0     0  8647k      0  0:09:11  0:02:34  0:06:37 9238k"
       ]
      },
      {
       "output_type": "stream",
       "stream": "stdout",
       "text": [
        "\r",
        " 28 4654M   28 1314M    0     0  8657k      0  0:09:10  0:02:35  0:06:35 9758k"
       ]
      },
      {
       "output_type": "stream",
       "stream": "stdout",
       "text": [
        "\r",
        " 28 4654M   28 1324M    0     0  8668k      0  0:09:09  0:02:36  0:06:33 9955k"
       ]
      },
      {
       "output_type": "stream",
       "stream": "stdout",
       "text": [
        "\r",
        " 28 4654M   28 1333M    0     0  8668k      0  0:09:09  0:02:37  0:06:32 9888k"
       ]
      },
      {
       "output_type": "stream",
       "stream": "stdout",
       "text": [
        "\r",
        " 28 4654M   28 1339M    0     0  8654k      0  0:09:10  0:02:38  0:06:32 9116k"
       ]
      },
      {
       "output_type": "stream",
       "stream": "stdout",
       "text": [
        "\r",
        " 28 4654M   28 1347M    0     0  8653k      0  0:09:10  0:02:39  0:06:31 8828k"
       ]
      },
      {
       "output_type": "stream",
       "stream": "stdout",
       "text": [
        "\r",
        " 29 4654M   29 1357M    0     0  8657k      0  0:09:10  0:02:40  0:06:30 8660k"
       ]
      },
      {
       "output_type": "stream",
       "stream": "stdout",
       "text": [
        "\r",
        " 29 4654M   29 1365M    0     0  8659k      0  0:09:10  0:02:41  0:06:29 8375k"
       ]
      },
      {
       "output_type": "stream",
       "stream": "stdout",
       "text": [
        "\r",
        " 29 4654M   29 1375M    0     0  8669k      0  0:09:09  0:02:42  0:06:27 8699k"
       ]
      },
      {
       "output_type": "stream",
       "stream": "stdout",
       "text": [
        "\r",
        " 29 4654M   29 1385M    0     0  8673k      0  0:09:09  0:02:43  0:06:26 9286k"
       ]
      },
      {
       "output_type": "stream",
       "stream": "stdout",
       "text": [
        "\r",
        " 29 4654M   29 1395M    0     0  8685k      0  0:09:08  0:02:44  0:06:24 9718k"
       ]
      },
      {
       "output_type": "stream",
       "stream": "stdout",
       "text": [
        "\r",
        " 30 4654M   30 1400M    0     0  8666k      0  0:09:09  0:02:45  0:06:24 8946k"
       ]
      },
      {
       "output_type": "stream",
       "stream": "stdout",
       "text": [
        "\r",
        " 30 4654M   30 1408M    0     0  8661k      0  0:09:10  0:02:46  0:06:24 8734k"
       ]
      },
      {
       "output_type": "stream",
       "stream": "stdout",
       "text": [
        "\r",
        " 30 4654M   30 1415M    0     0  8652k      0  0:09:10  0:02:47  0:06:23 8099k"
       ]
      },
      {
       "output_type": "stream",
       "stream": "stdout",
       "text": [
        "\r",
        " 30 4654M   30 1423M    0     0  8651k      0  0:09:10  0:02:48  0:06:22 7918k"
       ]
      },
      {
       "output_type": "stream",
       "stream": "stdout",
       "text": [
        "\r",
        " 30 4654M   30 1432M    0     0  8652k      0  0:09:10  0:02:49  0:06:21 7572k"
       ]
      },
      {
       "output_type": "stream",
       "stream": "stdout",
       "text": [
        "\r",
        " 30 4654M   30 1442M    0     0  8660k      0  0:09:10  0:02:50  0:06:20 8470k"
       ]
      },
      {
       "output_type": "stream",
       "stream": "stdout",
       "text": [
        "\r",
        " 31 4654M   31 1452M    0     0  8670k      0  0:09:09  0:02:51  0:06:18 8980k"
       ]
      },
      {
       "output_type": "stream",
       "stream": "stdout",
       "text": [
        "\r",
        " 31 4654M   31 1462M    0     0  8683k      0  0:09:08  0:02:52  0:06:16 9713k"
       ]
      },
      {
       "output_type": "stream",
       "stream": "stdout",
       "text": [
        "\r",
        " 31 4654M   31 1472M    0     0  8689k      0  0:09:08  0:02:53  0:06:15 9958k"
       ]
      },
      {
       "output_type": "stream",
       "stream": "stdout",
       "text": [
        "\r",
        " 31 4654M   31 1481M    0     0  8694k      0  0:09:08  0:02:54  0:06:14  9.8M"
       ]
      },
      {
       "output_type": "stream",
       "stream": "stdout",
       "text": [
        "\r",
        " 32 4654M   32 1492M    0     0  8705k      0  0:09:07  0:02:55  0:06:12 10.0M"
       ]
      },
      {
       "output_type": "stream",
       "stream": "stdout",
       "text": [
        "\r",
        " 32 4654M   32 1502M    0     0  8714k      0  0:09:06  0:02:56  0:06:10  9.9M"
       ]
      },
      {
       "output_type": "stream",
       "stream": "stdout",
       "text": [
        "\r",
        " 32 4654M   32 1509M    0     0  8704k      0  0:09:07  0:02:57  0:06:10 9451k"
       ]
      },
      {
       "output_type": "stream",
       "stream": "stdout",
       "text": [
        "\r",
        " 32 4654M   32 1517M    0     0  8701k      0  0:09:07  0:02:58  0:06:09 9135k"
       ]
      },
      {
       "output_type": "stream",
       "stream": "stdout",
       "text": [
        "\r",
        " 32 4654M   32 1525M    0     0  8703k      0  0:09:07  0:02:59  0:06:08 9028k"
       ]
      },
      {
       "output_type": "stream",
       "stream": "stdout",
       "text": [
        "\r",
        " 32 4654M   32 1534M    0     0  8701k      0  0:09:07  0:03:00  0:06:07 8567k"
       ]
      },
      {
       "output_type": "stream",
       "stream": "stdout",
       "text": [
        "\r",
        " 33 4654M   33 1543M    0     0  8705k      0  0:09:07  0:03:01  0:06:06 8396k"
       ]
      },
      {
       "output_type": "stream",
       "stream": "stdout",
       "text": [
        "\r",
        " 33 4654M   33 1552M    0     0  8712k      0  0:09:07  0:03:02  0:06:05 8993k"
       ]
      },
      {
       "output_type": "stream",
       "stream": "stdout",
       "text": [
        "\r",
        " 33 4654M   33 1561M    0     0  8715k      0  0:09:06  0:03:03  0:06:03 9213k"
       ]
      },
      {
       "output_type": "stream",
       "stream": "stdout",
       "text": [
        "\r",
        " 33 4654M   33 1571M    0     0  8719k      0  0:09:06  0:03:04  0:06:02 9293k"
       ]
      },
      {
       "output_type": "stream",
       "stream": "stdout",
       "text": [
        "\r",
        " 33 4654M   33 1581M    0     0  8729k      0  0:09:06  0:03:05  0:06:01 9713k"
       ]
      },
      {
       "output_type": "stream",
       "stream": "stdout",
       "text": [
        "\r",
        " 34 4654M   34 1591M    0     0  8739k      0  0:09:05  0:03:06  0:05:59 9948k"
       ]
      },
      {
       "output_type": "stream",
       "stream": "stdout",
       "text": [
        "\r",
        " 34 4654M   34 1600M    0     0  8740k      0  0:09:05  0:03:07  0:05:58 9749k"
       ]
      },
      {
       "output_type": "stream",
       "stream": "stdout",
       "text": [
        "\r",
        " 34 4654M   34 1610M    0     0  8748k      0  0:09:04  0:03:08  0:05:56 9953k"
       ]
      },
      {
       "output_type": "stream",
       "stream": "stdout",
       "text": [
        "\r",
        " 34 4654M   34 1619M    0     0  8751k      0  0:09:04  0:03:09  0:05:55 9922k"
       ]
      },
      {
       "output_type": "stream",
       "stream": "stdout",
       "text": [
        "\r",
        " 34 4654M   34 1626M    0     0  8744k      0  0:09:05  0:03:10  0:05:55 9314k"
       ]
      },
      {
       "output_type": "stream",
       "stream": "stdout",
       "text": [
        "\r",
        " 35 4654M   35 1634M    0     0  8737k      0  0:09:05  0:03:11  0:05:54 8667k"
       ]
      },
      {
       "output_type": "stream",
       "stream": "stdout",
       "text": [
        "\r",
        " 35 4654M   35 1643M    0     0  8739k      0  0:09:05  0:03:12  0:05:53 8719k"
       ]
      },
      {
       "output_type": "stream",
       "stream": "stdout",
       "text": [
        "\r",
        " 35 4654M   35 1652M    0     0  8743k      0  0:09:05  0:03:13  0:05:52 8564k"
       ]
      },
      {
       "output_type": "stream",
       "stream": "stdout",
       "text": [
        "\r",
        " 35 4654M   35 1661M    0     0  8746k      0  0:09:04  0:03:14  0:05:50 8570k"
       ]
      },
      {
       "output_type": "stream",
       "stream": "stdout",
       "text": [
        "\r",
        " 35 4654M   35 1671M    0     0  8752k      0  0:09:04  0:03:15  0:05:49 9069k"
       ]
      },
      {
       "output_type": "stream",
       "stream": "stdout",
       "text": [
        "\r",
        " 36 4654M   36 1679M    0     0  8753k      0  0:09:04  0:03:16  0:05:48 9376k"
       ]
      },
      {
       "output_type": "stream",
       "stream": "stdout",
       "text": [
        "\r",
        " 36 4654M   36 1688M    0     0  8756k      0  0:09:04  0:03:17  0:05:47 9384k"
       ]
      },
      {
       "output_type": "stream",
       "stream": "stdout",
       "text": [
        "\r",
        " 36 4654M   36 1698M    0     0  8762k      0  0:09:03  0:03:18  0:05:45 9489k"
       ]
      },
      {
       "output_type": "stream",
       "stream": "stdout",
       "text": [
        "\r",
        " 36 4654M   36 1708M    0     0  8768k      0  0:09:03  0:03:19  0:05:44 9614k"
       ]
      },
      {
       "output_type": "stream",
       "stream": "stdout",
       "text": [
        "\r",
        " 36 4654M   36 1715M    0     0  8762k      0  0:09:03  0:03:20  0:05:43 9120k"
       ]
      },
      {
       "output_type": "stream",
       "stream": "stdout",
       "text": [
        "\r",
        " 37 4654M   37 1723M    0     0  8756k      0  0:09:04  0:03:21  0:05:43 8886k"
       ]
      },
      {
       "output_type": "stream",
       "stream": "stdout",
       "text": [
        "\r",
        " 37 4654M   37 1731M    0     0  8756k      0  0:09:04  0:03:22  0:05:42 8785k"
       ]
      },
      {
       "output_type": "stream",
       "stream": "stdout",
       "text": [
        "\r",
        " 37 4654M   37 1740M    0  "
       ]
      },
      {
       "output_type": "stream",
       "stream": "stdout",
       "text": [
        "   0  8758k      0  0:09:04  0:03:23  0:05:41 8583k"
       ]
      },
      {
       "output_type": "stream",
       "stream": "stdout",
       "text": [
        "\r",
        " 37 4654M   37 1749M    0     0  8758k      0  0:09:04  0:03:24  0:05:40 8357k"
       ]
      },
      {
       "output_type": "stream",
       "stream": "stdout",
       "text": [
        "\r",
        " 37 4654M   37 1757M    0     0  8736k      0  0:09:05  0:03:25  0:05:40 7783k"
       ]
      },
      {
       "output_type": "stream",
       "stream": "stdout",
       "text": [
        "\r",
        " 37 4654M   37 1760M    0     0  8729k      0  0:09:06  0:03:26  0:05:40 7621k"
       ]
      },
      {
       "output_type": "stream",
       "stream": "stdout",
       "text": [
        "\r",
        " 38 4654M   38 1768M    0     0  8728k      0  0:09:06  0:03:27  0:05:39 7580k"
       ]
      },
      {
       "output_type": "stream",
       "stream": "stdout",
       "text": [
        "\r",
        " 38 4654M   38 1777M    0     0  8729k      0  0:09:06  0:03:28  0:05:38 7568k"
       ]
      },
      {
       "output_type": "stream",
       "stream": "stdout",
       "text": [
        "\r",
        " 38 4654M   38 1787M    0     0  8734k      0  0:09:05  0:03:29  0:05:36 7751k"
       ]
      },
      {
       "output_type": "stream",
       "stream": "stdout",
       "text": [
        "\r",
        " 38 4654M   38 1796M    0     0  8740k      0  0:09:05  0:03:30  0:05:35 8956k"
       ]
      },
      {
       "output_type": "stream",
       "stream": "stdout",
       "text": [
        "\r",
        " 38 4654M   38 1805M    0     0  8741k      0  0:09:05  0:03:31  0:05:34 9242k"
       ]
      },
      {
       "output_type": "stream",
       "stream": "stdout",
       "text": [
        "\r",
        " 38 4654M   38 1815M    0     0  8746k      0  0:09:04  0:03:32  0:05:32 9471k"
       ]
      },
      {
       "output_type": "stream",
       "stream": "stdout",
       "text": [
        "\r",
        " 39 4654M   39 1824M    0     0  8748k      0  0:09:04  0:03:33  0:05:31 9555k"
       ]
      },
      {
       "output_type": "stream",
       "stream": "stdout",
       "text": [
        "\r",
        " 39 4654M   39 1833M    0     0  8752k      0  0:09:04  0:03:34  0:05:30 9512k"
       ]
      },
      {
       "output_type": "stream",
       "stream": "stdout",
       "text": [
        "\r",
        " 39 4654M   39 1843M    0     0  8759k      0  0:09:04  0:03:35  0:05:29 9552k"
       ]
      },
      {
       "output_type": "stream",
       "stream": "stdout",
       "text": [
        "\r",
        " 39 4654M   39 1853M    0     0  8768k      0  0:09:03  0:03:36  0:05:27 9895k"
       ]
      },
      {
       "output_type": "stream",
       "stream": "stdout",
       "text": [
        "\r",
        " 40 4654M   40 1864M    0     0  8775k      0  0:09:03  0:03:37  0:05:26  9.7M"
       ]
      },
      {
       "output_type": "stream",
       "stream": "stdout",
       "text": [
        "\r",
        " 40 4654M   40 1873M    0     0  8778k      0  0:09:02  0:03:38  0:05:24  9.7M"
       ]
      },
      {
       "output_type": "stream",
       "stream": "stdout",
       "text": [
        "\r",
        " 40 4654M   40 1883M    0     0  8787k      0  0:09:02  0:03:39  0:05:23 10.0M"
       ]
      },
      {
       "output_type": "stream",
       "stream": "stdout",
       "text": [
        "\r",
        " 40 4654M   40 1893M    0     0  8793k      0  0:09:02  0:03:40  0:05:22 10.0M"
       ]
      },
      {
       "output_type": "stream",
       "stream": "stdout",
       "text": [
        "\r",
        " 40 4654M   40 1904M    0     0  8802k      0  0:09:01  0:03:41  0:05:20 10.0M"
       ]
      },
      {
       "output_type": "stream",
       "stream": "stdout",
       "text": [
        "\r",
        " 41 4654M   41 1914M    0     0  8808k      0  0:09:01  0:03:42  0:05:19 10.0M"
       ]
      },
      {
       "output_type": "stream",
       "stream": "stdout",
       "text": [
        "\r",
        " 41 4654M   41 1924M    0     0  8815k      0  0:09:00  0:03:43  0:05:17 10.2M"
       ]
      },
      {
       "output_type": "stream",
       "stream": "stdout",
       "text": [
        "\r",
        " 41 4654M   41 1935M    0     0  8825k      0  0:09:00  0:03:44  0:05:16 10.2M"
       ]
      },
      {
       "output_type": "stream",
       "stream": "stdout",
       "text": [
        "\r",
        " 41 4654M   41 1943M    0     0  8824k      0  0:09:00  0:03:45  0:05:15  9.9M"
       ]
      },
      {
       "output_type": "stream",
       "stream": "stdout",
       "text": [
        "\r",
        " 41 4654M   41 1951M    0     0  8819k      0  0:09:00  0:03:46  0:05:14 9594k"
       ]
      },
      {
       "output_type": "stream",
       "stream": "stdout",
       "text": [
        "\r",
        " 42 4654M   42 1959M    0     0  8819k      0  0:09:00  0:03:47  0:05:13 9320k"
       ]
      },
      {
       "output_type": "stream",
       "stream": "stdout",
       "text": [
        "\r",
        " 42 4654M   42 1968M    0     0  8820k      0  0:09:00  0:03:48  0:05:12 9039k"
       ]
      },
      {
       "output_type": "stream",
       "stream": "stdout",
       "text": [
        "\r",
        " 42 4654M   42 1976M    0     0  8820k      0  0:09:00  0:03:49  0:05:11 8589k"
       ]
      },
      {
       "output_type": "stream",
       "stream": "stdout",
       "text": [
        "\r",
        " 42 4654M   42 1986M    0     0  8824k      0  0:09:00  0:03:50  0:05:10 8816k"
       ]
      },
      {
       "output_type": "stream",
       "stream": "stdout",
       "text": [
        "\r",
        " 42 4654M   42 1992M    0     0  8789k      0  0:09:02  0:03:52  0:05:10 7599k"
       ]
      },
      {
       "output_type": "stream",
       "stream": "stdout",
       "text": [
        "\r",
        " 42 4654M   42 1994M    0     0  8782k      0  0:09:02  0:03:52  0:05:10 7095k"
       ]
      },
      {
       "output_type": "stream",
       "stream": "stdout",
       "text": [
        "\r",
        " 43 4654M   43 2002M    0     0  8781k      0  0:09:02  0:03:53  0:05:09 6993k"
       ]
      },
      {
       "output_type": "stream",
       "stream": "stdout",
       "text": [
        "\r",
        " 43 4654M   43 2009M    0     0  8753k      0  0:09:04  0:03:55  0:05:09 6005k"
       ]
      },
      {
       "output_type": "stream",
       "stream": "stdout",
       "text": [
        "\r",
        " 43 4654M   43 2012M    0     0  8747k      0  0:09:04  0:03:55  0:05:09 5247k"
       ]
      },
      {
       "output_type": "stream",
       "stream": "stdout",
       "text": [
        "\r",
        " 43 4654M   43 2019M    0     0  8742k      0  0:09:05  0:03:56  0:05:09 6223k"
       ]
      },
      {
       "output_type": "stream",
       "stream": "stdout",
       "text": [
        "\r",
        " 43 4654M   43 2027M    0     0  8742k      0  0:09:05  0:03:57  0:05:08 6883k"
       ]
      },
      {
       "output_type": "stream",
       "stream": "stdout",
       "text": [
        "\r",
        " 43 4654M   43 2037M    0     0  8746k      0  0:09:04  0:03:58  0:05:06 7090k"
       ]
      },
      {
       "output_type": "stream",
       "stream": "stdout",
       "text": [
        "\r",
        " 43 4654M   43 2047M    0     0  8751k      0  0:09:04  0:03:59  0:05:05 8629k"
       ]
      },
      {
       "output_type": "stream",
       "stream": "stdout",
       "text": [
        "\r",
        " 44 4654M   44 2056M    0     0  8756k      0  0:09:04  0:04:00  0:05:04 9150k"
       ]
      },
      {
       "output_type": "stream",
       "stream": "stdout",
       "text": [
        "\r",
        " 44 4654M   44 2062M    0     0  8723k      0  0:09:06  0:04:02  0:05:04 7910k"
       ]
      },
      {
       "output_type": "stream",
       "stream": "stdout",
       "text": [
        "\r",
        " 44 4654M   44 2064M    0     0  8717k      0  0:09:06  0:04:02  0:05:04 7543k"
       ]
      },
      {
       "output_type": "stream",
       "stream": "stdout",
       "text": [
        "\r",
        " 44 4654M   44 2072M    0     0  8716k      0  0:09:06  0:04:03  0:05:03 7307k"
       ]
      },
      {
       "output_type": "stream",
       "stream": "stdout",
       "text": [
        "\r",
        " 44 4654M   44 2081M    0     0  8715k      0  0:09:06  0:04:04  0:05:02 6981k"
       ]
      },
      {
       "output_type": "stream",
       "stream": "stdout",
       "text": [
        "\r",
        " 44 4654M   44 2090M    0     0  8720k      0  0:09:06  0:04:05  0:05:01 6976k"
       ]
      },
      {
       "output_type": "stream",
       "stream": "stdout",
       "text": [
        "\r",
        " 45 4654M   45 2100M    0     0  8726k      0  0:09:06  0:04:06  0:05:00 8890k"
       ]
      },
      {
       "output_type": "stream",
       "stream": "stdout",
       "text": [
        "\r",
        " 45 4654M   45 2111M    0     0  8734k      0  0:09:05  0:04:07  0:04:58 9515k"
       ]
      },
      {
       "output_type": "stream",
       "stream": "stdout",
       "text": [
        "\r",
        " 45 4654M   45 2121M    0     0  8740k      0  0:09:05  0:04:08  0:04:57 9879k"
       ]
      },
      {
       "output_type": "stream",
       "stream": "stdout",
       "text": [
        "\r",
        " 45 4654M   45 2131M    0     0  8746k      0  0:09:04  0:04:09  0:04:55 10.0M"
       ]
      },
      {
       "output_type": "stream",
       "stream": "stdout",
       "text": [
        "\r",
        " 46 4654M   46 2141M    0     0  8753k      0  0:09:04  0:04:10  0:04:54 10.1M"
       ]
      },
      {
       "output_type": "stream",
       "stream": "stdout",
       "text": [
        "\r",
        " 46 4654M   46 2149M    0     0  8750k      0  0:09:04  0:04:11  0:04:53 9960k"
       ]
      },
      {
       "output_type": "stream",
       "stream": "stdout",
       "text": [
        "\r",
        " 46 4654M   46 2154M    0     0  8738k      0  0:09:05  0:04:12  0:04:53 8932k"
       ]
      },
      {
       "output_type": "stream",
       "stream": "stdout",
       "text": [
        "\r",
        " 46 4654M   46 2161M    0     0  8732k      0  0:09:05  0:04:13  0:04:52 8352k"
       ]
      },
      {
       "output_type": "stream",
       "stream": "stdout",
       "text": [
        "\r",
        " 46 4654M   46 2170M    0     0  8732k      0  0:09:05  0:04:14  0:04:51 8010k"
       ]
      },
      {
       "output_type": "stream",
       "stream": "stdout",
       "text": [
        "\r",
        " 46 4654M   46 2179M    0     0  8735k      0  0:09:05  0:04:15  0:04:50 7799k"
       ]
      },
      {
       "output_type": "stream",
       "stream": "stdout",
       "text": [
        "\r",
        " 47 4654M   47 2189M    0     0  8739k      0  0:09:05  0:04:16  0:04:49 8188k"
       ]
      },
      {
       "output_type": "stream",
       "stream": "stdout",
       "text": [
        "\r",
        " 47 4654M   47 2199M    0     0  8746k      0  0:09:04  0:04:17  0:04:47 9185k"
       ]
      },
      {
       "output_type": "stream",
       "stream": "stdout",
       "text": [
        "\r",
        " 47 4654M   47 2209M    0     0  8752k      0  0:09:04  0:04:18  0:04:46 9775k"
       ]
      },
      {
       "output_type": "stream",
       "stream": "stdout",
       "text": [
        "\r",
        " 47 4654M   47 2220M    0     0  8759k      0  0:09:04  0:04:19  0:04:45  9.9M"
       ]
      },
      {
       "output_type": "stream",
       "stream": "stdout",
       "text": [
        "\r",
        " 47 4654M   47 2230M    0     0  8766k      0  0:09:03  0:04:20  0:04:43 10.1M"
       ]
      },
      {
       "output_type": "stream",
       "stream": "stdout",
       "text": [
        "\r",
        " 48 4654M   48 2238M    0     0  8764k      0  0:09:03  0:04:21  0:04:42  9.7M"
       ]
      },
      {
       "output_type": "stream",
       "stream": "stdout",
       "text": [
        "\r",
        " 48 4654M   48 2246M    0     0  8761k      0  0:09:04  0:04:22  0:04:42 9506k"
       ]
      },
      {
       "output_type": "stream",
       "stream": "stdout",
       "text": [
        "\r",
        " 48 4654M   48 2254M    0     0  8762k      0  0:09:03  0:04:23  0:04:40 9268k"
       ]
      },
      {
       "output_type": "stream",
       "stream": "stdout",
       "text": [
        "\r",
        " 48 4654M   48 2263M    0     0  8763k      0  0:09:03  0:04:24  0:04:39 8968k"
       ]
      },
      {
       "output_type": "stream",
       "stream": "stdout",
       "text": [
        "\r",
        " 48 4654M   48 2273M    0     0  8765k      0  0:09:03  0:04:25  0:04:38 8681k"
       ]
      },
      {
       "output_type": "stream",
       "stream": "stdout",
       "text": [
        "\r",
        " 48 4654M   48 2280M    0     0  8760k      0  0:09:04  0:04:26  0:04:38 8546k"
       ]
      },
      {
       "output_type": "stream",
       "stream": "stdout",
       "text": [
        "\r",
        " 49 4654M   49 2289M    0     0  8763k      0  0:09:03  0:04:27  0:04:36 8892k"
       ]
      },
      {
       "output_type": "stream",
       "stream": "stdout",
       "text": [
        "\r",
        " 49 4654M   49 2299M    0     0  8769k      0  0:09:03  0:04:28  0:04:35 9142k"
       ]
      },
      {
       "output_type": "stream",
       "stream": "stdout",
       "text": [
        "\r",
        " 49 4654M   49 2308M    0     0  8772k      0  0:09:03  0:04:29  0:04:34 9244k"
       ]
      },
      {
       "output_type": "stream",
       "stream": "stdout",
       "text": [
        "\r",
        " 49 4654M   49 2318M    0     0  8777k      0  0:09:02  0:04:30  0:04:32 9468k"
       ]
      },
      {
       "output_type": "stream",
       "stream": "stdout",
       "text": [
        "\r",
        " 50 4654M   50 2329M    0     0  8784k      0  0:09:02  0:04:31  0:04:31  9.8M"
       ]
      },
      {
       "output_type": "stream",
       "stream": "stdout",
       "text": [
        "\r",
        " 50 4654M   50 2339M    0     0  8791k      0  0:09:02  0:04:32  0:04:30 10.0M"
       ]
      },
      {
       "output_type": "stream",
       "stream": "stdout",
       "text": [
        "\r",
        " 50 4654M   50 2350M    0     0  8798k      0  0:09:01  0:04:33  0:04:28 10.1M"
       ]
      },
      {
       "output_type": "stream",
       "stream": "stdout",
       "text": [
        "\r",
        " 50 4654M   50 2360M    0     0  8805k      0  0:09:01  0:04:34  0:04:27 10.3M"
       ]
      },
      {
       "output_type": "stream",
       "stream": "stdout",
       "text": [
        "\r",
        " 50 4654M   50 2370M    0     0  8810k      0  0:09:01  0:04:35  0:04:26 10.3M"
       ]
      },
      {
       "output_type": "stream",
       "stream": "stdout",
       "text": [
        "\r",
        " 51 4654M   51 2377M    0     0  8805k      0  0:09:01  0:04:36  0:04:25 9934k"
       ]
      },
      {
       "output_type": "stream",
       "stream": "stdout",
       "text": [
        "\r",
        " 51 4654M   51 2385M    0     0  8803k      0  0:09:01  0:04:37  0:04:24 9503k"
       ]
      },
      {
       "output_type": "stream",
       "stream": "stdout",
       "text": [
        "\r",
        " 51 4654M   51 2394M    0     0  8804k      0  0:09:01  0:04:38  0:04:23 9140k"
       ]
      },
      {
       "output_type": "stream",
       "stream": "stdout",
       "text": [
        "\r",
        " 51 4654M   51 2404M    0     0  8807k      0  0:09:01  0:04:39  0:04:22 8967k"
       ]
      },
      {
       "output_type": "stream",
       "stream": "stdout",
       "text": [
        "\r",
        " 51 4654M   51 2414M    0     0  8812k      0  0:09:00  0:04:40  0:04:20 8923k"
       ]
      },
      {
       "output_type": "stream",
       "stream": "stdout",
       "text": [
        "\r",
        " 52 4654M   52 2424M    0     0  8818k      0  0:09:00  0:04:41  0:04:19 9553k"
       ]
      },
      {
       "output_type": "stream",
       "stream": "stdout",
       "text": [
        "\r",
        " 52 4654M   52 2434M    0     0  8822k      0  0:09:00  0:04:42  0:04:18 9875k"
       ]
      },
      {
       "output_type": "stream",
       "stream": "stdout",
       "text": [
        "\r",
        " 52 4654M   52 2440M    0     0  8815k      0  0:09:00  0:04:43  0:04:17 9402k"
       ]
      },
      {
       "output_type": "stream",
       "stream": "stdout",
       "text": [
        "\r",
        " 52 4654M   52 2444M    0     0  8772k      0  0:09:03  0:04:45  0:04:18 7080k"
       ]
      },
      {
       "output_type": "stream",
       "stream": "stdout",
       "text": [
        "\r",
        " 52 4654M   52 2444M    0     0  8742k      0  0:09:05  0:04:46  0:04:19 5341k"
       ]
      },
      {
       "output_type": "stream",
       "stream": "stdout",
       "text": [
        "\r",
        " 52 4654M   52 2444M    0     0  8711k      0  0:09:07  0:04:47  0:04:20 3519k"
       ]
      },
      {
       "output_type": "stream",
       "stream": "stdout",
       "text": [
        "\r",
        " 52 4654M   52 2444M    0     0  8681k      0  0:09:09  0:04:48  0:04:21 1781k"
       ]
      },
      {
       "output_type": "stream",
       "stream": "stdout",
       "text": [
        "\r",
        " 52 4654M   52 2444M    0     0  8651k      0  0:09:10  0:04:49  0:04:21  626k"
       ]
      },
      {
       "output_type": "stream",
       "stream": "stdout",
       "text": [
        "\r",
        " 52 4654M   52 2444M    0     0  8621k      0  0:09:12  0:04:50  0:04:22  4934"
       ]
      },
      {
       "output_type": "stream",
       "stream": "stdout",
       "text": [
        "\r",
        " 52 4654M   52 2444M    0     0  8591k      0  0:09:14  0:04:51  0:04:23     0"
       ]
      },
      {
       "output_type": "stream",
       "stream": "stdout",
       "text": [
        "\r",
        " 52 4654M   52 2444M    0     0  8562k      0  0:09:16  0:04:52  0:04:24     0"
       ]
      },
      {
       "output_type": "stream",
       "stream": "stdout",
       "text": [
        "\r",
        " 52 4654M   52 2444M    0     0  8533k      0  0:09:18  0:04:53  0:04:25     0"
       ]
      },
      {
       "output_type": "stream",
       "stream": "stdout",
       "text": [
        "\r",
        " 52 4654M   52 2444M    0     0  8504k      0  0:09:20  0:04:54  0:04:26     0"
       ]
      },
      {
       "output_type": "stream",
       "stream": "stdout",
       "text": [
        "\r",
        " 52 4654M   52 2444M    0     0  8475k      0  0:09:22  0:04:55  0:04:27     0"
       ]
      },
      {
       "output_type": "stream",
       "stream": "stdout",
       "text": [
        "\r",
        " 52 4654M   52 2444M    0     0  8446k      0  0:09:24  0:04:56  0:04:28     0"
       ]
      },
      {
       "output_type": "stream",
       "stream": "stdout",
       "text": [
        "\r",
        " 52 4654M   52 2444M    0     0  8418k      0  0:09:26  0:04:57  0:04:29     0"
       ]
      },
      {
       "output_type": "stream",
       "stream": "stdout",
       "text": [
        "\r",
        " 52 4654M   52 2444M    0     0  8389k      0  0:09:28  0:04:58  0:04:30     0"
       ]
      },
      {
       "output_type": "stream",
       "stream": "stdout",
       "text": [
        "\r",
        " 52 4654M   52 2444M    0     0  8361k      0  0:09:30  0:04:59  0:04:31     0"
       ]
      },
      {
       "output_type": "stream",
       "stream": "stdout",
       "text": [
        "\r",
        " 52 4654M   52 2444M    0     0  8334k      0  0:09:31  0:05:00  0:04:31     0"
       ]
      },
      {
       "output_type": "stream",
       "stream": "stdout",
       "text": [
        "\r",
        " 52 4654M   52 2444M    0     0  8306k      0  0:09:33  0:05:01  0:04:32     0"
       ]
      },
      {
       "output_type": "stream",
       "stream": "stdout",
       "text": [
        "\r",
        " 52 4654M   52 2444M    0     0  8278k      0  0:09:35  0:05:02  0:04:33     0"
       ]
      },
      {
       "output_type": "stream",
       "stream": "stdout",
       "text": [
        "\r",
        " 52 4654M   52 2444M    0     0  8251k      0  0:09:37  0:05:03  0:04:34     0"
       ]
      },
      {
       "output_type": "stream",
       "stream": "stdout",
       "text": [
        "\r",
        " 52 4654M   52 2444M    0     0  8233k      0  0:09:38  0:05:03  0:04:35   589"
       ]
      },
      {
       "output_type": "stream",
       "stream": "stdout",
       "text": [
        "\r",
        " 52 4654M   52 2446M    0     0  8228k      0  0:09:39  0:05:04  0:04:35  639k"
       ]
      },
      {
       "output_type": "stream",
       "stream": "stdout",
       "text": [
        "\r",
        " 52 4654M   52 2453M    0     0  8224k      0  0:09:39  0:05:05  0:04:34 2360k"
       ]
      },
      {
       "output_type": "stream",
       "stream": "stdout",
       "text": [
        "\r",
        " 52 4654M   52 2462M    0     0  8226k      0  0:09:39  0:05:06  0:04:33 4421k"
       ]
      },
      {
       "output_type": "stream",
       "stream": "stdout",
       "text": [
        "\r",
        " 53 4654M   53 2471M    0     0  8229k      0  0:09:39  0:05:07  0:04:32 6658k"
       ]
      },
      {
       "output_type": "stream",
       "stream": "stdout",
       "text": [
        "\r",
        " 53 4654M   53 2481M    0     0  8236k      0  0:09:38  0:05:08  0:04:30 8391k"
       ]
      },
      {
       "output_type": "stream",
       "stream": "stdout",
       "text": [
        "\r",
        " 53 4654M   53 2491M    0     0  8242k      0  0:09:38  0:05:09  0:04:29 9136k"
       ]
      },
      {
       "output_type": "stream",
       "stream": "stdout",
       "text": [
        "\r",
        " 53 4654M   53 2498M    0     0  8238k      0  0:09:38  0:05:10  0:04:28 9080k"
       ]
      },
      {
       "output_type": "stream",
       "stream": "stdout",
       "text": [
        "\r",
        " 53 4654M   53 2504M    0     0  8233k      0  0:09:38  0:05:11  0:04:27 8670k"
       ]
      },
      {
       "output_type": "stream",
       "stream": "stdout",
       "text": [
        "\r",
        " 53 4654M   53 2512M    0     0  8233k      0  0:09:38  0:05:12  0:04:26 8477k"
       ]
      },
      {
       "output_type": "stream",
       "stream": "stdout",
       "text": [
        "\r",
        " 54 4654M   54 2519M    0     0  8229k      0  0:09:39  0:05:13  0:04:26 7831k"
       ]
      },
      {
       "output_type": "stream",
       "stream": "stdout",
       "text": [
        "\r",
        " 54 4654M   54 2527M    0     0  8227k      0  0:09:39  0:05:14  0:04:25 7289k"
       ]
      },
      {
       "output_type": "stream",
       "stream": "stdout",
       "text": [
        "\r",
        " 54 4654M   54 2536M    0     0  8230k      0  0:09:39  0:05:15  0:04:24 7700k"
       ]
      },
      {
       "output_type": "stream",
       "stream": "stdout",
       "text": [
        "\r",
        " 54 4654M   54 2545M    0     0  8234k      0  0:09:38  0:05:16  0:04:22 8287k"
       ]
      },
      {
       "output_type": "stream",
       "stream": "stdout",
       "text": [
        "\r",
        " 54 4654M   54 2554M    0     0  8236k      0  0:09:38  0:05:17  0:04:21 8425k"
       ]
      },
      {
       "output_type": "stream",
       "stream": "stdout",
       "text": [
        "\r",
        " 55 4654M   55 2563M    0     0  8240k      0  0:09:38  0:05:18  0:04:20 8945k"
       ]
      },
      {
       "output_type": "stream",
       "stream": "stdout",
       "text": [
        "\r",
        " 55 4654M   55 2573M    0     0  8249k      0  0:09:37  0:05:19  0:04:18 9593k"
       ]
      },
      {
       "output_type": "stream",
       "stream": "stdout",
       "text": [
        "\r",
        " 55 4654M   55 2581M    0     0  8247k      0  0:09:37  0:05:20  0:04:17 9357k"
       ]
      },
      {
       "output_type": "stream",
       "stream": "stdout",
       "text": [
        "\r",
        " 55 4654M   55 2587M    0     0  8242k      0  0:09:38  0:05:21  0:04:17 8747k"
       ]
      },
      {
       "output_type": "stream",
       "stream": "stdout",
       "text": [
        "\r",
        " 55 4654M   55 2596M    0     0  8244k      0  0:09:38  0:05:22  0:04:16 8712k"
       ]
      },
      {
       "output_type": "stream",
       "stream": "stdout",
       "text": [
        "\r",
        " 55 4654M   55 2605M    0     0  8247k      0  0:09:37  0:05:23  0:04:14 8649k"
       ]
      },
      {
       "output_type": "stream",
       "stream": "stdout",
       "text": [
        "\r",
        " 56 4654M   56 2615M    0     0  8252k      0  0:09:37  0:05:24  0:04:13 8480k"
       ]
      },
      {
       "output_type": "stream",
       "stream": "stdout",
       "text": [
        "\r",
        " 56 4654M   56 2625M    0     0  8257k      0  0:09:37  0:05:25  0:04:12 8912k"
       ]
      },
      {
       "output_type": "stream",
       "stream": "stdout",
       "text": [
        "\r",
        " 56 4654M   56 2635M    0     0  8265k      0  0:09:36  0:05:26  0:04:10 9777k"
       ]
      },
      {
       "output_type": "stream",
       "stream": "stdout",
       "text": [
        "\r",
        " 56 4654M   56 2646M    0     0  8272k      0  0:09:36  0:05:27  0:04:09  9.8M"
       ]
      },
      {
       "output_type": "stream",
       "stream": "stdout",
       "text": [
        "\r",
        " 57 4654M   57 2656M    0     0  8280k      0  0:09:35  0:05:28  0:04:07 10.1M"
       ]
      },
      {
       "output_type": "stream",
       "stream": "stdout",
       "text": [
        "\r",
        " 57 4654M   57 2666M    0     0  8287k      0  0:09:35  0:05:29  0:04:06 10.3M"
       ]
      },
      {
       "output_type": "stream",
       "stream": "stdout",
       "text": [
        "\r",
        " 57 4654M   57 2677M    0     0  8295k      0  0:09:34  0:05:30  0:04:04 10.5M"
       ]
      },
      {
       "output_type": "stream",
       "stream": "stdout",
       "text": [
        "\r",
        " 57 4654M   57 2688M    0     0  8302k      0  0:09:34  0:05:31  0:04:03 10.4M"
       ]
      },
      {
       "output_type": "stream",
       "stream": "stdout",
       "text": [
        "\r",
        " 57 4654M   57 2698M    0     0  8310k      0  0:09:33  0:05:32  0:04:01 10.5M"
       ]
      },
      {
       "output_type": "stream",
       "stream": "stdout",
       "text": [
        "\r",
        " 58 4654M   58 2708M    0     0  8317k      0  0:09:33  0:05:33  0:04:00 10.4M"
       ]
      },
      {
       "output_type": "stream",
       "stream": "stdout",
       "text": [
        "\r",
        " 58 4654M   58 2719M    0     0  8323k      0  0:09:32  0:05:34  0:03:58 10.4M"
       ]
      },
      {
       "output_type": "stream",
       "stream": "stdout",
       "text": [
        "\r",
        " 58 4654M   58 2729M    0     0  8331k      0  0:09:32  0:05:35  0:03:57 10.4M"
       ]
      },
      {
       "output_type": "stream",
       "stream": "stdout",
       "text": [
        "\r",
        " 58 4654M   58 2740M    0     0  8337k      0  0:09:31  0:05:36  0:03:55 10.4M"
       ]
      },
      {
       "output_type": "stream",
       "stream": "stdout",
       "text": [
        "\r",
        " 59 4654M   59 2750M    0     0  8344k      0  0:09:31  0:05:37  0:03:54 10.3M"
       ]
      },
      {
       "output_type": "stream",
       "stream": "stdout",
       "text": [
        "\r",
        " 59 4654M   59 2761M    0     0  8352k      0  0:09:30  0:05:38  0:03:52 10.4M"
       ]
      },
      {
       "output_type": "stream",
       "stream": "stdout",
       "text": [
        "\r",
        " 59 4654M   59 2768M    0     0  8349k      0  0:09:30  0:05:39  0:03:51  9.8M"
       ]
      },
      {
       "output_type": "stream",
       "stream": "stdout",
       "text": [
        "\r",
        " 59 4654M   59 2775M    0     0  8345k      0  0:09:31  0:05:40  0:03:51 9311k"
       ]
      },
      {
       "output_type": "stream",
       "stream": "stdout",
       "text": [
        "\r",
        " 59 4654M   59 2783M    0     0  8346k      0  0:09:31  0:05:41  0:03:50 8951k"
       ]
      },
      {
       "output_type": "stream",
       "stream": "stdout",
       "text": [
        "\r",
        " 60 4654M   60 2793M    0     0  8350k      0  0:09:30  0:05:42  0:03:48 8750k"
       ]
      },
      {
       "output_type": "stream",
       "stream": "stdout",
       "text": [
        "\r",
        " 60 4654M   60 2802M    0     0  8354k      0  0:09:30  0:05:43  0:03:47 8510k"
       ]
      },
      {
       "output_type": "stream",
       "stream": "stdout",
       "text": [
        "\r",
        " 60 4654M   60 2812M    0     0  8360k      0  0:09:30  0:05:44  0:03:46 9110k"
       ]
      },
      {
       "output_type": "stream",
       "stream": "stdout",
       "text": [
        "\r",
        " 60 4654M   60 2822M    0     0  8365k      0  0:09:29  0:05:45  0:03:44 9694k"
       ]
      },
      {
       "output_type": "stream",
       "stream": "stdout",
       "text": [
        "\r",
        " 60 4654M   60 2829M    0     0  8361k      0  0:09:30  0:05:46  0:03:44 9395k"
       ]
      },
      {
       "output_type": "stream",
       "stream": "stdout",
       "text": [
        "\r",
        " 60 4654M   60 2838M    0     0  8364k      0  0:09:29  0:05:47  0:03:42 9320k"
       ]
      },
      {
       "output_type": "stream",
       "stream": "stdout",
       "text": [
        "\r",
        " 61 4654M   61 2847M    0     0  8366k      0  0:09:29  0:05:48  0:03:41 9183k"
       ]
      },
      {
       "output_type": "stream",
       "stream": "stdout",
       "text": [
        "\r",
        " 61 4654M   61 2857M    0     0  8372k      0  0:09:29  0:05:49  0:03:40 9189k"
       ]
      },
      {
       "output_type": "stream",
       "stream": "stdout",
       "text": [
        "\r",
        " 61 4654M   61 2868M    0     0  8379k      0  0:09:28  0:05:50  0:03:38 9326k"
       ]
      },
      {
       "output_type": "stream",
       "stream": "stdout",
       "text": [
        "\r",
        " 61 4654M   61 2878M    0     0  8384k      0  0:09:28  0:05:51  0:03:37 9946k"
       ]
      },
      {
       "output_type": "stream",
       "stream": "stdout",
       "text": [
        "\r",
        " 62 4654M   62 2888M    0     0  8391k      0  0:09:28  0:05:52  0:03:36 10.0M"
       ]
      },
      {
       "output_type": "stream",
       "stream": "stdout",
       "text": [
        "\r",
        " 62 4654M   62 2899M    0     0  8397k      0  0:09:27  0:05:53  0:03:34 10.3M"
       ]
      },
      {
       "output_type": "stream",
       "stream": "stdout",
       "text": [
        "\r",
        " 62 4654M   62 2909M    0     0  8405k      0  0:09:27  0:05:54  0:03:33 10.4M"
       ]
      },
      {
       "output_type": "stream",
       "stream": "stdout",
       "text": [
        "\r",
        " 62 4654M   62 2920M    0     0  8410k      0  0:09:26  0:05:55  0:03:31 10.3M"
       ]
      },
      {
       "output_type": "stream",
       "stream": "stdout",
       "text": [
        "\r",
        " 62 4654M   62 2930M    0     0  8416k      0  0:09:26  0:05:56  0:03:30 10.4M"
       ]
      },
      {
       "output_type": "stream",
       "stream": "stdout",
       "text": [
        "\r",
        " 63 4654M   63 2941M    0     0  8424k      0  0:09:25  0:05:57  0:03:28 10.4M"
       ]
      },
      {
       "output_type": "stream",
       "stream": "stdout",
       "text": [
        "\r",
        " 63 4654M   63 2951M    0     0  8430k      0  0:09:25  0:05:58  0:03:27 10.4M"
       ]
      },
      {
       "output_type": "stream",
       "stream": "stdout",
       "text": [
        "\r",
        " 63 4654M   63 2962M    0     0  8437k      0  0:09:24  0:05:59  0:03:25 10.4M"
       ]
      },
      {
       "output_type": "stream",
       "stream": "stdout",
       "text": [
        "\r",
        " 63 4654M   63 2972M    0     0  8443k      0  0:09:24  0:06:00  0:03:24 10.5M"
       ]
      },
      {
       "output_type": "stream",
       "stream": "stdout",
       "text": [
        "\r",
        " 64 4654M   64 2983M    0     0  8450k      0  0:09:24  0:06:01  0:03:23 10.6M"
       ]
      },
      {
       "output_type": "stream",
       "stream": "stdout",
       "text": [
        "\r",
        " 64 4654M   64 2993M    0     0  8455k      0  0:09:23  0:06:02  0:03:21 10.4M"
       ]
      },
      {
       "output_type": "stream",
       "stream": "stdout",
       "text": [
        "\r",
        " 64 4654M   64 3003M    0     0  8460k      0  0:09:23  0:06:03  0:03:20 10.4M"
       ]
      },
      {
       "output_type": "stream",
       "stream": "stdout",
       "text": [
        "\r",
        " 64 4654M   64 3014M    0     0  8467k      0  0:09:22  0:06:04  0:03:18 10.3M"
       ]
      },
      {
       "output_type": "stream",
       "stream": "stdout",
       "text": [
        "\r",
        " 64 4654M   64 3024M    0     0  8472k      0  0:09:22  0:06:05  0:03:17 10.3M"
       ]
      },
      {
       "output_type": "stream",
       "stream": "stdout",
       "text": [
        "\r",
        " 65 4654M   65 3034M    0     0  8478k      0  0:09:22  0:06:06  0:03:16 10.2M"
       ]
      },
      {
       "output_type": "stream",
       "stream": "stdout",
       "text": [
        "\r",
        " 65 4654M   65 3045M    0     0  8484k      0  0:09:21  0:06:07  0:03:14 10.3M"
       ]
      },
      {
       "output_type": "stream",
       "stream": "stdout",
       "text": [
        "\r",
        " 65 4654M   65 3055M    0     0  8490k      0  0:09:21  0:06:08  0:03:13 10.3M"
       ]
      },
      {
       "output_type": "stream",
       "stream": "stdout",
       "text": [
        "\r",
        " 65 4654M   65 3066M    0     0  8496k      0  0:09:20  0:06:09  0:03:11 10.4M"
       ]
      },
      {
       "output_type": "stream",
       "stream": "stdout",
       "text": [
        "\r",
        " 66 4654M   66 3074M    0     0  8497k      0  0:09:20  0:06:10  0:03:10 10.0M"
       ]
      },
      {
       "output_type": "stream",
       "stream": "stdout",
       "text": [
        "\r",
        " 66 4654M   66 3081M    0     0  8492k      0  0:09:21  0:06:11  0:03:10 9542k"
       ]
      },
      {
       "output_type": "stream",
       "stream": "stdout",
       "text": [
        "\r",
        " 66 4654M   66 3089M    0     0  8492k      0  0:09:21  0:06:12  0:03:09 9054k"
       ]
      },
      {
       "output_type": "stream",
       "stream": "stdout",
       "text": [
        "\r",
        " 66 4654M   66 3098M    0     0  8494k      0  0:09:21  0:06:13  0:03:08 8821k"
       ]
      },
      {
       "output_type": "stream",
       "stream": "stdout",
       "text": [
        "\r",
        " 66 4654M   66 3107M    0     0  8496k      0  0:09:20  0:06:14  0:03:06 8488k"
       ]
      },
      {
       "output_type": "stream",
       "stream": "stdout",
       "text": [
        "\r",
        " 66 4654M   66 3117M    0     0  8502k      0  0:09:20  0:06:15  0:03:05 8843k"
       ]
      },
      {
       "output_type": "stream",
       "stream": "stdout",
       "text": [
        "\r",
        " 67 4654M   67 3128M    0     0  8507k      0  0:09:20  0:06:16  0:03:04 9588k"
       ]
      },
      {
       "output_type": "stream",
       "stream": "stdout",
       "text": [
        "\r",
        " 67 4654M   67 3137M    0     0  8510k      0  0:09:20  0:06:17  0:03:03 9880k"
       ]
      },
      {
       "output_type": "stream",
       "stream": "stdout",
       "text": [
        "\r",
        " 67 4654M   67 3144M    0     0  8505k      0  0:09:20  0:06:18  0:03:02 9312k"
       ]
      },
      {
       "output_type": "stream",
       "stream": "stdout",
       "text": [
        "\r",
        " 67 4654M   67 3152M    0     0  8505k      0  0:09:20  0:06:19  0:03:01 9141k"
       ]
      },
      {
       "output_type": "stream",
       "stream": "stdout",
       "text": [
        "\r",
        " 67 4654M   67 3161M    0     0  8508k      0  0:09:20  0:06:20  0:03:00 8999k"
       ]
      },
      {
       "output_type": "stream",
       "stream": "stdout",
       "text": [
        "\r",
        " 68 4654M   68 3170M    0     0  8509k      0  0:09:20  0:06:21  0:02:59 8718k"
       ]
      },
      {
       "output_type": "stream",
       "stream": "stdout",
       "text": [
        "\r",
        " 68 4654M   68 3179M    0     0  8512k      0  0:09:19  0:06:22  0:02:57 8655k"
       ]
      },
      {
       "output_type": "stream",
       "stream": "stdout",
       "text": [
        "\r",
        " 68 4654M   68 3189M    0     0  8515k      0  0:09:19  0:06:23  0:02:56 9252k"
       ]
      },
      {
       "output_type": "stream",
       "stream": "stdout",
       "text": [
        "\r",
        " 68 4654M   68 3199M    0     0  8519k      0  0:09:19  0:06:24  0:02:55 9602k"
       ]
      },
      {
       "output_type": "stream",
       "stream": "stdout",
       "text": [
        "\r",
        " 68 4654M   68 3209M    0     0  8523k      0  0:09:19  0:06:25  0:02:54 9692k"
       ]
      },
      {
       "output_type": "stream",
       "stream": "stdout",
       "text": [
        "\r",
        " 69 4654M   69 3218M    0     0  8527k      0  0:09:18  0:06:26  0:02:52 9831k"
       ]
      },
      {
       "output_type": "stream",
       "stream": "stdout",
       "text": [
        "\r",
        " 69 4654M   69 3229M    0     0  8533k      0  0:09:18  0:06:27  0:02:51  9.8M"
       ]
      },
      {
       "output_type": "stream",
       "stream": "stdout",
       "text": [
        "\r",
        " 69 4654M   69 3239M    0     0  8539k      0  0:09:18  0:06:28  0:02:50 10.1M"
       ]
      },
      {
       "output_type": "stream",
       "stream": "stdout",
       "text": [
        "\r",
        " 69 4654M   69 3250M    0     0  8544k      0  0:09:17  0:06:29  0:02:48 10.2M"
       ]
      },
      {
       "output_type": "stream",
       "stream": "stdout",
       "text": [
        "\r",
        " 70 4654M   70 3260M    0     0  8550k      0  0:09:17  0:06:30  0:02:47 10.3M"
       ]
      },
      {
       "output_type": "stream",
       "stream": "stdout",
       "text": [
        "\r",
        " 70 4654M   70 3271M    0     0  8555k      0  0:09:17  0:06:31  0:02:46 10.5M"
       ]
      },
      {
       "output_type": "stream",
       "stream": "stdout",
       "text": [
        "\r",
        " 70 4654M   70 3281M    0     0  8560k      0  0:09:16  0:06:32  0:02:44 10.4M"
       ]
      },
      {
       "output_type": "stream",
       "stream": "stdout",
       "text": [
        "\r",
        " 70 4654M   70 3292M    0     0  8566k      0  0:09:16  0:06:33  0:02:43 10.4M"
       ]
      },
      {
       "output_type": "stream",
       "stream": "stdout",
       "text": [
        "\r",
        " 70 4654M   70 3302M    0     0  8570k      0  0:09:16  0:06:34  0:02:42 10.3M"
       ]
      },
      {
       "output_type": "stream",
       "stream": "stdout",
       "text": [
        "\r",
        " 71 4654M   71 3312M    0     0  8575k      0  0:09:15  0:06:35  0:02:40 10.2M"
       ]
      },
      {
       "output_type": "stream",
       "stream": "stdout",
       "text": [
        "\r",
        " 71 4654M   71 3322M    0     0  8580k      0  0:09:15  0:06:36  0:02:39 10.2M"
       ]
      },
      {
       "output_type": "stream",
       "stream": "stdout",
       "text": [
        "\r",
        " 71 4654M   71 3332M    0     0  8585k      0  0:09:15  0:06:37  0:02:38 10.2M"
       ]
      },
      {
       "output_type": "stream",
       "stream": "stdout",
       "text": [
        "\r",
        " 71 4654M   71 3342M    0     0  8589k      0  0:09:14  0:06:38  0:02:36 10.1M"
       ]
      },
      {
       "output_type": "stream",
       "stream": "stdout",
       "text": [
        "\r",
        " 72 4654M   72 3353M    0     0  8595k      0  0:09:14  0:06:39  0:02:35 10.2M"
       ]
      },
      {
       "output_type": "stream",
       "stream": "stdout",
       "text": [
        "\r",
        " 72 4654M   72 3363M    0     0  8600k      0  0:09:14  0:06:40  0:02:34 10.2M"
       ]
      },
      {
       "output_type": "stream",
       "stream": "stdout",
       "text": [
        "\r",
        " 72 4654M   72 3371M    0     0  8599k      0  0:09:14  0:06:41  0:02:33  9.8M"
       ]
      },
      {
       "output_type": "stream",
       "stream": "stdout",
       "text": [
        "\r",
        " 72 4654M   72 3381M    0     0  8603k      0  0:09:14  0:06:42  0:02:32  9.8M"
       ]
      },
      {
       "output_type": "stream",
       "stream": "stdout",
       "text": [
        "\r",
        " 72 4654M   72 3392M    0     0  8608k      0  0:09:13  0:06:43  0:02:30  9.9M"
       ]
      },
      {
       "output_type": "stream",
       "stream": "stdout",
       "text": [
        "\r",
        " 73 4654M   73 3403M    0     0  8614k      0  0:09:13  0:06:44  0:02:29  9.8M"
       ]
      },
      {
       "output_type": "stream",
       "stream": "stdout",
       "text": [
        "\r",
        " 73 4654M   73 3405M    0     0  8593k      0  0:09:14  0:06:45  0:02:29 8071k"
       ]
      },
      {
       "output_type": "stream",
       "stream": "stdout",
       "text": [
        "\r",
        " 73 4654M   73 3408M    0     0  8584k      0  0:09:15  0:06:46  0:02:29 7398k"
       ]
      },
      {
       "output_type": "stream",
       "stream": "stdout",
       "text": [
        "\r",
        " 73 4654M   73 3411M    0     0  8572k      0  0:09:15  0:06:47  0:02:28 6115k"
       ]
      },
      {
       "output_type": "stream",
       "stream": "stdout",
       "text": [
        "\r",
        " 73 4654M   73 3418M    0     0  8568k      0  0:09:16  0:06:48  0:02:28 5359k"
       ]
      },
      {
       "output_type": "stream",
       "stream": "stdout",
       "text": [
        "\r",
        " 73 4654M   73 3426M    0     0  8568k      0  0:09:16  0:06:49  0:02:27 4890k"
       ]
      },
      {
       "output_type": "stream",
       "stream": "stdout",
       "text": [
        "\r",
        " 73 4654M   73 3436M    0     0  8571k      0  0:09:16  0:06:50  0:02:26 6720k"
       ]
      },
      {
       "output_type": "stream",
       "stream": "stdout",
       "text": [
        "\r",
        " 74 4654M   74 3445M    0     0  8574k      0  0:09:15  0:06:51  0:02:24 7718k"
       ]
      },
      {
       "output_type": "stream",
       "stream": "stdout",
       "text": [
        "\r",
        " 74 4654M   74 3455M    0     0  8577k      0  0:09:15  0:06:52  0:02:23 8905k"
       ]
      },
      {
       "output_type": "stream",
       "stream": "stdout",
       "text": [
        "\r",
        " 74 4654M   74 3465M    0     0  8581k      0  0:09:15  0:06:53  0:02:22 9641k"
       ]
      },
      {
       "output_type": "stream",
       "stream": "stdout",
       "text": [
        "\r",
        " 74 4654M   74 3475M    0     0  8585k      0  0:09:15  0:06:54  0:02:21 9941k"
       ]
      },
      {
       "output_type": "stream",
       "stream": "stdout",
       "text": [
        "\r",
        " 74 4654M   74 3482M    0     0  8582k      0  0:09:15  0:06:55  0:02:20 9465k"
       ]
      },
      {
       "output_type": "stream",
       "stream": "stdout",
       "text": [
        "\r",
        " 75 4654M   75 3491M    0     0  8583k      0  0:09:15  0:06:56  0:02:19 9321k"
       ]
      },
      {
       "output_type": "stream",
       "stream": "stdout",
       "text": [
        "\r",
        " 75 4654M   75 3499M    0     0  8583k      0  0:09:15  0:06:57  0:02:18 9127k"
       ]
      },
      {
       "output_type": "stream",
       "stream": "stdout",
       "text": [
        "\r",
        " 75 4654M   75 3509M    0     0  8586k      0  0:09:15  0:06:58  0:02:17 9006k"
       ]
      },
      {
       "output_type": "stream",
       "stream": "stdout",
       "text": [
        "\r",
        " 75 4654M   75 3515M    0     0  8581k      0  0:09:15  0:06:59  0:02:16 8228k"
       ]
      },
      {
       "output_type": "stream",
       "stream": "stdout",
       "text": [
        "\r",
        " 75 4654M   75 3524M    0     0  8583k      0  0:09:15  0:07:00  0:02:15 8660k"
       ]
      },
      {
       "output_type": "stream",
       "stream": "stdout",
       "text": [
        "\r",
        " 75 4654M   75 3535M    0     0  8587k      0  0:09:15  0:07:01  0:02:14 8988k"
       ]
      },
      {
       "output_type": "stream",
       "stream": "stdout",
       "text": [
        "\r",
        " 76 4654M   76 3545M    0     0  8592k      0  0:09:14  0:07:02  0:02:12 9350k"
       ]
      },
      {
       "output_type": "stream",
       "stream": "stdout",
       "text": [
        "\r",
        " 76 4654M   76 3555M    0     0  8596k      0  0:09:14  0:07:03  0:02:11 9411k"
       ]
      },
      {
       "output_type": "stream",
       "stream": "stdout",
       "text": [
        "\r",
        " 76 4654M   76 3566M    0     0  8602k      0  0:09:14  0:07:04  0:02:10 10.1M"
       ]
      },
      {
       "output_type": "stream",
       "stream": "stdout",
       "text": [
        "\r",
        " 76 4654M   76 3576M    0     0  8605k      0  0:09:13  0:07:05  0:02:08 10.2M"
       ]
      },
      {
       "output_type": "stream",
       "stream": "stdout",
       "text": [
        "\r",
        " 77 4654M   77 3586M    0     0  8611k      0  0:09:13  0:07:06  0:02:07 10.3M"
       ]
      },
      {
       "output_type": "stream",
       "stream": "stdout",
       "text": [
        "\r",
        " 77 4654M   77 3597M    0     0  8615k      0  0:09:13  0:07:07  0:02:06 10.3M"
       ]
      },
      {
       "output_type": "stream",
       "stream": "stdout",
       "text": [
        "\r",
        " 77 4654M   77 3607M    0     0  8620k      0  0:09:12  0:07:08  0:02:04 10.3M"
       ]
      },
      {
       "output_type": "stream",
       "stream": "stdout",
       "text": [
        "\r",
        " 77 4654M   77 3613M    0     0  8615k      0  0:09:13  0:07:09  0:02:04 9753k"
       ]
      },
      {
       "output_type": "stream",
       "stream": "stdout",
       "text": [
        "\r",
        " 77 4654M   77 3621M    0     0  8613k      0  0:09:13  0:07:10  0:02:03 9276k"
       ]
      },
      {
       "output_type": "stream",
       "stream": "stdout",
       "text": [
        "\r",
        " 77 4654M   77 3629M    0     0  8611k      0  0:09:13  0:07:11  0:02:02 8680k"
       ]
      },
      {
       "output_type": "stream",
       "stream": "stdout",
       "text": [
        "\r",
        " 78 4654M   78 3638M    0     0  8614k      0  0:09:13  0:07:12  0:02:01 8491k"
       ]
      },
      {
       "output_type": "stream",
       "stream": "stdout",
       "text": [
        "\r",
        " 78 4654M   78 3647M    0     0  8616k      0  0:09:13  0:07:13  0:02:00 8294k"
       ]
      },
      {
       "output_type": "stream",
       "stream": "stdout",
       "text": [
        "\r",
        " 78 4654M   78 3658M    0     0  8620k      0  0:09:12  0:07:14  0:01:58 9065k"
       ]
      },
      {
       "output_type": "stream",
       "stream": "stdout",
       "text": [
        "\r",
        " 78 4654M   78 3667M    0     0  8623k      0  0:09:12  0:07:15  0:01:57 9532k"
       ]
      },
      {
       "output_type": "stream",
       "stream": "stdout",
       "text": [
        "\r",
        " 79 4654M   79 3678M    0     0  8627k      0  0:09:12  0:07:16  0:01:56  9.7M"
       ]
      },
      {
       "output_type": "stream",
       "stream": "stdout",
       "text": [
        "\r",
        " 79 4654M   79 3688M    0     0  8631k      0  0:09:12  0:07:17  0:01:55  9.8M"
       ]
      },
      {
       "output_type": "stream",
       "stream": "stdout",
       "text": [
        "\r",
        " 79 4654M   79 3697M    0     0  8635k      0  0:09:11  0:07:18  0:01:53 10.0M"
       ]
      },
      {
       "output_type": "stream",
       "stream": "stdout",
       "text": [
        "\r",
        " 79 4654M   79 3708M    0     0  8640k      0  0:09:11  0:07:19  0:01:52 10.1M"
       ]
      },
      {
       "output_type": "stream",
       "stream": "stdout",
       "text": [
        "\r",
        " 79 4654M   79 3715M    0     0  8636k      0  0:09:11  0:07:20  0:01:51 9732k"
       ]
      },
      {
       "output_type": "stream",
       "stream": "stdout",
       "text": [
        "\r",
        " 79 4654M   79 3721M    0     0  8632k      0  0:09:12  0:07:21  0:01:51 8996k"
       ]
      },
      {
       "output_type": "stream",
       "stream": "stdout",
       "text": [
        "\r",
        " 80 4654M   80 3729M    0     0  8629k      0  0:09:12  0:07:22  0:01:50 8470k"
       ]
      },
      {
       "output_type": "stream",
       "stream": "stdout",
       "text": [
        "\r",
        " 80 4654M   80 3736M    0     0  8627k      0  0:09:12  0:07:23  0:01:49 7974k"
       ]
      },
      {
       "output_type": "stream",
       "stream": "stdout",
       "text": [
        "\r",
        " 80 4654M   80 3745M    0     0  8628k      0  0:09:12  0:07:24  0:01:48 7617k"
       ]
      },
      {
       "output_type": "stream",
       "stream": "stdout",
       "text": [
        "\r",
        " 80 4654M   80 3755M    0     0  8631k      0  0:09:12  0:07:25  0:01:47 8199k"
       ]
      },
      {
       "output_type": "stream",
       "stream": "stdout",
       "text": [
        "\r",
        " 80 4654M   80 3765M    0     0  8634k      0  0:09:12  0:07:26  0:01:46 8827k"
       ]
      },
      {
       "output_type": "stream",
       "stream": "stdout",
       "text": [
        "\r",
        " 81 4654M   81 3775M    0     0  8638k      0  0:09:11  0:07:27  0:01:44 9473k"
       ]
      },
      {
       "output_type": "stream",
       "stream": "stdout",
       "text": [
        "\r",
        " 81 4654M   81 3785M    0     0  8642k      0  0:09:11  0:07:28  0:01:43 9985k"
       ]
      },
      {
       "output_type": "stream",
       "stream": "stdout",
       "text": [
        "\r",
        " 81 4654M   81 3793M    0     0  8641k      0  0:09:11  0:07:29  0:01:42 9772k"
       ]
      },
      {
       "output_type": "stream",
       "stream": "stdout",
       "text": [
        "\r",
        " 81 4654M   81 3801M    0     0  8640k      0  0:09:11  0:07:30  0:01:41 9389k"
       ]
      },
      {
       "output_type": "stream",
       "stream": "stdout",
       "text": [
        "\r",
        " 81 4654M   81 3809M    0     0  8640k      0  0:09:11  0:07:31  0:01:40 9183k"
       ]
      },
      {
       "output_type": "stream",
       "stream": "stdout",
       "text": [
        "\r",
        " 82 4654M   82 3818M    0     0  8640k      0  0:09:11  0:07:32  0:01:39 8793k"
       ]
      },
      {
       "output_type": "stream",
       "stream": "stdout",
       "text": [
        "\r",
        " 82 4654M   82 3827M    0     0  8641k      0  0:09:11  0:07:33  0:01:38 8471k"
       ]
      },
      {
       "output_type": "stream",
       "stream": "stdout",
       "text": [
        "\r",
        " 82 4654M   82 3836M    0     0  8643k      0  0:09:11  0:07:34  0:01:37 8798k"
       ]
      },
      {
       "output_type": "stream",
       "stream": "stdout",
       "text": [
        "\r",
        " 82 4654M   82 3845M    0     0  8644k      0  0:09:11  0:07:35  0:01:36 9085k"
       ]
      },
      {
       "output_type": "stream",
       "stream": "stdout",
       "text": [
        "\r",
        " 82 4654M   82 3854M    0     0  8646k      0  0:09:11  0:07:36  0:01:35 9184k"
       ]
      },
      {
       "output_type": "stream",
       "stream": "stdout",
       "text": [
        "\r",
        " 83 4654M   83 3864M    0     0  8649k      0  0:09:11  0:07:37  0:01:34 9422k"
       ]
      },
      {
       "output_type": "stream",
       "stream": "stdout",
       "text": [
        "\r",
        " 83 4654M   83 3875M    0     0  8654k      0  0:09:10  0:07:38  0:01:32 9827k"
       ]
      },
      {
       "output_type": "stream",
       "stream": "stdout",
       "text": [
        "\r",
        " 83 4654M   83 3885M    0     0  8657k      0  0:09:10  0:07:39  0:01:31 9975k"
       ]
      },
      {
       "output_type": "stream",
       "stream": "stdout",
       "text": [
        "\r",
        " 83 4654M   83 3895M    0     0  8661k      0  0:09:10  0:07:40  0:01:30  9.8M"
       ]
      },
      {
       "output_type": "stream",
       "stream": "stdout",
       "text": [
        "\r",
        " 83 4654M   83 3905M    0"
       ]
      },
      {
       "output_type": "stream",
       "stream": "stdout",
       "text": [
        "     0  8664k      0  0:09:10  0:07:41  0:01:29 10.1M"
       ]
      },
      {
       "output_type": "stream",
       "stream": "stdout",
       "text": [
        "\r",
        " 84 4654M   84 3915M    0     0  8668k      0  0:09:09  0:07:42  0:01:27 10.1M"
       ]
      },
      {
       "output_type": "stream",
       "stream": "stdout",
       "text": [
        "\r",
        " 84 4654M   84 3925M    0     0  8672k      0  0:09:09  0:07:43  0:01:26 10.0M"
       ]
      },
      {
       "output_type": "stream",
       "stream": "stdout",
       "text": [
        "\r",
        " 84 4654M   84 3935M    0     0  8676k      0  0:09:09  0:07:44  0:01:25 10.1M"
       ]
      },
      {
       "output_type": "stream",
       "stream": "stdout",
       "text": [
        "\r",
        " 84 4654M   84 3946M    0     0  8680k      0  0:09:09  0:07:45  0:01:24 10.1M"
       ]
      },
      {
       "output_type": "stream",
       "stream": "stdout",
       "text": [
        "\r",
        " 84 4654M   84 3956M    0     0  8684k      0  0:09:08  0:07:46  0:01:22 10.2M"
       ]
      },
      {
       "output_type": "stream",
       "stream": "stdout",
       "text": [
        "\r",
        " 85 4654M   85 3966M    0     0  8688k      0  0:09:08  0:07:47  0:01:21 10.2M"
       ]
      },
      {
       "output_type": "stream",
       "stream": "stdout",
       "text": [
        "\r",
        " 85 4654M   85 3977M    0     0  8692k      0  0:09:08  0:07:48  0:01:20 10.3M"
       ]
      },
      {
       "output_type": "stream",
       "stream": "stdout",
       "text": [
        "\r",
        " 85 4654M   85 3987M    0     0  8695k      0  0:09:08  0:07:49  0:01:19 10.2M"
       ]
      },
      {
       "output_type": "stream",
       "stream": "stdout",
       "text": [
        "\r",
        " 85 4654M   85 3996M    0     0  8696k      0  0:09:08  0:07:50  0:01:18  9.9M"
       ]
      },
      {
       "output_type": "stream",
       "stream": "stdout",
       "text": [
        "\r",
        " 85 4654M   85 4002M    0     0  8691k      0  0:09:08  0:07:51  0:01:17 9382k"
       ]
      },
      {
       "output_type": "stream",
       "stream": "stdout",
       "text": [
        "\r",
        " 86 4654M   86 4008M    0     0  8686k      0  0:09:08  0:07:52  0:01:16 8498k"
       ]
      },
      {
       "output_type": "stream",
       "stream": "stdout",
       "text": [
        "\r",
        " 86 4654M   86 4015M    0     0  8684k      0  0:09:08  0:07:53  0:01:15 7879k"
       ]
      },
      {
       "output_type": "stream",
       "stream": "stdout",
       "text": [
        "\r",
        " 86 4654M   86 4024M    0     0  8685k      0  0:09:08  0:07:54  0:01:14 7690k"
       ]
      },
      {
       "output_type": "stream",
       "stream": "stdout",
       "text": [
        "\r",
        " 86 4654M   86 4034M    0     0  8687k      0  0:09:08  0:07:55  0:01:13 7785k"
       ]
      },
      {
       "output_type": "stream",
       "stream": "stdout",
       "text": [
        "\r",
        " 86 4654M   86 4043M    0     0  8688k      0  0:09:08  0:07:56  0:01:12 8389k"
       ]
      },
      {
       "output_type": "stream",
       "stream": "stdout",
       "text": [
        "\r",
        " 87 4654M   87 4053M    0     0  8691k      0  0:09:08  0:07:57  0:01:11 9246k"
       ]
      },
      {
       "output_type": "stream",
       "stream": "stdout",
       "text": [
        "\r",
        " 87 4654M   87 4063M    0     0  8694k      0  0:09:08  0:07:58  0:01:10 9691k"
       ]
      },
      {
       "output_type": "stream",
       "stream": "stdout",
       "text": [
        "\r",
        " 87 4654M   87 4073M    0     0  8699k      0  0:09:07  0:07:59  0:01:08  9.8M"
       ]
      },
      {
       "output_type": "stream",
       "stream": "stdout",
       "text": [
        "\r",
        " 87 4654M   87 4084M    0     0  8703k      0  0:09:07  0:08:00  0:01:07 10.0M"
       ]
      },
      {
       "output_type": "stream",
       "stream": "stdout",
       "text": [
        "\r",
        " 87 4654M   87 4094M    0     0  8707k      0  0:09:07  0:08:01  0:01:06 10.3M"
       ]
      },
      {
       "output_type": "stream",
       "stream": "stdout",
       "text": [
        "\r",
        " 88 4654M   88 4105M    0     0  8711k      0  0:09:07  0:08:02  0:01:05 10.3M"
       ]
      },
      {
       "output_type": "stream",
       "stream": "stdout",
       "text": [
        "\r",
        " 88 4654M   88 4115M    0     0  8716k      0  0:09:06  0:08:03  0:01:03 10.5M"
       ]
      },
      {
       "output_type": "stream",
       "stream": "stdout",
       "text": [
        "\r",
        " 88 4654M   88 4126M    0     0  8720k      0  0:09:06  0:08:04  0:01:02 10.5M"
       ]
      },
      {
       "output_type": "stream",
       "stream": "stdout",
       "text": [
        "\r",
        " 88 4654M   88 4136M    0     0  8724k      0  0:09:06  0:08:05  0:01:01 10.4M"
       ]
      },
      {
       "output_type": "stream",
       "stream": "stdout",
       "text": [
        "\r",
        " 89 4654M   89 4143M    0     0  8721k      0  0:09:06  0:08:06  0:01:00  9.7M"
       ]
      },
      {
       "output_type": "stream",
       "stream": "stdout",
       "text": [
        "\r",
        " 89 4654M   89 4152M    0     0  8721k      0  0:09:06  0:08:07  0:00:59 9672k"
       ]
      },
      {
       "output_type": "stream",
       "stream": "stdout",
       "text": [
        "\r",
        " 89 4654M   89 4161M    0     0  8723k      0  0:09:06  0:08:08  0:00:58 9349k"
       ]
      },
      {
       "output_type": "stream",
       "stream": "stdout",
       "text": [
        "\r",
        " 89 4654M   89 4171M    0     0  8725k      0  0:09:06  0:08:09  0:00:57 9201k"
       ]
      },
      {
       "output_type": "stream",
       "stream": "stdout",
       "text": [
        "\r",
        " 89 4654M   89 4181M    0     0  8729k      0  0:09:06  0:08:10  0:00:56 9142k"
       ]
      },
      {
       "output_type": "stream",
       "stream": "stdout",
       "text": [
        "\r",
        " 90 4654M   90 4191M    0     0  8732k      0  0:09:05  0:08:11  0:00:54 9816k"
       ]
      },
      {
       "output_type": "stream",
       "stream": "stdout",
       "text": [
        "\r",
        " 90 4654M   90 4201M    0     0  8734k      0  0:09:05  0:08:12  0:00:53  9.7M"
       ]
      },
      {
       "output_type": "stream",
       "stream": "stdout",
       "text": [
        "\r",
        " 90 4654M   90 4207M    0     0  8730k      0  0:09:05  0:08:13  0:00:52 9448k"
       ]
      },
      {
       "output_type": "stream",
       "stream": "stdout",
       "text": [
        "\r",
        " 90 4654M   90 4215M    0     0  8728k      0  0:09:06  0:08:14  0:00:52 9057k"
       ]
      },
      {
       "output_type": "stream",
       "stream": "stdout",
       "text": [
        "\r",
        " 90 4654M   90 4224M    0     0  8729k      0  0:09:05  0:08:15  0:00:50 8800k"
       ]
      },
      {
       "output_type": "stream",
       "stream": "stdout",
       "text": [
        "\r",
        " 90 4654M   90 4231M    0     0  8727k      0  0:09:06  0:08:16  0:00:50 8229k"
       ]
      },
      {
       "output_type": "stream",
       "stream": "stdout",
       "text": [
        "\r",
        " 91 4654M   91 4239M    0     0  8725k      0  0:09:06  0:08:17  0:00:49 7823k"
       ]
      },
      {
       "output_type": "stream",
       "stream": "stdout",
       "text": [
        "\r",
        " 91 4654M   91 4248M    0     0  8726k      0  0:09:06  0:08:18  0:00:48 8318k"
       ]
      },
      {
       "output_type": "stream",
       "stream": "stdout",
       "text": [
        "\r",
        " 91 4654M   91 4257M    0     0  8728k      0  0:09:06  0:08:19  0:00:47 8710k"
       ]
      },
      {
       "output_type": "stream",
       "stream": "stdout",
       "text": [
        "\r",
        " 91 4654M   91 4267M    0     0  8730k      0  0:09:05  0:08:20  0:00:45 8798k"
       ]
      },
      {
       "output_type": "stream",
       "stream": "stdout",
       "text": [
        "\r",
        " 91 4654M   91 4277M    0     0  8734k      0  0:09:05  0:08:21  0:00:44 9405k"
       ]
      },
      {
       "output_type": "stream",
       "stream": "stdout",
       "text": [
        "\r",
        " 92 4654M   92 4288M    0     0  8737k      0  0:09:05  0:08:22  0:00:43 9942k"
       ]
      },
      {
       "output_type": "stream",
       "stream": "stdout",
       "text": [
        "\r",
        " 92 4654M   92 4296M    0     0  8736k      0  0:09:05  0:08:23  0:00:42 9787k"
       ]
      },
      {
       "output_type": "stream",
       "stream": "stdout",
       "text": [
        "\r",
        " 92 4654M   92 4303M    0     0  8735k      0  0:09:05  0:08:24  0:00:41 9411k"
       ]
      },
      {
       "output_type": "stream",
       "stream": "stdout",
       "text": [
        "\r",
        " 92 4654M   92 4313M    0     0  8737k      0  0:09:05  0:08:25  0:00:40 9398k"
       ]
      },
      {
       "output_type": "stream",
       "stream": "stdout",
       "text": [
        "\r",
        " 92 4654M   92 4320M    0     0  8734k      0  0:09:05  0:08:26  0:00:39 8775k"
       ]
      },
      {
       "output_type": "stream",
       "stream": "stdout",
       "text": [
        "\r",
        " 92 4654M   92 4328M    0     0  8733k      0  0:09:05  0:08:27  0:00:38 8278k"
       ]
      },
      {
       "output_type": "stream",
       "stream": "stdout",
       "text": [
        "\r",
        " 93 4654M   93 4337M    0     0  8734k      0  0:09:05  0:08:28  0:00:37 8490k"
       ]
      },
      {
       "output_type": "stream",
       "stream": "stdout",
       "text": [
        "\r",
        " 93 4654M   93 4347M    0     0  8736k      0  0:09:05  0:08:29  0:00:36 8891k"
       ]
      },
      {
       "output_type": "stream",
       "stream": "stdout",
       "text": [
        "\r",
        " 93 4654M   93 4356M    0     0  8737k      0  0:09:05  0:08:30  0:00:35 8830k"
       ]
      },
      {
       "output_type": "stream",
       "stream": "stdout",
       "text": [
        "\r",
        " 93 4654M   93 4366M    0     0  8741k      0  0:09:05  0:08:31  0:00:34 9463k"
       ]
      },
      {
       "output_type": "stream",
       "stream": "stdout",
       "text": [
        "\r",
        " 94 4654M   94 4377M    0     0  8745k      0  0:09:05  0:08:32  0:00:33 9979k"
       ]
      },
      {
       "output_type": "stream",
       "stream": "stdout",
       "text": [
        "\r",
        " 94 4654M   94 4385M    0     0  8744k      0  0:09:05  0:08:33  0:00:32 9810k"
       ]
      },
      {
       "output_type": "stream",
       "stream": "stdout",
       "text": [
        "\r",
        " 94 4654M   94 4393M    0     0  8743k      0  0:09:05  0:08:34  0:00:31 9381k"
       ]
      },
      {
       "output_type": "stream",
       "stream": "stdout",
       "text": [
        "\r",
        " 94 4654M   94 4402M    0     0  8745k      0  0:09:05  0:08:35  0:00:30 9469k"
       ]
      },
      {
       "output_type": "stream",
       "stream": "stdout",
       "text": [
        "\r",
        " 94 4654M   94 4411M    0     0  8746k      0  0:09:04  0:08:36  0:00:28 9220k"
       ]
      },
      {
       "output_type": "stream",
       "stream": "stdout",
       "text": [
        "\r",
        " 94 4654M   94 4421M    0     0  8747k      0  0:09:04  0:08:37  0:00:27 9001k"
       ]
      },
      {
       "output_type": "stream",
       "stream": "stdout",
       "text": [
        "\r",
        " 95 4654M   95 4430M    0     0  8750k      0  0:09:04  0:08:38  0:00:26 9322k"
       ]
      },
      {
       "output_type": "stream",
       "stream": "stdout",
       "text": [
        "\r",
        " 95 4654M   95 4441M    0     0  8754k      0  0:09:04  0:08:39  0:00:25 9950k"
       ]
      },
      {
       "output_type": "stream",
       "stream": "stdout",
       "text": [
        "\r",
        " 95 4654M   95 4452M    0     0  8758k      0  0:09:04  0:08:40  0:00:24  9.9M"
       ]
      },
      {
       "output_type": "stream",
       "stream": "stdout",
       "text": [
        "\r",
        " 95 4654M   95 4462M    0     0  8762k      0  0:09:03  0:08:41  0:00:22 10.1M"
       ]
      },
      {
       "output_type": "stream",
       "stream": "stdout",
       "text": [
        "\r",
        " 96 4654M   96 4472M    0     0  8763k      0  0:09:03  0:08:42  0:00:21 10.1M"
       ]
      },
      {
       "output_type": "stream",
       "stream": "stdout",
       "text": [
        "\r",
        " 96 4654M   96 4480M    0     0  8764k      0  0:09:03  0:08:43  0:00:20  9.9M"
       ]
      },
      {
       "output_type": "stream",
       "stream": "stdout",
       "text": [
        "\r",
        " 96 4654M   96 4491M    0     0  8768k      0  0:09:03  0:08:44  0:00:19  9.9M"
       ]
      },
      {
       "output_type": "stream",
       "stream": "stdout",
       "text": [
        "\r",
        " 96 4654M   96 4502M    0     0  8772k      0  0:09:03  0:08:45  0:00:18  9.9M"
       ]
      },
      {
       "output_type": "stream",
       "stream": "stdout",
       "text": [
        "\r",
        " 96 4654M   96 4512M    0     0  8776k      0  0:09:03  0:08:46  0:00:17 10.0M"
       ]
      },
      {
       "output_type": "stream",
       "stream": "stdout",
       "text": [
        "\r",
        " 97 4654M   97 4520M    0     0  8774k      0  0:09:03  0:08:47  0:00:16 9905k"
       ]
      },
      {
       "output_type": "stream",
       "stream": "stdout",
       "text": [
        "\r",
        " 97 4654M   97 4527M    0     0  8771k      0  0:09:03  0:08:48  0:00:15 9482k"
       ]
      },
      {
       "output_type": "stream",
       "stream": "stdout",
       "text": [
        "\r",
        " 97 4654M   97 4535M    0     0  8771k      0  0:09:03  0:08:49  0:00:14 9116k"
       ]
      },
      {
       "output_type": "stream",
       "stream": "stdout",
       "text": [
        "\r",
        " 97 4654M   97 4545M    0     0  8773k      0  0:09:03  0:08:50  0:00:13 8827k"
       ]
      },
      {
       "output_type": "stream",
       "stream": "stdout",
       "text": [
        "\r",
        " 97 4654M   97 4555M    0     0  8776k      0  0:09:03  0:08:51  0:00:12 8705k"
       ]
      },
      {
       "output_type": "stream",
       "stream": "stdout",
       "text": [
        "\r",
        " 98 4654M   98 4565M    0     0  8779k      0  0:09:02  0:08:52  0:00:10 9350k"
       ]
      },
      {
       "output_type": "stream",
       "stream": "stdout",
       "text": [
        "\r",
        " 98 4654M   98 4575M    0     0  8782k      0  0:09:02  0:08:53  0:00:09 9952k"
       ]
      },
      {
       "output_type": "stream",
       "stream": "stdout",
       "text": [
        "\r",
        " 98 4654M   98 4584M    0     0  8781k      0  0:09:02  0:08:54  0:00:08 9896k"
       ]
      },
      {
       "output_type": "stream",
       "stream": "stdout",
       "text": [
        "\r",
        " 98 4654M   98 4590M    0     0  8777k      0  0:09:03  0:08:55  0:00:08 9246k"
       ]
      },
      {
       "output_type": "stream",
       "stream": "stdout",
       "text": [
        "\r",
        " 98 4654M   98 4598M    0     0  8776k      0  0:09:03  0:08:56  0:00:07 8771k"
       ]
      },
      {
       "output_type": "stream",
       "stream": "stdout",
       "text": [
        "\r",
        " 98 4654M   98 4606M    0     0  8775k      0  0:09:03  0:08:57  0:00:06 8312k"
       ]
      },
      {
       "output_type": "stream",
       "stream": "stdout",
       "text": [
        "\r",
        " 99 4654M   99 4614M    0     0  8774k      0  0:09:03  0:08:58  0:00:05 7877k"
       ]
      },
      {
       "output_type": "stream",
       "stream": "stdout",
       "text": [
        "\r",
        " 99 4654M   99 4623M    0     0  8774k      0  0:09:03  0:08:59  0:00:04 7996k"
       ]
      },
      {
       "output_type": "stream",
       "stream": "stdout",
       "text": [
        "\r",
        " 99 4654M   99 4633M    0     0  8777k      0  0:09:03  0:09:00  0:00:03 8814k"
       ]
      },
      {
       "output_type": "stream",
       "stream": "stdout",
       "text": [
        "\r",
        " 99 4654M   99 4643M    0     0  8780k      0  0:09:02  0:09:01  0:00:01 9257k"
       ]
      },
      {
       "output_type": "stream",
       "stream": "stdout",
       "text": [
        "\r",
        " 99 4654M   99 4653M    0     0  8784k      0  0:09:02  0:09:02 --:--:-- 9771k"
       ]
      },
      {
       "output_type": "stream",
       "stream": "stdout",
       "text": [
        "\r",
        "100 4654M  100 4654M    0     0  8784k      0  0:09:02  0:09:02 --:--:--  9.9M\r\n"
       ]
      }
     ],
     "prompt_number": 14
    },
    {
     "cell_type": "heading",
     "level": 2,
     "metadata": {},
     "source": [
      "Merge SOLiD csfast and qual files into single fastq file - found perl script for this online"
     ]
    },
    {
     "cell_type": "code",
     "collapsed": false,
     "input": [
      "!head Roberts_20100712_CC_F3.csfasta"
     ],
     "language": "python",
     "metadata": {},
     "outputs": [
      {
       "output_type": "stream",
       "stream": "stdout",
       "text": [
        "# Wed Jul 28 16:03:40 2010 /share/apps/corona/bin/filter_fasta.pl --output=/data/results/solid0108/Roberts_20100712/CC/results.F1B1/primary.20100728223237391 --name=Roberts_20100712_CC --tag=F3 --minlength=50 --mincalls=25 --prefix=T /data/results/solid0108/Roberts_20100712/CC/jobs/postPrimerSetPrimary.2180/rawseq \r\n",
        "# Cwd: /home/pipeline\r\n",
        "# Title: Roberts_20100712_CC\r\n",
        ">559_5_56_F3\r\n",
        "T.3..22.22..2..22.33.22...210..2120.033000..2.00..1\r\n",
        ">559_5_91_F3\r\n",
        "T.2..00.12..3..22.32..0.....2..11.0.233123..2.22..2\r\n",
        ">559_5_1133_F3\r\n",
        "T.0..22.03..1..12.02..2.....2..23.0.033220..2.01..2\r\n",
        ">559_6_61_F3\r\n"
       ]
      }
     ],
     "prompt_number": 15
    },
    {
     "cell_type": "code",
     "collapsed": false,
     "input": [
      "!perl ../scripts/solid2fastq.pl Roberts_20100712_CC_ Roberts_20100712_CC"
     ],
     "language": "python",
     "metadata": {},
     "outputs": [],
     "prompt_number": 22
    },
    {
     "cell_type": "code",
     "collapsed": false,
     "input": [
      "!perl ../scripts/solid2fastq.pl Roberts_20100712_CE_ Roberts_20100712_CE"
     ],
     "language": "python",
     "metadata": {},
     "outputs": [],
     "prompt_number": 23
    },
    {
     "cell_type": "heading",
     "level": 2,
     "metadata": {},
     "source": [
      "CLC Assembly"
     ]
    },
    {
     "cell_type": "markdown",
     "metadata": {},
     "source": [
      "CLC Version 6 http://eagle.fish.washington.edu/cnidarian/Ab_4denovo_CLC6_a.fa\n",
      "\n",
      "corresponding report http://eagle.fish.washington.edu/cnidarian/Ab_4denovo_CLC6_a_REPORT "
     ]
    },
    {
     "cell_type": "code",
     "collapsed": false,
     "input": [
      "test"
     ],
     "language": "python",
     "metadata": {},
     "outputs": [
      {
       "ename": "NameError",
       "evalue": "name 'test' is not defined",
       "output_type": "pyerr",
       "traceback": [
        "\u001b[0;31m---------------------------------------------------------------------------\u001b[0m\n\u001b[0;31mNameError\u001b[0m                                 Traceback (most recent call last)",
        "\u001b[0;32m<ipython-input-1-d8e8fca2dc0f>\u001b[0m in \u001b[0;36m<module>\u001b[0;34m()\u001b[0m\n\u001b[0;32m----> 1\u001b[0;31m \u001b[0mtest\u001b[0m\u001b[0;34m\u001b[0m\u001b[0m\n\u001b[0m",
        "\u001b[0;31mNameError\u001b[0m: name 'test' is not defined"
       ]
      }
     ],
     "prompt_number": 1
    },
    {
     "cell_type": "code",
     "collapsed": false,
     "input": [],
     "language": "python",
     "metadata": {},
     "outputs": []
    }
   ],
   "metadata": {}
  }
 ]
}
{
 "metadata": {
  "name": "",
  "signature": "sha256:935fccb6d781d7ae16a718d61f81164b837a8687a7a298ecaf4fe6ddceab2777"
 },
 "nbformat": 3,
 "nbformat_minor": 0,
 "worksheets": [
  {
   "cells": [
    {
     "cell_type": "code",
     "collapsed": false,
     "input": [
      "pwd"
     ],
     "language": "python",
     "metadata": {},
     "outputs": [
      {
       "metadata": {},
       "output_type": "pyout",
       "prompt_number": 1,
       "text": [
        "u'/Users/friedmanlab/Documents/fish546-2015/nb'"
       ]
      }
     ],
     "prompt_number": 1
    },
    {
     "cell_type": "code",
     "collapsed": false,
     "input": [
      "cd .."
     ],
     "language": "python",
     "metadata": {},
     "outputs": [
      {
       "output_type": "stream",
       "stream": "stdout",
       "text": [
        "/Users/friedmanlab/Documents/fish546-2015\n"
       ]
      }
     ],
     "prompt_number": 2
    },
    {
     "cell_type": "code",
     "collapsed": false,
     "input": [
      "cd data"
     ],
     "language": "python",
     "metadata": {},
     "outputs": [
      {
       "output_type": "stream",
       "stream": "stdout",
       "text": [
        "/Users/friedmanlab/Documents/fish546-2015/data\n"
       ]
      }
     ],
     "prompt_number": 3
    },
    {
     "cell_type": "code",
     "collapsed": false,
     "input": [
      "!curl -O https://raw.githubusercontent.com/sr320/fish546-2015/master/data/fa/Hcracherodii_v1.fasta"
     ],
     "language": "python",
     "metadata": {},
     "outputs": [
      {
       "output_type": "stream",
       "stream": "stdout",
       "text": [
        "  % Total    % Received % Xferd  Average Speed   Time    Time     Time  Current\r\n",
        "                                 Dload  Upload   Total   Spent    Left  Speed\r\n",
        "\r",
        "  0     0    0     0    0     0      0      0 --:--:-- --:--:-- --:--:--     0"
       ]
      },
      {
       "output_type": "stream",
       "stream": "stdout",
       "text": [
        "\r",
        "  0     0    0     0    0     0      0      0 --:--:--  0:00:01 --:--:--     0"
       ]
      },
      {
       "output_type": "stream",
       "stream": "stdout",
       "text": [
        "\r",
        "  0 2727k    0  7334    0     0   4071      0  0:11:26  0:00:01  0:11:25  4072"
       ]
      },
      {
       "output_type": "stream",
       "stream": "stdout",
       "text": [
        "\r",
        "100 2727k  100 2727k    0     0  1080k      0  0:00:02  0:00:02 --:--:-- 1080k\r\n"
       ]
      }
     ],
     "prompt_number": 4
    },
    {
     "cell_type": "code",
     "collapsed": false,
     "input": [
      "!head Hcracherodii_v1.fasta"
     ],
     "language": "python",
     "metadata": {},
     "outputs": [
      {
       "output_type": "stream",
       "stream": "stdout",
       "text": [
        ">Roberts_20100712_CC_F3_trimmed_contig_1\r\n",
        "CTCCAAGACATGGAGTCGTTACCAGATGAGGATCCACAAGCGAATCATCGATCTGCACAG\r\n",
        "TCCCTCCGAGATTGTGAAGCAGATCACCTCCATCAGCATCGAACCAGGTGTGGAGGTCGA\r\n",
        "GGTTACCATTGCTGACGCATAAAGACATGTAAATGACGGACACGCCTTGGCCGT\r\n",
        ">Roberts_20100712_CC_F3_trimmed_contig_2\r\n",
        "TGACATGTTGCCGACCACCACTATGACAACCACAACGACAACTACAACTACATCTACTCC\r\n",
        "AACGACAACACCAACCACTACAGCGACAACGACAACACCAACCACAACAACGACGACAAC\r\n",
        "CACAACCACATCACCAACCACAACTTCTACAACTACAACTACTACCACACCCTGTCAGCT\r\n",
        "GCTCTCTTGTACACTGGACTGTTCTCTGAATGGCTTCAAGACTGGCCCGGATGGATGTCC\r\n",
        "CGCCTT\r\n"
       ]
      }
     ],
     "prompt_number": 5
    },
    {
     "cell_type": "code",
     "collapsed": false,
     "input": [
      "!sed 's/Roberts_20100712_CC_F3_trimmed/Haliotis_crach_v1/g' Hcracherodii_v1.fasta > Hcrach_v1"
     ],
     "language": "python",
     "metadata": {},
     "outputs": [],
     "prompt_number": 7
    },
    {
     "cell_type": "code",
     "collapsed": false,
     "input": [
      "!mv Hcracherodii_v1.fasta Hcracherodii_v1_old.fasta"
     ],
     "language": "python",
     "metadata": {},
     "outputs": [],
     "prompt_number": 8
    },
    {
     "cell_type": "code",
     "collapsed": false,
     "input": [
      "!mv Hcrach_v1 Hcracherodii_v1.fasta"
     ],
     "language": "python",
     "metadata": {},
     "outputs": [],
     "prompt_number": 9
    },
    {
     "cell_type": "code",
     "collapsed": false,
     "input": [
      "!head Hcracherodii_v1.fasta"
     ],
     "language": "python",
     "metadata": {},
     "outputs": [
      {
       "output_type": "stream",
       "stream": "stdout",
       "text": [
        ">Haliotis_crach_v1_contig_1\r\n",
        "CTCCAAGACATGGAGTCGTTACCAGATGAGGATCCACAAGCGAATCATCGATCTGCACAG\r\n",
        "TCCCTCCGAGATTGTGAAGCAGATCACCTCCATCAGCATCGAACCAGGTGTGGAGGTCGA\r\n",
        "GGTTACCATTGCTGACGCATAAAGACATGTAAATGACGGACACGCCTTGGCCGT\r\n",
        ">Haliotis_crach_v1_contig_2\r\n",
        "TGACATGTTGCCGACCACCACTATGACAACCACAACGACAACTACAACTACATCTACTCC\r\n",
        "AACGACAACACCAACCACTACAGCGACAACGACAACACCAACCACAACAACGACGACAAC\r\n",
        "CACAACCACATCACCAACCACAACTTCTACAACTACAACTACTACCACACCCTGTCAGCT\r\n",
        "GCTCTCTTGTACACTGGACTGTTCTCTGAATGGCTTCAAGACTGGCCCGGATGGATGTCC\r\n",
        "CGCCTT\r\n"
       ]
      }
     ],
     "prompt_number": 11
    },
    {
     "cell_type": "markdown",
     "metadata": {},
     "source": [
      "generic BLAST script"
     ]
    },
    {
     "cell_type": "code",
     "collapsed": false,
     "input": [
      "!blastx \\\n",
      "-query {fa} \\\n",
      "-db {db} \\\n",
      "-max_target_seqs 1 \\\n",
      "-max_hsps 1 \\\n",
      "-outfmt 6 \\\n",
      "-evalue 1E-05 \\\n",
      "-num_threads 6 \\\n",
      "-out ../analyses/{sp}_sprot.tab"
     ],
     "language": "python",
     "metadata": {},
     "outputs": []
    },
    {
     "cell_type": "markdown",
     "metadata": {},
     "source": [
      "actual BLAST script used on hummingbird"
     ]
    },
    {
     "cell_type": "markdown",
     "metadata": {},
     "source": [
      "I used the following commmands on hummingbird\n",
      "```\n",
      "blastx \\\n",
      "-query /Users/srlab/Desktop/Lisa/Hcracherodii_v1.fasta \\\n",
      "-db /Volumes/Data/blast_db/uniprot_sprot \\\n",
      "-max_target_seqs 1 \\\n",
      "-max_hsps 1 \\\n",
      "-outfmt 6 \\\n",
      "-evalue 1E-05 \\\n",
      "-num_threads 16 \\\n",
      "-out /Users/srlab/Desktop/Lisa/Hcracherodii_v1_blastx \\\n",
      "```\n"
     ]
    },
    {
     "cell_type": "code",
     "collapsed": false,
     "input": [],
     "language": "python",
     "metadata": {},
     "outputs": []
    }
   ],
   "metadata": {}
  }
 ]
}